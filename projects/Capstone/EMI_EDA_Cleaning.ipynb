{
 "cells": [
  {
   "cell_type": "markdown",
   "metadata": {},
   "source": [
    "# Raw Data Exploratory Data Analysis and Cleaning"
   ]
  },
  {
   "cell_type": "code",
   "execution_count": 2,
   "metadata": {
    "collapsed": false,
    "scrolled": true
   },
   "outputs": [
    {
     "name": "stderr",
     "output_type": "stream",
     "text": [
      "/Users/johnsnyder/anaconda/lib/python2.7/site-packages/matplotlib/font_manager.py:273: UserWarning: Matplotlib is building the font cache using fc-list. This may take a moment.\n",
      "  warnings.warn('Matplotlib is building the font cache using fc-list. This may take a moment.')\n"
     ]
    }
   ],
   "source": [
    "import numpy as np\n",
    "import pandas as pd\n",
    "from matplotlib import pyplot as plt\n",
    "import psycopg2\n",
    "import statsmodels.api as sm\n",
    "import seaborn as sns\n",
    "%matplotlib inline"
   ]
  },
  {
   "cell_type": "code",
   "execution_count": 3,
   "metadata": {
    "collapsed": false
   },
   "outputs": [],
   "source": [
    "users = pd.read_csv('/Users/johnsnyder/GA-DSI-working/Capstone/EMI/users.csv')"
   ]
  },
  {
   "cell_type": "code",
   "execution_count": 4,
   "metadata": {
    "collapsed": false
   },
   "outputs": [
    {
     "name": "stderr",
     "output_type": "stream",
     "text": [
      "/Users/johnsnyder/anaconda/lib/python2.7/site-packages/numpy/lib/function_base.py:4116: RuntimeWarning: Invalid value encountered in percentile\n",
      "  interpolation=interpolation)\n"
     ]
    },
    {
     "data": {
      "text/html": [
       "<div>\n",
       "<table border=\"1\" class=\"dataframe\">\n",
       "  <thead>\n",
       "    <tr style=\"text-align: right;\">\n",
       "      <th></th>\n",
       "      <th>RESPID</th>\n",
       "      <th>AGE</th>\n",
       "      <th>Q1</th>\n",
       "      <th>Q2</th>\n",
       "      <th>Q3</th>\n",
       "      <th>Q4</th>\n",
       "      <th>Q5</th>\n",
       "      <th>Q6</th>\n",
       "      <th>Q7</th>\n",
       "      <th>Q8</th>\n",
       "      <th>...</th>\n",
       "      <th>Q10</th>\n",
       "      <th>Q11</th>\n",
       "      <th>Q12</th>\n",
       "      <th>Q13</th>\n",
       "      <th>Q14</th>\n",
       "      <th>Q15</th>\n",
       "      <th>Q16</th>\n",
       "      <th>Q17</th>\n",
       "      <th>Q18</th>\n",
       "      <th>Q19</th>\n",
       "    </tr>\n",
       "  </thead>\n",
       "  <tbody>\n",
       "    <tr>\n",
       "      <th>count</th>\n",
       "      <td>48645.000000</td>\n",
       "      <td>48178.000000</td>\n",
       "      <td>48645.000000</td>\n",
       "      <td>48645.000000</td>\n",
       "      <td>48645.000000</td>\n",
       "      <td>48645.000000</td>\n",
       "      <td>48645.000000</td>\n",
       "      <td>48645.000000</td>\n",
       "      <td>48645.000000</td>\n",
       "      <td>48645.000000</td>\n",
       "      <td>...</td>\n",
       "      <td>48645.000000</td>\n",
       "      <td>48645.000000</td>\n",
       "      <td>48645.000000</td>\n",
       "      <td>48645.000000</td>\n",
       "      <td>48645.000000</td>\n",
       "      <td>48645.000000</td>\n",
       "      <td>42210.000000</td>\n",
       "      <td>48645.000000</td>\n",
       "      <td>35520.000000</td>\n",
       "      <td>35520.000000</td>\n",
       "    </tr>\n",
       "    <tr>\n",
       "      <th>mean</th>\n",
       "      <td>25562.400391</td>\n",
       "      <td>39.277180</td>\n",
       "      <td>49.113570</td>\n",
       "      <td>54.624422</td>\n",
       "      <td>51.284449</td>\n",
       "      <td>37.309125</td>\n",
       "      <td>34.585430</td>\n",
       "      <td>39.333615</td>\n",
       "      <td>33.845330</td>\n",
       "      <td>29.161743</td>\n",
       "      <td>...</td>\n",
       "      <td>55.011029</td>\n",
       "      <td>58.636433</td>\n",
       "      <td>53.665898</td>\n",
       "      <td>46.962657</td>\n",
       "      <td>53.446437</td>\n",
       "      <td>39.664562</td>\n",
       "      <td>35.579258</td>\n",
       "      <td>53.826288</td>\n",
       "      <td>42.232447</td>\n",
       "      <td>41.362631</td>\n",
       "    </tr>\n",
       "    <tr>\n",
       "      <th>std</th>\n",
       "      <td>15033.356108</td>\n",
       "      <td>15.955373</td>\n",
       "      <td>27.545252</td>\n",
       "      <td>23.770780</td>\n",
       "      <td>26.487641</td>\n",
       "      <td>23.598351</td>\n",
       "      <td>23.234577</td>\n",
       "      <td>25.744281</td>\n",
       "      <td>25.782182</td>\n",
       "      <td>24.267965</td>\n",
       "      <td>...</td>\n",
       "      <td>25.486398</td>\n",
       "      <td>23.837543</td>\n",
       "      <td>25.389724</td>\n",
       "      <td>26.664165</td>\n",
       "      <td>25.795551</td>\n",
       "      <td>26.061055</td>\n",
       "      <td>25.374290</td>\n",
       "      <td>25.891354</td>\n",
       "      <td>25.680349</td>\n",
       "      <td>26.455730</td>\n",
       "    </tr>\n",
       "    <tr>\n",
       "      <th>min</th>\n",
       "      <td>0.000000</td>\n",
       "      <td>13.000000</td>\n",
       "      <td>0.000000</td>\n",
       "      <td>0.000000</td>\n",
       "      <td>0.000000</td>\n",
       "      <td>0.000000</td>\n",
       "      <td>0.000000</td>\n",
       "      <td>0.000000</td>\n",
       "      <td>0.000000</td>\n",
       "      <td>0.000000</td>\n",
       "      <td>...</td>\n",
       "      <td>0.000000</td>\n",
       "      <td>0.000000</td>\n",
       "      <td>0.000000</td>\n",
       "      <td>0.000000</td>\n",
       "      <td>0.000000</td>\n",
       "      <td>0.000000</td>\n",
       "      <td>0.000000</td>\n",
       "      <td>0.000000</td>\n",
       "      <td>0.000000</td>\n",
       "      <td>0.000000</td>\n",
       "    </tr>\n",
       "    <tr>\n",
       "      <th>25%</th>\n",
       "      <td>12161.000000</td>\n",
       "      <td>NaN</td>\n",
       "      <td>28.000000</td>\n",
       "      <td>44.000000</td>\n",
       "      <td>31.000000</td>\n",
       "      <td>14.000000</td>\n",
       "      <td>12.000000</td>\n",
       "      <td>14.000000</td>\n",
       "      <td>10.000000</td>\n",
       "      <td>9.000000</td>\n",
       "      <td>...</td>\n",
       "      <td>41.000000</td>\n",
       "      <td>48.000000</td>\n",
       "      <td>36.000000</td>\n",
       "      <td>28.000000</td>\n",
       "      <td>33.000000</td>\n",
       "      <td>13.000000</td>\n",
       "      <td>NaN</td>\n",
       "      <td>35.000000</td>\n",
       "      <td>NaN</td>\n",
       "      <td>NaN</td>\n",
       "    </tr>\n",
       "    <tr>\n",
       "      <th>50%</th>\n",
       "      <td>26605.000000</td>\n",
       "      <td>NaN</td>\n",
       "      <td>51.000000</td>\n",
       "      <td>53.000000</td>\n",
       "      <td>52.000000</td>\n",
       "      <td>34.000000</td>\n",
       "      <td>32.000000</td>\n",
       "      <td>35.000000</td>\n",
       "      <td>30.000000</td>\n",
       "      <td>23.000000</td>\n",
       "      <td>...</td>\n",
       "      <td>53.000000</td>\n",
       "      <td>64.000000</td>\n",
       "      <td>54.000000</td>\n",
       "      <td>50.000000</td>\n",
       "      <td>53.000000</td>\n",
       "      <td>37.000000</td>\n",
       "      <td>NaN</td>\n",
       "      <td>56.000000</td>\n",
       "      <td>NaN</td>\n",
       "      <td>NaN</td>\n",
       "    </tr>\n",
       "    <tr>\n",
       "      <th>75%</th>\n",
       "      <td>38766.000000</td>\n",
       "      <td>NaN</td>\n",
       "      <td>70.000000</td>\n",
       "      <td>71.000000</td>\n",
       "      <td>71.000000</td>\n",
       "      <td>52.000000</td>\n",
       "      <td>51.000000</td>\n",
       "      <td>53.000000</td>\n",
       "      <td>52.000000</td>\n",
       "      <td>49.000000</td>\n",
       "      <td>...</td>\n",
       "      <td>72.000000</td>\n",
       "      <td>73.000000</td>\n",
       "      <td>71.000000</td>\n",
       "      <td>68.000000</td>\n",
       "      <td>71.000000</td>\n",
       "      <td>56.000000</td>\n",
       "      <td>NaN</td>\n",
       "      <td>71.000000</td>\n",
       "      <td>NaN</td>\n",
       "      <td>NaN</td>\n",
       "    </tr>\n",
       "    <tr>\n",
       "      <th>max</th>\n",
       "      <td>50927.000000</td>\n",
       "      <td>94.000000</td>\n",
       "      <td>100.000000</td>\n",
       "      <td>100.000000</td>\n",
       "      <td>100.000000</td>\n",
       "      <td>100.000000</td>\n",
       "      <td>100.000000</td>\n",
       "      <td>100.000000</td>\n",
       "      <td>100.000000</td>\n",
       "      <td>100.000000</td>\n",
       "      <td>...</td>\n",
       "      <td>100.000000</td>\n",
       "      <td>100.000000</td>\n",
       "      <td>100.000000</td>\n",
       "      <td>100.000000</td>\n",
       "      <td>100.000000</td>\n",
       "      <td>100.000000</td>\n",
       "      <td>100.000000</td>\n",
       "      <td>100.000000</td>\n",
       "      <td>100.000000</td>\n",
       "      <td>100.000000</td>\n",
       "    </tr>\n",
       "  </tbody>\n",
       "</table>\n",
       "<p>8 rows × 21 columns</p>\n",
       "</div>"
      ],
      "text/plain": [
       "             RESPID           AGE            Q1            Q2            Q3  \\\n",
       "count  48645.000000  48178.000000  48645.000000  48645.000000  48645.000000   \n",
       "mean   25562.400391     39.277180     49.113570     54.624422     51.284449   \n",
       "std    15033.356108     15.955373     27.545252     23.770780     26.487641   \n",
       "min        0.000000     13.000000      0.000000      0.000000      0.000000   \n",
       "25%    12161.000000           NaN     28.000000     44.000000     31.000000   \n",
       "50%    26605.000000           NaN     51.000000     53.000000     52.000000   \n",
       "75%    38766.000000           NaN     70.000000     71.000000     71.000000   \n",
       "max    50927.000000     94.000000    100.000000    100.000000    100.000000   \n",
       "\n",
       "                 Q4            Q5            Q6            Q7            Q8  \\\n",
       "count  48645.000000  48645.000000  48645.000000  48645.000000  48645.000000   \n",
       "mean      37.309125     34.585430     39.333615     33.845330     29.161743   \n",
       "std       23.598351     23.234577     25.744281     25.782182     24.267965   \n",
       "min        0.000000      0.000000      0.000000      0.000000      0.000000   \n",
       "25%       14.000000     12.000000     14.000000     10.000000      9.000000   \n",
       "50%       34.000000     32.000000     35.000000     30.000000     23.000000   \n",
       "75%       52.000000     51.000000     53.000000     52.000000     49.000000   \n",
       "max      100.000000    100.000000    100.000000    100.000000    100.000000   \n",
       "\n",
       "           ...                Q10           Q11           Q12           Q13  \\\n",
       "count      ...       48645.000000  48645.000000  48645.000000  48645.000000   \n",
       "mean       ...          55.011029     58.636433     53.665898     46.962657   \n",
       "std        ...          25.486398     23.837543     25.389724     26.664165   \n",
       "min        ...           0.000000      0.000000      0.000000      0.000000   \n",
       "25%        ...          41.000000     48.000000     36.000000     28.000000   \n",
       "50%        ...          53.000000     64.000000     54.000000     50.000000   \n",
       "75%        ...          72.000000     73.000000     71.000000     68.000000   \n",
       "max        ...         100.000000    100.000000    100.000000    100.000000   \n",
       "\n",
       "                Q14           Q15           Q16           Q17           Q18  \\\n",
       "count  48645.000000  48645.000000  42210.000000  48645.000000  35520.000000   \n",
       "mean      53.446437     39.664562     35.579258     53.826288     42.232447   \n",
       "std       25.795551     26.061055     25.374290     25.891354     25.680349   \n",
       "min        0.000000      0.000000      0.000000      0.000000      0.000000   \n",
       "25%       33.000000     13.000000           NaN     35.000000           NaN   \n",
       "50%       53.000000     37.000000           NaN     56.000000           NaN   \n",
       "75%       71.000000     56.000000           NaN     71.000000           NaN   \n",
       "max      100.000000    100.000000    100.000000    100.000000    100.000000   \n",
       "\n",
       "                Q19  \n",
       "count  35520.000000  \n",
       "mean      41.362631  \n",
       "std       26.455730  \n",
       "min        0.000000  \n",
       "25%             NaN  \n",
       "50%             NaN  \n",
       "75%             NaN  \n",
       "max      100.000000  \n",
       "\n",
       "[8 rows x 21 columns]"
      ]
     },
     "execution_count": 4,
     "metadata": {},
     "output_type": "execute_result"
    }
   ],
   "source": [
    "users.describe()"
   ]
  },
  {
   "cell_type": "markdown",
   "metadata": {},
   "source": [
    "## Basic respondent information\n",
    "**Age** --\n",
    "Mean age is 39.28 years. Youngest is 13, oldest is 94."
   ]
  },
  {
   "cell_type": "code",
   "execution_count": 5,
   "metadata": {
    "collapsed": false
   },
   "outputs": [
    {
     "data": {
      "text/plain": [
       "<matplotlib.text.Text at 0x10434e690>"
      ]
     },
     "execution_count": 5,
     "metadata": {},
     "output_type": "execute_result"
    },
    {
     "data": {
      "image/png": "[encoded data removed]",
      "text/plain": [
       "<matplotlib.figure.Figure at 0x1154aaf10>"
      ]
     },
     "metadata": {},
     "output_type": "display_data"
    }
   ],
   "source": [
    "plt.title('Distribution of Respondent Age')\n",
    "sns.distplot(users['AGE'].dropna(),bins=30, kde=False, color='b')\n",
    "plt.xlabel('Age')\n",
    "plt.ylabel('Count')"
   ]
  },
  {
   "cell_type": "markdown",
   "metadata": {},
   "source": [
    "## Notes for analysis\n",
    "**Normalizing data**\n",
    "\n",
    "Questions 1-19 can be normalized by dividing by 100, since max is 100 and min is 0 for all responses."
   ]
  },
  {
   "cell_type": "code",
   "execution_count": 6,
   "metadata": {
    "collapsed": false
   },
   "outputs": [],
   "source": [
    "userkey = pd.read_csv('/Users/johnsnyder/GA-DSI-working/Capstone/EMI/UserKey.csv',usecols=[0,1],header=None)"
   ]
  },
  {
   "cell_type": "code",
   "execution_count": null,
   "metadata": {
    "collapsed": false
   },
   "outputs": [],
   "source": []
  },
  {
   "cell_type": "code",
   "execution_count": 7,
   "metadata": {
    "collapsed": false
   },
   "outputs": [],
   "source": [
    "userkey_list = userkey.values.tolist()\n",
    "new_cols = []\n",
    "counter = 0\n",
    "for i in userkey_list:\n",
    "    if counter >= 7:\n",
    "        new_cols.append(i[1])\n",
    "    else:\n",
    "        new_cols.append(i[0])\n",
    "    counter += 1"
   ]
  },
  {
   "cell_type": "code",
   "execution_count": 8,
   "metadata": {
    "collapsed": false
   },
   "outputs": [
    {
     "data": {
      "text/plain": [
       "['RESPID',\n",
       " 'GENDER',\n",
       " 'AGE',\n",
       " 'WORKING',\n",
       " 'REGION',\n",
       " 'MUSIC',\n",
       " 'LIST_OWN',\n",
       " 'Listening to music that may be on in the background (e.g. the radio or a streaming service like last.fm) -',\n",
       " 'I enjoy actively searching for and discovering music that I have never heard before (Thinking now about music',\n",
       " 'I find it easy to find new music (Thinking now about music',\n",
       " 'I am constantly interested in and looking for more music (Thinking now about music',\n",
       " 'I would like to buy new music but I don\\x89\\xdb\\xaat know what to buy (Thinking now about music',\n",
       " 'I used to know where to find music',\n",
       " 'I am not willing to pay for music (Thinking now about music',\n",
       " 'I enjoy music primarily from going out to dance (Thinking now about music',\n",
       " 'Music for me is all about nightlife and going out (Thinking now about music',\n",
       " 'I am out of touch with new music (Thinking now about music',\n",
       " 'My music collection is a source of pride (Thinking now about music',\n",
       " 'Pop music is fun',\n",
       " 'Pop music helps me to escape (Thinking now about music',\n",
       " 'I want a multi media experience at my fingertips wherever I go (Thinking now about music',\n",
       " 'I love technology',\n",
       " 'People often ask my advice on music - what to listen to',\n",
       " 'I would be willing to pay for the opportunity to buy new music pre-release - Thinking now about music',\n",
       " 'I find seeing a new artist / band on TV a useful way of discovering new music (Thinking now about music',\n",
       " 'I like to be at the cutting edge of new music (Thinking now about music',\n",
       " 'I like to know about music before other people (Thinking now about music']"
      ]
     },
     "execution_count": 8,
     "metadata": {},
     "output_type": "execute_result"
    }
   ],
   "source": [
    "new_cols"
   ]
  },
  {
   "cell_type": "code",
   "execution_count": 9,
   "metadata": {
    "collapsed": false
   },
   "outputs": [],
   "source": [
    "users_w_headers = pd.read_csv('/Users/johnsnyder/GA-DSI-working/Capstone/EMI/users_clean.csv')"
   ]
  },
  {
   "cell_type": "code",
   "execution_count": 10,
   "metadata": {
    "collapsed": false
   },
   "outputs": [
    {
     "data": {
      "text/html": [
       "<div>\n",
       "<table border=\"1\" class=\"dataframe\">\n",
       "  <thead>\n",
       "    <tr style=\"text-align: right;\">\n",
       "      <th></th>\n",
       "      <th>RESPID</th>\n",
       "      <th>GENDER</th>\n",
       "      <th>AGE</th>\n",
       "      <th>WORKING</th>\n",
       "      <th>REGION</th>\n",
       "      <th>MUSIC</th>\n",
       "      <th>LIST_OWN</th>\n",
       "      <th>LIST_BACK</th>\n",
       "      <th>Q1</th>\n",
       "      <th>Q2</th>\n",
       "      <th>...</th>\n",
       "      <th>Q10</th>\n",
       "      <th>Q11</th>\n",
       "      <th>Q12</th>\n",
       "      <th>Q13</th>\n",
       "      <th>Q14</th>\n",
       "      <th>Q15</th>\n",
       "      <th>Q16</th>\n",
       "      <th>Q17</th>\n",
       "      <th>Q18</th>\n",
       "      <th>Q19</th>\n",
       "    </tr>\n",
       "  </thead>\n",
       "  <tbody>\n",
       "    <tr>\n",
       "      <th>0</th>\n",
       "      <td>36927</td>\n",
       "      <td>Female</td>\n",
       "      <td>60.0</td>\n",
       "      <td>Other</td>\n",
       "      <td>South</td>\n",
       "      <td>Music is important to me but not necessarily m...</td>\n",
       "      <td>1.0</td>\n",
       "      <td>NaN</td>\n",
       "      <td>49.0</td>\n",
       "      <td>50.0</td>\n",
       "      <td>...</td>\n",
       "      <td>50.0</td>\n",
       "      <td>50.0</td>\n",
       "      <td>71.0</td>\n",
       "      <td>52.0</td>\n",
       "      <td>71.0</td>\n",
       "      <td>9.0</td>\n",
       "      <td>7.0</td>\n",
       "      <td>72.0</td>\n",
       "      <td>49.0</td>\n",
       "      <td>26.0</td>\n",
       "    </tr>\n",
       "    <tr>\n",
       "      <th>1</th>\n",
       "      <td>3566</td>\n",
       "      <td>Female</td>\n",
       "      <td>36.0</td>\n",
       "      <td>Full-time housewife / househusband</td>\n",
       "      <td>South</td>\n",
       "      <td>Music is important to me but not necessarily m...</td>\n",
       "      <td>1.0</td>\n",
       "      <td>1.0</td>\n",
       "      <td>55.0</td>\n",
       "      <td>55.0</td>\n",
       "      <td>...</td>\n",
       "      <td>12.0</td>\n",
       "      <td>65.0</td>\n",
       "      <td>65.0</td>\n",
       "      <td>80.0</td>\n",
       "      <td>79.0</td>\n",
       "      <td>51.0</td>\n",
       "      <td>31.0</td>\n",
       "      <td>68.0</td>\n",
       "      <td>54.0</td>\n",
       "      <td>33.0</td>\n",
       "    </tr>\n",
       "  </tbody>\n",
       "</table>\n",
       "<p>2 rows × 27 columns</p>\n",
       "</div>"
      ],
      "text/plain": [
       "   RESPID  GENDER   AGE                             WORKING REGION  \\\n",
       "0   36927  Female  60.0                               Other  South   \n",
       "1    3566  Female  36.0  Full-time housewife / househusband  South   \n",
       "\n",
       "                                               MUSIC  LIST_OWN  LIST_BACK  \\\n",
       "0  Music is important to me but not necessarily m...       1.0        NaN   \n",
       "1  Music is important to me but not necessarily m...       1.0        1.0   \n",
       "\n",
       "     Q1    Q2  ...    Q10   Q11   Q12   Q13   Q14   Q15   Q16   Q17   Q18  \\\n",
       "0  49.0  50.0  ...   50.0  50.0  71.0  52.0  71.0   9.0   7.0  72.0  49.0   \n",
       "1  55.0  55.0  ...   12.0  65.0  65.0  80.0  79.0  51.0  31.0  68.0  54.0   \n",
       "\n",
       "    Q19  \n",
       "0  26.0  \n",
       "1  33.0  \n",
       "\n",
       "[2 rows x 27 columns]"
      ]
     },
     "execution_count": 10,
     "metadata": {},
     "output_type": "execute_result"
    }
   ],
   "source": [
    "users_w_headers.ix[:,1:].head(2)"
   ]
  },
  {
   "cell_type": "code",
   "execution_count": 11,
   "metadata": {
    "collapsed": false
   },
   "outputs": [],
   "source": [
    "users_w_headers.ix[:,1:].columns = new_cols\n",
    "users_w_headers = users_w_headers.drop('Unnamed: 0',axis=1)"
   ]
  },
  {
   "cell_type": "code",
   "execution_count": 12,
   "metadata": {
    "collapsed": false
   },
   "outputs": [
    {
     "data": {
      "text/html": [
       "<div>\n",
       "<table border=\"1\" class=\"dataframe\">\n",
       "  <thead>\n",
       "    <tr style=\"text-align: right;\">\n",
       "      <th></th>\n",
       "      <th>RESPID</th>\n",
       "      <th>GENDER</th>\n",
       "      <th>AGE</th>\n",
       "      <th>WORKING</th>\n",
       "      <th>REGION</th>\n",
       "      <th>MUSIC</th>\n",
       "      <th>LIST_OWN</th>\n",
       "      <th>LIST_BACK</th>\n",
       "      <th>Q1</th>\n",
       "      <th>Q2</th>\n",
       "      <th>...</th>\n",
       "      <th>Q10</th>\n",
       "      <th>Q11</th>\n",
       "      <th>Q12</th>\n",
       "      <th>Q13</th>\n",
       "      <th>Q14</th>\n",
       "      <th>Q15</th>\n",
       "      <th>Q16</th>\n",
       "      <th>Q17</th>\n",
       "      <th>Q18</th>\n",
       "      <th>Q19</th>\n",
       "    </tr>\n",
       "  </thead>\n",
       "  <tbody>\n",
       "    <tr>\n",
       "      <th>0</th>\n",
       "      <td>36927</td>\n",
       "      <td>Female</td>\n",
       "      <td>60.0</td>\n",
       "      <td>Other</td>\n",
       "      <td>South</td>\n",
       "      <td>Music is important to me but not necessarily m...</td>\n",
       "      <td>1.0</td>\n",
       "      <td>NaN</td>\n",
       "      <td>49.0</td>\n",
       "      <td>50.0</td>\n",
       "      <td>...</td>\n",
       "      <td>50.0</td>\n",
       "      <td>50.0</td>\n",
       "      <td>71.0</td>\n",
       "      <td>52.0</td>\n",
       "      <td>71.0</td>\n",
       "      <td>9.0</td>\n",
       "      <td>7.0</td>\n",
       "      <td>72.0</td>\n",
       "      <td>49.0</td>\n",
       "      <td>26.0</td>\n",
       "    </tr>\n",
       "    <tr>\n",
       "      <th>1</th>\n",
       "      <td>3566</td>\n",
       "      <td>Female</td>\n",
       "      <td>36.0</td>\n",
       "      <td>Full-time housewife / househusband</td>\n",
       "      <td>South</td>\n",
       "      <td>Music is important to me but not necessarily m...</td>\n",
       "      <td>1.0</td>\n",
       "      <td>1.0</td>\n",
       "      <td>55.0</td>\n",
       "      <td>55.0</td>\n",
       "      <td>...</td>\n",
       "      <td>12.0</td>\n",
       "      <td>65.0</td>\n",
       "      <td>65.0</td>\n",
       "      <td>80.0</td>\n",
       "      <td>79.0</td>\n",
       "      <td>51.0</td>\n",
       "      <td>31.0</td>\n",
       "      <td>68.0</td>\n",
       "      <td>54.0</td>\n",
       "      <td>33.0</td>\n",
       "    </tr>\n",
       "    <tr>\n",
       "      <th>2</th>\n",
       "      <td>20054</td>\n",
       "      <td>Female</td>\n",
       "      <td>52.0</td>\n",
       "      <td>Employed 30+ hours a week</td>\n",
       "      <td>Midlands</td>\n",
       "      <td>I like music but it does not feature heavily i...</td>\n",
       "      <td>1.0</td>\n",
       "      <td>0.0</td>\n",
       "      <td>11.0</td>\n",
       "      <td>50.0</td>\n",
       "      <td>...</td>\n",
       "      <td>50.0</td>\n",
       "      <td>94.0</td>\n",
       "      <td>51.0</td>\n",
       "      <td>74.0</td>\n",
       "      <td>66.0</td>\n",
       "      <td>27.0</td>\n",
       "      <td>46.0</td>\n",
       "      <td>73.0</td>\n",
       "      <td>8.0</td>\n",
       "      <td>31.0</td>\n",
       "    </tr>\n",
       "  </tbody>\n",
       "</table>\n",
       "<p>3 rows × 27 columns</p>\n",
       "</div>"
      ],
      "text/plain": [
       "   RESPID  GENDER   AGE                             WORKING    REGION  \\\n",
       "0   36927  Female  60.0                               Other     South   \n",
       "1    3566  Female  36.0  Full-time housewife / househusband     South   \n",
       "2   20054  Female  52.0           Employed 30+ hours a week  Midlands   \n",
       "\n",
       "                                               MUSIC  LIST_OWN  LIST_BACK  \\\n",
       "0  Music is important to me but not necessarily m...       1.0        NaN   \n",
       "1  Music is important to me but not necessarily m...       1.0        1.0   \n",
       "2  I like music but it does not feature heavily i...       1.0        0.0   \n",
       "\n",
       "     Q1    Q2  ...    Q10   Q11   Q12   Q13   Q14   Q15   Q16   Q17   Q18  \\\n",
       "0  49.0  50.0  ...   50.0  50.0  71.0  52.0  71.0   9.0   7.0  72.0  49.0   \n",
       "1  55.0  55.0  ...   12.0  65.0  65.0  80.0  79.0  51.0  31.0  68.0  54.0   \n",
       "2  11.0  50.0  ...   50.0  94.0  51.0  74.0  66.0  27.0  46.0  73.0   8.0   \n",
       "\n",
       "    Q19  \n",
       "0  26.0  \n",
       "1  33.0  \n",
       "2  31.0  \n",
       "\n",
       "[3 rows x 27 columns]"
      ]
     },
     "execution_count": 12,
     "metadata": {},
     "output_type": "execute_result"
    }
   ],
   "source": [
    "users_w_headers.head(3)"
   ]
  },
  {
   "cell_type": "code",
   "execution_count": 13,
   "metadata": {
    "collapsed": false
   },
   "outputs": [],
   "source": [
    "user_histplot = users.loc[:,['Q1','Q2','Q3','Q4','Q5','Q6','Q7','Q8','Q9','Q10',\n",
    "                             'Q11','Q12','Q13','Q14','Q15','Q16','Q17','Q18','Q19']]"
   ]
  },
  {
   "cell_type": "code",
   "execution_count": 14,
   "metadata": {
    "collapsed": false
   },
   "outputs": [
    {
     "data": {
      "image/png": "[encoded data removed]",
      "text/plain": [
       "<matplotlib.figure.Figure at 0x104364e90>"
      ]
     },
     "metadata": {},
     "output_type": "display_data"
    }
   ],
   "source": [
    "for i in user_histplot:\n",
    "    users[i].hist(bins=50,alpha=0.1)"
   ]
  },
  {
   "cell_type": "code",
   "execution_count": 15,
   "metadata": {
    "collapsed": false
   },
   "outputs": [
    {
     "data": {
      "text/html": [
       "<div>\n",
       "<table border=\"1\" class=\"dataframe\">\n",
       "  <thead>\n",
       "    <tr style=\"text-align: right;\">\n",
       "      <th></th>\n",
       "      <th>0</th>\n",
       "      <th>1</th>\n",
       "    </tr>\n",
       "  </thead>\n",
       "  <tbody>\n",
       "    <tr>\n",
       "      <th>0</th>\n",
       "      <td>RESPID</td>\n",
       "      <td>User id</td>\n",
       "    </tr>\n",
       "    <tr>\n",
       "      <th>1</th>\n",
       "      <td>GENDER</td>\n",
       "      <td>Male/Female</td>\n",
       "    </tr>\n",
       "    <tr>\n",
       "      <th>2</th>\n",
       "      <td>AGE</td>\n",
       "      <td>Age in years</td>\n",
       "    </tr>\n",
       "    <tr>\n",
       "      <th>3</th>\n",
       "      <td>WORKING</td>\n",
       "      <td>Working status</td>\n",
       "    </tr>\n",
       "    <tr>\n",
       "      <th>4</th>\n",
       "      <td>REGION</td>\n",
       "      <td>Region of the UK</td>\n",
       "    </tr>\n",
       "    <tr>\n",
       "      <th>5</th>\n",
       "      <td>MUSIC</td>\n",
       "      <td>Listening to music that you have chosen / boug...</td>\n",
       "    </tr>\n",
       "    <tr>\n",
       "      <th>6</th>\n",
       "      <td>LIST_OWN</td>\n",
       "      <td>Listening to music that may be on in the backg...</td>\n",
       "    </tr>\n",
       "    <tr>\n",
       "      <th>7</th>\n",
       "      <td>LIST_BACK</td>\n",
       "      <td>Listening to music that may be on in the backg...</td>\n",
       "    </tr>\n",
       "    <tr>\n",
       "      <th>8</th>\n",
       "      <td>Q1</td>\n",
       "      <td>I enjoy actively searching for and discovering...</td>\n",
       "    </tr>\n",
       "    <tr>\n",
       "      <th>9</th>\n",
       "      <td>Q2</td>\n",
       "      <td>I find it easy to find new music (Thinking now...</td>\n",
       "    </tr>\n",
       "    <tr>\n",
       "      <th>10</th>\n",
       "      <td>Q3</td>\n",
       "      <td>I am constantly interested in and looking for ...</td>\n",
       "    </tr>\n",
       "    <tr>\n",
       "      <th>11</th>\n",
       "      <td>Q4</td>\n",
       "      <td>I would like to buy new music but I don�۪t kno...</td>\n",
       "    </tr>\n",
       "    <tr>\n",
       "      <th>12</th>\n",
       "      <td>Q5</td>\n",
       "      <td>I used to know where to find music</td>\n",
       "    </tr>\n",
       "    <tr>\n",
       "      <th>13</th>\n",
       "      <td>Q6</td>\n",
       "      <td>I am not willing to pay for music (Thinking no...</td>\n",
       "    </tr>\n",
       "    <tr>\n",
       "      <th>14</th>\n",
       "      <td>Q7</td>\n",
       "      <td>I enjoy music primarily from going out to danc...</td>\n",
       "    </tr>\n",
       "    <tr>\n",
       "      <th>15</th>\n",
       "      <td>Q8</td>\n",
       "      <td>Music for me is all about nightlife and going ...</td>\n",
       "    </tr>\n",
       "    <tr>\n",
       "      <th>16</th>\n",
       "      <td>Q9</td>\n",
       "      <td>I am out of touch with new music (Thinking now...</td>\n",
       "    </tr>\n",
       "    <tr>\n",
       "      <th>17</th>\n",
       "      <td>Q10</td>\n",
       "      <td>My music collection is a source of pride (Thin...</td>\n",
       "    </tr>\n",
       "    <tr>\n",
       "      <th>18</th>\n",
       "      <td>Q11</td>\n",
       "      <td>Pop music is fun</td>\n",
       "    </tr>\n",
       "    <tr>\n",
       "      <th>19</th>\n",
       "      <td>Q12</td>\n",
       "      <td>Pop music helps me to escape (Thinking now abo...</td>\n",
       "    </tr>\n",
       "    <tr>\n",
       "      <th>20</th>\n",
       "      <td>Q13</td>\n",
       "      <td>I want a multi media experience at my fingerti...</td>\n",
       "    </tr>\n",
       "    <tr>\n",
       "      <th>21</th>\n",
       "      <td>Q14</td>\n",
       "      <td>I love technology</td>\n",
       "    </tr>\n",
       "    <tr>\n",
       "      <th>22</th>\n",
       "      <td>Q15</td>\n",
       "      <td>People often ask my advice on music - what to ...</td>\n",
       "    </tr>\n",
       "    <tr>\n",
       "      <th>23</th>\n",
       "      <td>Q16</td>\n",
       "      <td>I would be willing to pay for the opportunity ...</td>\n",
       "    </tr>\n",
       "    <tr>\n",
       "      <th>24</th>\n",
       "      <td>Q17</td>\n",
       "      <td>I find seeing a new artist / band on TV a usef...</td>\n",
       "    </tr>\n",
       "    <tr>\n",
       "      <th>25</th>\n",
       "      <td>Q18</td>\n",
       "      <td>I like to be at the cutting edge of new music ...</td>\n",
       "    </tr>\n",
       "    <tr>\n",
       "      <th>26</th>\n",
       "      <td>Q19</td>\n",
       "      <td>I like to know about music before other people...</td>\n",
       "    </tr>\n",
       "  </tbody>\n",
       "</table>\n",
       "</div>"
      ],
      "text/plain": [
       "            0                                                  1\n",
       "0      RESPID                                            User id\n",
       "1      GENDER                                        Male/Female\n",
       "2         AGE                                       Age in years\n",
       "3     WORKING                                     Working status\n",
       "4      REGION                                   Region of the UK\n",
       "5       MUSIC  Listening to music that you have chosen / boug...\n",
       "6    LIST_OWN  Listening to music that may be on in the backg...\n",
       "7   LIST_BACK  Listening to music that may be on in the backg...\n",
       "8          Q1  I enjoy actively searching for and discovering...\n",
       "9          Q2  I find it easy to find new music (Thinking now...\n",
       "10         Q3  I am constantly interested in and looking for ...\n",
       "11         Q4  I would like to buy new music but I don�۪t kno...\n",
       "12         Q5                 I used to know where to find music\n",
       "13         Q6  I am not willing to pay for music (Thinking no...\n",
       "14         Q7  I enjoy music primarily from going out to danc...\n",
       "15         Q8  Music for me is all about nightlife and going ...\n",
       "16         Q9  I am out of touch with new music (Thinking now...\n",
       "17        Q10  My music collection is a source of pride (Thin...\n",
       "18        Q11                                   Pop music is fun\n",
       "19        Q12  Pop music helps me to escape (Thinking now abo...\n",
       "20        Q13  I want a multi media experience at my fingerti...\n",
       "21        Q14                                  I love technology\n",
       "22        Q15  People often ask my advice on music - what to ...\n",
       "23        Q16  I would be willing to pay for the opportunity ...\n",
       "24        Q17  I find seeing a new artist / band on TV a usef...\n",
       "25        Q18  I like to be at the cutting edge of new music ...\n",
       "26        Q19  I like to know about music before other people..."
      ]
     },
     "execution_count": 15,
     "metadata": {},
     "output_type": "execute_result"
    }
   ],
   "source": [
    "userkey"
   ]
  },
  {
   "cell_type": "code",
   "execution_count": 16,
   "metadata": {
    "collapsed": false
   },
   "outputs": [
    {
     "data": {
      "image/png": "[encoded data removed]",
      "text/plain": [
       "<matplotlib.figure.Figure at 0x1164b24d0>"
      ]
     },
     "metadata": {},
     "output_type": "display_data"
    }
   ],
   "source": [
    "user_histplot.hist(xlabelsize=5,ylabelsize=7,bins=50, layout=(7,3),figsize=(15,15),sharey=True,alpha=0.2);\n"
   ]
  },
  {
   "cell_type": "markdown",
   "metadata": {},
   "source": [
    "### In general, there are peaks around 10/15, 30, 50, and 70 across answers to all questions."
   ]
  },
  {
   "cell_type": "code",
   "execution_count": 17,
   "metadata": {
    "collapsed": false,
    "scrolled": true
   },
   "outputs": [
    {
     "name": "stdout",
     "output_type": "stream",
     "text": [
      "Female    24503\n",
      "Male      24142\n",
      "Name: GENDER, dtype: int64\n",
      "24.0    1403\n",
      "23.0    1234\n",
      "14.0    1156\n",
      "22.0    1119\n",
      "21.0    1110\n",
      "44.0    1090\n",
      "15.0    1087\n",
      "20.0    1042\n",
      "41.0    1027\n",
      "39.0    1018\n",
      "40.0    1013\n",
      "42.0    1004\n",
      "19.0    1003\n",
      "13.0    1000\n",
      "43.0     997\n",
      "38.0     991\n",
      "32.0     965\n",
      "37.0     956\n",
      "35.0     920\n",
      "30.0     908\n",
      "18.0     905\n",
      "31.0     898\n",
      "36.0     888\n",
      "47.0     872\n",
      "45.0     851\n",
      "54.0     848\n",
      "46.0     845\n",
      "52.0     844\n",
      "55.0     838\n",
      "64.0     837\n",
      "        ... \n",
      "60.0     732\n",
      "61.0     723\n",
      "25.0     717\n",
      "17.0     400\n",
      "65.0     361\n",
      "66.0     343\n",
      "67.0     285\n",
      "16.0     268\n",
      "68.0     248\n",
      "69.0     217\n",
      "70.0     177\n",
      "71.0     157\n",
      "72.0     122\n",
      "73.0      89\n",
      "74.0      81\n",
      "75.0      71\n",
      "76.0      50\n",
      "78.0      39\n",
      "77.0      38\n",
      "80.0      32\n",
      "79.0      31\n",
      "81.0      24\n",
      "82.0      17\n",
      "85.0       5\n",
      "83.0       4\n",
      "84.0       4\n",
      "89.0       1\n",
      "86.0       1\n",
      "87.0       1\n",
      "94.0       1\n",
      "Name: AGE, dtype: int64\n"
     ]
    }
   ],
   "source": [
    "print users['GENDER'].value_counts()\n",
    "print users['AGE'].value_counts()"
   ]
  },
  {
   "cell_type": "code",
   "execution_count": 18,
   "metadata": {
    "collapsed": false
   },
   "outputs": [],
   "source": [
    "words = pd.read_csv('/Users/johnsnyder/GA-DSI-working/Capstone/EMI/words_categorized.csv')"
   ]
  },
  {
   "cell_type": "code",
   "execution_count": 19,
   "metadata": {
    "collapsed": false,
    "scrolled": true
   },
   "outputs": [
    {
     "data": {
      "text/html": [
       "<div>\n",
       "<table border=\"1\" class=\"dataframe\">\n",
       "  <thead>\n",
       "    <tr style=\"text-align: right;\">\n",
       "      <th></th>\n",
       "      <th>Unnamed: 0</th>\n",
       "      <th>Artist</th>\n",
       "      <th>User</th>\n",
       "      <th>HEARD_OF</th>\n",
       "      <th>Edgy_</th>\n",
       "      <th>Negative_</th>\n",
       "      <th>Sensitive_</th>\n",
       "      <th>Stylish_</th>\n",
       "      <th>Dark_</th>\n",
       "      <th>None_of_these_</th>\n",
       "      <th>Mainstream_</th>\n",
       "      <th>Iconic_</th>\n",
       "      <th>Playful_</th>\n",
       "      <th>Outdated_</th>\n",
       "      <th>Chill_</th>\n",
       "    </tr>\n",
       "  </thead>\n",
       "  <tbody>\n",
       "    <tr>\n",
       "      <th>0</th>\n",
       "      <td>0</td>\n",
       "      <td>47</td>\n",
       "      <td>45969</td>\n",
       "      <td>Heard of</td>\n",
       "      <td>0.0</td>\n",
       "      <td>1.0</td>\n",
       "      <td>0.0</td>\n",
       "      <td>0.0</td>\n",
       "      <td>0.0</td>\n",
       "      <td>0</td>\n",
       "      <td>0.0</td>\n",
       "      <td>0.0</td>\n",
       "      <td>0.0</td>\n",
       "      <td>0.0</td>\n",
       "      <td>0.0</td>\n",
       "    </tr>\n",
       "    <tr>\n",
       "      <th>1</th>\n",
       "      <td>1</td>\n",
       "      <td>35</td>\n",
       "      <td>29118</td>\n",
       "      <td>Never heard of</td>\n",
       "      <td>0.0</td>\n",
       "      <td>0.0</td>\n",
       "      <td>0.0</td>\n",
       "      <td>1.0</td>\n",
       "      <td>0.0</td>\n",
       "      <td>0</td>\n",
       "      <td>0.0</td>\n",
       "      <td>0.0</td>\n",
       "      <td>2.0</td>\n",
       "      <td>0.0</td>\n",
       "      <td>0.0</td>\n",
       "    </tr>\n",
       "    <tr>\n",
       "      <th>2</th>\n",
       "      <td>2</td>\n",
       "      <td>14</td>\n",
       "      <td>31544</td>\n",
       "      <td>Heard of</td>\n",
       "      <td>0.0</td>\n",
       "      <td>0.0</td>\n",
       "      <td>2.0</td>\n",
       "      <td>1.0</td>\n",
       "      <td>0.0</td>\n",
       "      <td>0</td>\n",
       "      <td>0.0</td>\n",
       "      <td>0.0</td>\n",
       "      <td>0.0</td>\n",
       "      <td>0.0</td>\n",
       "      <td>1.0</td>\n",
       "    </tr>\n",
       "    <tr>\n",
       "      <th>3</th>\n",
       "      <td>3</td>\n",
       "      <td>23</td>\n",
       "      <td>18085</td>\n",
       "      <td>Never heard of</td>\n",
       "      <td>0.0</td>\n",
       "      <td>1.0</td>\n",
       "      <td>0.0</td>\n",
       "      <td>0.0</td>\n",
       "      <td>0.0</td>\n",
       "      <td>0</td>\n",
       "      <td>0.0</td>\n",
       "      <td>0.0</td>\n",
       "      <td>0.0</td>\n",
       "      <td>0.0</td>\n",
       "      <td>0.0</td>\n",
       "    </tr>\n",
       "    <tr>\n",
       "      <th>4</th>\n",
       "      <td>4</td>\n",
       "      <td>23</td>\n",
       "      <td>18084</td>\n",
       "      <td>Never heard of</td>\n",
       "      <td>0.0</td>\n",
       "      <td>0.0</td>\n",
       "      <td>0.0</td>\n",
       "      <td>0.0</td>\n",
       "      <td>0.0</td>\n",
       "      <td>1</td>\n",
       "      <td>0.0</td>\n",
       "      <td>0.0</td>\n",
       "      <td>0.0</td>\n",
       "      <td>0.0</td>\n",
       "      <td>0.0</td>\n",
       "    </tr>\n",
       "  </tbody>\n",
       "</table>\n",
       "</div>"
      ],
      "text/plain": [
       "   Unnamed: 0  Artist   User        HEARD_OF  Edgy_  Negative_  Sensitive_  \\\n",
       "0           0      47  45969        Heard of    0.0        1.0         0.0   \n",
       "1           1      35  29118  Never heard of    0.0        0.0         0.0   \n",
       "2           2      14  31544        Heard of    0.0        0.0         2.0   \n",
       "3           3      23  18085  Never heard of    0.0        1.0         0.0   \n",
       "4           4      23  18084  Never heard of    0.0        0.0         0.0   \n",
       "\n",
       "   Stylish_  Dark_  None_of_these_  Mainstream_  Iconic_  Playful_  Outdated_  \\\n",
       "0       0.0    0.0               0          0.0      0.0       0.0        0.0   \n",
       "1       1.0    0.0               0          0.0      0.0       2.0        0.0   \n",
       "2       1.0    0.0               0          0.0      0.0       0.0        0.0   \n",
       "3       0.0    0.0               0          0.0      0.0       0.0        0.0   \n",
       "4       0.0    0.0               1          0.0      0.0       0.0        0.0   \n",
       "\n",
       "   Chill_  \n",
       "0     0.0  \n",
       "1     0.0  \n",
       "2     1.0  \n",
       "3     0.0  \n",
       "4     0.0  "
      ]
     },
     "execution_count": 19,
     "metadata": {},
     "output_type": "execute_result"
    }
   ],
   "source": [
    "words.head()"
   ]
  },
  {
   "cell_type": "code",
   "execution_count": 20,
   "metadata": {
    "collapsed": false,
    "scrolled": false
   },
   "outputs": [
    {
     "data": {
      "text/html": [
       "<div>\n",
       "<table border=\"1\" class=\"dataframe\">\n",
       "  <thead>\n",
       "    <tr style=\"text-align: right;\">\n",
       "      <th></th>\n",
       "      <th>Unnamed: 0</th>\n",
       "      <th>Artist</th>\n",
       "      <th>User</th>\n",
       "      <th>Edgy_</th>\n",
       "      <th>Negative_</th>\n",
       "      <th>Sensitive_</th>\n",
       "      <th>Stylish_</th>\n",
       "      <th>Dark_</th>\n",
       "      <th>None_of_these_</th>\n",
       "      <th>Mainstream_</th>\n",
       "      <th>Iconic_</th>\n",
       "      <th>Playful_</th>\n",
       "      <th>Outdated_</th>\n",
       "      <th>Chill_</th>\n",
       "    </tr>\n",
       "  </thead>\n",
       "  <tbody>\n",
       "    <tr>\n",
       "      <th>count</th>\n",
       "      <td>118301.000000</td>\n",
       "      <td>118301.000000</td>\n",
       "      <td>118301.000000</td>\n",
       "      <td>118301.000000</td>\n",
       "      <td>118301.000000</td>\n",
       "      <td>118301.000000</td>\n",
       "      <td>118301.000000</td>\n",
       "      <td>118301.000000</td>\n",
       "      <td>118301.000000</td>\n",
       "      <td>118301.000000</td>\n",
       "      <td>118301.000000</td>\n",
       "      <td>118301.000000</td>\n",
       "      <td>118301.00000</td>\n",
       "      <td>118301.000000</td>\n",
       "    </tr>\n",
       "    <tr>\n",
       "      <th>mean</th>\n",
       "      <td>59150.000000</td>\n",
       "      <td>22.471771</td>\n",
       "      <td>24637.126482</td>\n",
       "      <td>0.211663</td>\n",
       "      <td>0.524814</td>\n",
       "      <td>0.829173</td>\n",
       "      <td>0.658498</td>\n",
       "      <td>0.113617</td>\n",
       "      <td>0.088740</td>\n",
       "      <td>0.295255</td>\n",
       "      <td>0.446860</td>\n",
       "      <td>0.978783</td>\n",
       "      <td>0.08677</td>\n",
       "      <td>0.181765</td>\n",
       "    </tr>\n",
       "    <tr>\n",
       "      <th>std</th>\n",
       "      <td>34150.701435</td>\n",
       "      <td>14.717169</td>\n",
       "      <td>13831.302288</td>\n",
       "      <td>0.504820</td>\n",
       "      <td>1.155744</td>\n",
       "      <td>1.447465</td>\n",
       "      <td>1.075051</td>\n",
       "      <td>0.337610</td>\n",
       "      <td>0.284369</td>\n",
       "      <td>0.565880</td>\n",
       "      <td>0.889524</td>\n",
       "      <td>1.516388</td>\n",
       "      <td>0.29804</td>\n",
       "      <td>0.429457</td>\n",
       "    </tr>\n",
       "    <tr>\n",
       "      <th>min</th>\n",
       "      <td>0.000000</td>\n",
       "      <td>0.000000</td>\n",
       "      <td>0.000000</td>\n",
       "      <td>0.000000</td>\n",
       "      <td>0.000000</td>\n",
       "      <td>0.000000</td>\n",
       "      <td>0.000000</td>\n",
       "      <td>0.000000</td>\n",
       "      <td>0.000000</td>\n",
       "      <td>0.000000</td>\n",
       "      <td>0.000000</td>\n",
       "      <td>0.000000</td>\n",
       "      <td>0.00000</td>\n",
       "      <td>0.000000</td>\n",
       "    </tr>\n",
       "    <tr>\n",
       "      <th>25%</th>\n",
       "      <td>29575.000000</td>\n",
       "      <td>10.000000</td>\n",
       "      <td>13160.000000</td>\n",
       "      <td>0.000000</td>\n",
       "      <td>0.000000</td>\n",
       "      <td>0.000000</td>\n",
       "      <td>0.000000</td>\n",
       "      <td>0.000000</td>\n",
       "      <td>0.000000</td>\n",
       "      <td>0.000000</td>\n",
       "      <td>0.000000</td>\n",
       "      <td>0.000000</td>\n",
       "      <td>0.00000</td>\n",
       "      <td>0.000000</td>\n",
       "    </tr>\n",
       "    <tr>\n",
       "      <th>50%</th>\n",
       "      <td>59150.000000</td>\n",
       "      <td>22.000000</td>\n",
       "      <td>24242.000000</td>\n",
       "      <td>0.000000</td>\n",
       "      <td>0.000000</td>\n",
       "      <td>0.000000</td>\n",
       "      <td>0.000000</td>\n",
       "      <td>0.000000</td>\n",
       "      <td>0.000000</td>\n",
       "      <td>0.000000</td>\n",
       "      <td>0.000000</td>\n",
       "      <td>0.000000</td>\n",
       "      <td>0.00000</td>\n",
       "      <td>0.000000</td>\n",
       "    </tr>\n",
       "    <tr>\n",
       "      <th>75%</th>\n",
       "      <td>88725.000000</td>\n",
       "      <td>35.000000</td>\n",
       "      <td>35577.000000</td>\n",
       "      <td>0.000000</td>\n",
       "      <td>1.000000</td>\n",
       "      <td>1.000000</td>\n",
       "      <td>1.000000</td>\n",
       "      <td>0.000000</td>\n",
       "      <td>0.000000</td>\n",
       "      <td>0.000000</td>\n",
       "      <td>1.000000</td>\n",
       "      <td>1.000000</td>\n",
       "      <td>0.00000</td>\n",
       "      <td>0.000000</td>\n",
       "    </tr>\n",
       "    <tr>\n",
       "      <th>max</th>\n",
       "      <td>118300.000000</td>\n",
       "      <td>49.000000</td>\n",
       "      <td>50927.000000</td>\n",
       "      <td>3.000000</td>\n",
       "      <td>14.000000</td>\n",
       "      <td>10.000000</td>\n",
       "      <td>8.000000</td>\n",
       "      <td>2.000000</td>\n",
       "      <td>1.000000</td>\n",
       "      <td>3.000000</td>\n",
       "      <td>9.000000</td>\n",
       "      <td>11.000000</td>\n",
       "      <td>2.00000</td>\n",
       "      <td>5.000000</td>\n",
       "    </tr>\n",
       "  </tbody>\n",
       "</table>\n",
       "</div>"
      ],
      "text/plain": [
       "          Unnamed: 0         Artist           User          Edgy_  \\\n",
       "count  118301.000000  118301.000000  118301.000000  118301.000000   \n",
       "mean    59150.000000      22.471771   24637.126482       0.211663   \n",
       "std     34150.701435      14.717169   13831.302288       0.504820   \n",
       "min         0.000000       0.000000       0.000000       0.000000   \n",
       "25%     29575.000000      10.000000   13160.000000       0.000000   \n",
       "50%     59150.000000      22.000000   24242.000000       0.000000   \n",
       "75%     88725.000000      35.000000   35577.000000       0.000000   \n",
       "max    118300.000000      49.000000   50927.000000       3.000000   \n",
       "\n",
       "           Negative_     Sensitive_       Stylish_          Dark_  \\\n",
       "count  118301.000000  118301.000000  118301.000000  118301.000000   \n",
       "mean        0.524814       0.829173       0.658498       0.113617   \n",
       "std         1.155744       1.447465       1.075051       0.337610   \n",
       "min         0.000000       0.000000       0.000000       0.000000   \n",
       "25%         0.000000       0.000000       0.000000       0.000000   \n",
       "50%         0.000000       0.000000       0.000000       0.000000   \n",
       "75%         1.000000       1.000000       1.000000       0.000000   \n",
       "max        14.000000      10.000000       8.000000       2.000000   \n",
       "\n",
       "       None_of_these_    Mainstream_        Iconic_       Playful_  \\\n",
       "count   118301.000000  118301.000000  118301.000000  118301.000000   \n",
       "mean         0.088740       0.295255       0.446860       0.978783   \n",
       "std          0.284369       0.565880       0.889524       1.516388   \n",
       "min          0.000000       0.000000       0.000000       0.000000   \n",
       "25%          0.000000       0.000000       0.000000       0.000000   \n",
       "50%          0.000000       0.000000       0.000000       0.000000   \n",
       "75%          0.000000       0.000000       1.000000       1.000000   \n",
       "max          1.000000       3.000000       9.000000      11.000000   \n",
       "\n",
       "          Outdated_         Chill_  \n",
       "count  118301.00000  118301.000000  \n",
       "mean        0.08677       0.181765  \n",
       "std         0.29804       0.429457  \n",
       "min         0.00000       0.000000  \n",
       "25%         0.00000       0.000000  \n",
       "50%         0.00000       0.000000  \n",
       "75%         0.00000       0.000000  \n",
       "max         2.00000       5.000000  "
      ]
     },
     "execution_count": 20,
     "metadata": {},
     "output_type": "execute_result"
    }
   ],
   "source": [
    "word_counts = words.describe()\n",
    "word_counts"
   ]
  },
  {
   "cell_type": "code",
   "execution_count": 21,
   "metadata": {
    "collapsed": true
   },
   "outputs": [],
   "source": [
    "train = pd.read_csv('/Users/johnsnyder/GA-DSI-working/Capstone/EMI/train.csv')"
   ]
  },
  {
   "cell_type": "code",
   "execution_count": 22,
   "metadata": {
    "collapsed": false
   },
   "outputs": [
    {
     "data": {
      "text/html": [
       "<div>\n",
       "<table border=\"1\" class=\"dataframe\">\n",
       "  <thead>\n",
       "    <tr style=\"text-align: right;\">\n",
       "      <th></th>\n",
       "      <th>Artist</th>\n",
       "      <th>Track</th>\n",
       "      <th>User</th>\n",
       "      <th>Rating</th>\n",
       "      <th>Time</th>\n",
       "    </tr>\n",
       "  </thead>\n",
       "  <tbody>\n",
       "    <tr>\n",
       "      <th>0</th>\n",
       "      <td>40</td>\n",
       "      <td>179</td>\n",
       "      <td>47994</td>\n",
       "      <td>9</td>\n",
       "      <td>17</td>\n",
       "    </tr>\n",
       "    <tr>\n",
       "      <th>1</th>\n",
       "      <td>9</td>\n",
       "      <td>23</td>\n",
       "      <td>8575</td>\n",
       "      <td>58</td>\n",
       "      <td>7</td>\n",
       "    </tr>\n",
       "    <tr>\n",
       "      <th>2</th>\n",
       "      <td>46</td>\n",
       "      <td>168</td>\n",
       "      <td>45475</td>\n",
       "      <td>13</td>\n",
       "      <td>16</td>\n",
       "    </tr>\n",
       "    <tr>\n",
       "      <th>3</th>\n",
       "      <td>11</td>\n",
       "      <td>153</td>\n",
       "      <td>39508</td>\n",
       "      <td>42</td>\n",
       "      <td>15</td>\n",
       "    </tr>\n",
       "    <tr>\n",
       "      <th>4</th>\n",
       "      <td>14</td>\n",
       "      <td>32</td>\n",
       "      <td>11565</td>\n",
       "      <td>54</td>\n",
       "      <td>19</td>\n",
       "    </tr>\n",
       "  </tbody>\n",
       "</table>\n",
       "</div>"
      ],
      "text/plain": [
       "   Artist  Track   User  Rating  Time\n",
       "0      40    179  47994       9    17\n",
       "1       9     23   8575      58     7\n",
       "2      46    168  45475      13    16\n",
       "3      11    153  39508      42    15\n",
       "4      14     32  11565      54    19"
      ]
     },
     "execution_count": 22,
     "metadata": {},
     "output_type": "execute_result"
    }
   ],
   "source": [
    "train.head()"
   ]
  },
  {
   "cell_type": "code",
   "execution_count": 23,
   "metadata": {
    "collapsed": false
   },
   "outputs": [
    {
     "data": {
      "text/html": [
       "<div>\n",
       "<table border=\"1\" class=\"dataframe\">\n",
       "  <thead>\n",
       "    <tr style=\"text-align: right;\">\n",
       "      <th></th>\n",
       "      <th>Artist</th>\n",
       "      <th>Track</th>\n",
       "      <th>User</th>\n",
       "      <th>Rating</th>\n",
       "      <th>Time</th>\n",
       "    </tr>\n",
       "  </thead>\n",
       "  <tbody>\n",
       "    <tr>\n",
       "      <th>count</th>\n",
       "      <td>188690.000000</td>\n",
       "      <td>188690.000000</td>\n",
       "      <td>188690.000000</td>\n",
       "      <td>188690.000000</td>\n",
       "      <td>188690.000000</td>\n",
       "    </tr>\n",
       "    <tr>\n",
       "      <th>mean</th>\n",
       "      <td>22.207753</td>\n",
       "      <td>86.516191</td>\n",
       "      <td>26478.842106</td>\n",
       "      <td>36.435391</td>\n",
       "      <td>15.660671</td>\n",
       "    </tr>\n",
       "    <tr>\n",
       "      <th>std</th>\n",
       "      <td>14.485397</td>\n",
       "      <td>56.017025</td>\n",
       "      <td>13632.273985</td>\n",
       "      <td>22.586036</td>\n",
       "      <td>6.441050</td>\n",
       "    </tr>\n",
       "    <tr>\n",
       "      <th>min</th>\n",
       "      <td>0.000000</td>\n",
       "      <td>0.000000</td>\n",
       "      <td>0.000000</td>\n",
       "      <td>0.000000</td>\n",
       "      <td>0.000000</td>\n",
       "    </tr>\n",
       "    <tr>\n",
       "      <th>25%</th>\n",
       "      <td>10.000000</td>\n",
       "      <td>36.000000</td>\n",
       "      <td>17711.000000</td>\n",
       "      <td>15.000000</td>\n",
       "      <td>12.000000</td>\n",
       "    </tr>\n",
       "    <tr>\n",
       "      <th>50%</th>\n",
       "      <td>22.000000</td>\n",
       "      <td>80.000000</td>\n",
       "      <td>27831.000000</td>\n",
       "      <td>32.000000</td>\n",
       "      <td>17.000000</td>\n",
       "    </tr>\n",
       "    <tr>\n",
       "      <th>75%</th>\n",
       "      <td>35.000000</td>\n",
       "      <td>142.000000</td>\n",
       "      <td>35949.000000</td>\n",
       "      <td>50.000000</td>\n",
       "      <td>21.000000</td>\n",
       "    </tr>\n",
       "    <tr>\n",
       "      <th>max</th>\n",
       "      <td>49.000000</td>\n",
       "      <td>183.000000</td>\n",
       "      <td>50927.000000</td>\n",
       "      <td>100.000000</td>\n",
       "      <td>23.000000</td>\n",
       "    </tr>\n",
       "  </tbody>\n",
       "</table>\n",
       "</div>"
      ],
      "text/plain": [
       "              Artist          Track           User         Rating  \\\n",
       "count  188690.000000  188690.000000  188690.000000  188690.000000   \n",
       "mean       22.207753      86.516191   26478.842106      36.435391   \n",
       "std        14.485397      56.017025   13632.273985      22.586036   \n",
       "min         0.000000       0.000000       0.000000       0.000000   \n",
       "25%        10.000000      36.000000   17711.000000      15.000000   \n",
       "50%        22.000000      80.000000   27831.000000      32.000000   \n",
       "75%        35.000000     142.000000   35949.000000      50.000000   \n",
       "max        49.000000     183.000000   50927.000000     100.000000   \n",
       "\n",
       "                Time  \n",
       "count  188690.000000  \n",
       "mean       15.660671  \n",
       "std         6.441050  \n",
       "min         0.000000  \n",
       "25%        12.000000  \n",
       "50%        17.000000  \n",
       "75%        21.000000  \n",
       "max        23.000000  "
      ]
     },
     "execution_count": 23,
     "metadata": {},
     "output_type": "execute_result"
    }
   ],
   "source": [
    "train.describe()"
   ]
  },
  {
   "cell_type": "code",
   "execution_count": 24,
   "metadata": {
    "collapsed": false,
    "scrolled": false
   },
   "outputs": [],
   "source": [
    "words_users = words.join(users_w_headers, on='User',how='inner')"
   ]
  },
  {
   "cell_type": "code",
   "execution_count": 25,
   "metadata": {
    "collapsed": false
   },
   "outputs": [
    {
     "data": {
      "text/html": [
       "<div>\n",
       "<table border=\"1\" class=\"dataframe\">\n",
       "  <thead>\n",
       "    <tr style=\"text-align: right;\">\n",
       "      <th></th>\n",
       "      <th>Unnamed: 0</th>\n",
       "      <th>Artist</th>\n",
       "      <th>User</th>\n",
       "      <th>Edgy_</th>\n",
       "      <th>Negative_</th>\n",
       "      <th>Sensitive_</th>\n",
       "      <th>Stylish_</th>\n",
       "      <th>Dark_</th>\n",
       "      <th>None_of_these_</th>\n",
       "      <th>Mainstream_</th>\n",
       "      <th>...</th>\n",
       "      <th>Q10</th>\n",
       "      <th>Q11</th>\n",
       "      <th>Q12</th>\n",
       "      <th>Q13</th>\n",
       "      <th>Q14</th>\n",
       "      <th>Q15</th>\n",
       "      <th>Q16</th>\n",
       "      <th>Q17</th>\n",
       "      <th>Q18</th>\n",
       "      <th>Q19</th>\n",
       "    </tr>\n",
       "  </thead>\n",
       "  <tbody>\n",
       "    <tr>\n",
       "      <th>count</th>\n",
       "      <td>113735.000000</td>\n",
       "      <td>113735.000000</td>\n",
       "      <td>113735.000000</td>\n",
       "      <td>113735.000000</td>\n",
       "      <td>113735.000000</td>\n",
       "      <td>113735.000000</td>\n",
       "      <td>113735.000000</td>\n",
       "      <td>113735.000000</td>\n",
       "      <td>113735.000000</td>\n",
       "      <td>113735.000000</td>\n",
       "      <td>...</td>\n",
       "      <td>113735.000000</td>\n",
       "      <td>113735.000000</td>\n",
       "      <td>113735.000000</td>\n",
       "      <td>113735.000000</td>\n",
       "      <td>113735.000000</td>\n",
       "      <td>113735.000000</td>\n",
       "      <td>98704.000000</td>\n",
       "      <td>113735.000000</td>\n",
       "      <td>83039.000000</td>\n",
       "      <td>83039.000000</td>\n",
       "    </tr>\n",
       "    <tr>\n",
       "      <th>mean</th>\n",
       "      <td>58948.490095</td>\n",
       "      <td>22.085699</td>\n",
       "      <td>23627.500980</td>\n",
       "      <td>0.212740</td>\n",
       "      <td>0.524843</td>\n",
       "      <td>0.834018</td>\n",
       "      <td>0.659296</td>\n",
       "      <td>0.114732</td>\n",
       "      <td>0.088513</td>\n",
       "      <td>0.293876</td>\n",
       "      <td>...</td>\n",
       "      <td>55.011693</td>\n",
       "      <td>58.606700</td>\n",
       "      <td>53.646580</td>\n",
       "      <td>46.931006</td>\n",
       "      <td>53.384955</td>\n",
       "      <td>39.635760</td>\n",
       "      <td>35.556284</td>\n",
       "      <td>53.858802</td>\n",
       "      <td>42.257716</td>\n",
       "      <td>41.355848</td>\n",
       "    </tr>\n",
       "    <tr>\n",
       "      <th>std</th>\n",
       "      <td>34079.632845</td>\n",
       "      <td>14.328983</td>\n",
       "      <td>13136.101093</td>\n",
       "      <td>0.506491</td>\n",
       "      <td>1.156801</td>\n",
       "      <td>1.452922</td>\n",
       "      <td>1.075155</td>\n",
       "      <td>0.339278</td>\n",
       "      <td>0.284040</td>\n",
       "      <td>0.566637</td>\n",
       "      <td>...</td>\n",
       "      <td>25.490135</td>\n",
       "      <td>23.889852</td>\n",
       "      <td>25.421432</td>\n",
       "      <td>26.669479</td>\n",
       "      <td>25.815457</td>\n",
       "      <td>26.051663</td>\n",
       "      <td>25.402553</td>\n",
       "      <td>25.881408</td>\n",
       "      <td>25.694386</td>\n",
       "      <td>26.452861</td>\n",
       "    </tr>\n",
       "    <tr>\n",
       "      <th>min</th>\n",
       "      <td>0.000000</td>\n",
       "      <td>0.000000</td>\n",
       "      <td>0.000000</td>\n",
       "      <td>0.000000</td>\n",
       "      <td>0.000000</td>\n",
       "      <td>0.000000</td>\n",
       "      <td>0.000000</td>\n",
       "      <td>0.000000</td>\n",
       "      <td>0.000000</td>\n",
       "      <td>0.000000</td>\n",
       "      <td>...</td>\n",
       "      <td>0.000000</td>\n",
       "      <td>0.000000</td>\n",
       "      <td>0.000000</td>\n",
       "      <td>0.000000</td>\n",
       "      <td>0.000000</td>\n",
       "      <td>0.000000</td>\n",
       "      <td>0.000000</td>\n",
       "      <td>0.000000</td>\n",
       "      <td>0.000000</td>\n",
       "      <td>0.000000</td>\n",
       "    </tr>\n",
       "    <tr>\n",
       "      <th>25%</th>\n",
       "      <td>29557.500000</td>\n",
       "      <td>10.000000</td>\n",
       "      <td>12779.500000</td>\n",
       "      <td>0.000000</td>\n",
       "      <td>0.000000</td>\n",
       "      <td>0.000000</td>\n",
       "      <td>0.000000</td>\n",
       "      <td>0.000000</td>\n",
       "      <td>0.000000</td>\n",
       "      <td>0.000000</td>\n",
       "      <td>...</td>\n",
       "      <td>41.000000</td>\n",
       "      <td>48.000000</td>\n",
       "      <td>36.000000</td>\n",
       "      <td>28.000000</td>\n",
       "      <td>33.000000</td>\n",
       "      <td>13.000000</td>\n",
       "      <td>NaN</td>\n",
       "      <td>35.000000</td>\n",
       "      <td>NaN</td>\n",
       "      <td>NaN</td>\n",
       "    </tr>\n",
       "    <tr>\n",
       "      <th>50%</th>\n",
       "      <td>59038.000000</td>\n",
       "      <td>21.000000</td>\n",
       "      <td>23481.000000</td>\n",
       "      <td>0.000000</td>\n",
       "      <td>0.000000</td>\n",
       "      <td>0.000000</td>\n",
       "      <td>0.000000</td>\n",
       "      <td>0.000000</td>\n",
       "      <td>0.000000</td>\n",
       "      <td>0.000000</td>\n",
       "      <td>...</td>\n",
       "      <td>53.000000</td>\n",
       "      <td>64.000000</td>\n",
       "      <td>54.000000</td>\n",
       "      <td>50.000000</td>\n",
       "      <td>53.000000</td>\n",
       "      <td>37.000000</td>\n",
       "      <td>NaN</td>\n",
       "      <td>56.000000</td>\n",
       "      <td>NaN</td>\n",
       "      <td>NaN</td>\n",
       "    </tr>\n",
       "    <tr>\n",
       "      <th>75%</th>\n",
       "      <td>88296.500000</td>\n",
       "      <td>34.000000</td>\n",
       "      <td>33865.000000</td>\n",
       "      <td>0.000000</td>\n",
       "      <td>1.000000</td>\n",
       "      <td>1.000000</td>\n",
       "      <td>1.000000</td>\n",
       "      <td>0.000000</td>\n",
       "      <td>0.000000</td>\n",
       "      <td>0.000000</td>\n",
       "      <td>...</td>\n",
       "      <td>72.000000</td>\n",
       "      <td>73.000000</td>\n",
       "      <td>71.000000</td>\n",
       "      <td>68.000000</td>\n",
       "      <td>71.000000</td>\n",
       "      <td>56.000000</td>\n",
       "      <td>NaN</td>\n",
       "      <td>71.000000</td>\n",
       "      <td>NaN</td>\n",
       "      <td>NaN</td>\n",
       "    </tr>\n",
       "    <tr>\n",
       "      <th>max</th>\n",
       "      <td>118300.000000</td>\n",
       "      <td>49.000000</td>\n",
       "      <td>48644.000000</td>\n",
       "      <td>3.000000</td>\n",
       "      <td>14.000000</td>\n",
       "      <td>10.000000</td>\n",
       "      <td>8.000000</td>\n",
       "      <td>2.000000</td>\n",
       "      <td>1.000000</td>\n",
       "      <td>3.000000</td>\n",
       "      <td>...</td>\n",
       "      <td>100.000000</td>\n",
       "      <td>100.000000</td>\n",
       "      <td>100.000000</td>\n",
       "      <td>100.000000</td>\n",
       "      <td>100.000000</td>\n",
       "      <td>100.000000</td>\n",
       "      <td>100.000000</td>\n",
       "      <td>100.000000</td>\n",
       "      <td>100.000000</td>\n",
       "      <td>100.000000</td>\n",
       "    </tr>\n",
       "  </tbody>\n",
       "</table>\n",
       "<p>8 rows × 37 columns</p>\n",
       "</div>"
      ],
      "text/plain": [
       "          Unnamed: 0         Artist           User          Edgy_  \\\n",
       "count  113735.000000  113735.000000  113735.000000  113735.000000   \n",
       "mean    58948.490095      22.085699   23627.500980       0.212740   \n",
       "std     34079.632845      14.328983   13136.101093       0.506491   \n",
       "min         0.000000       0.000000       0.000000       0.000000   \n",
       "25%     29557.500000      10.000000   12779.500000       0.000000   \n",
       "50%     59038.000000      21.000000   23481.000000       0.000000   \n",
       "75%     88296.500000      34.000000   33865.000000       0.000000   \n",
       "max    118300.000000      49.000000   48644.000000       3.000000   \n",
       "\n",
       "           Negative_     Sensitive_       Stylish_          Dark_  \\\n",
       "count  113735.000000  113735.000000  113735.000000  113735.000000   \n",
       "mean        0.524843       0.834018       0.659296       0.114732   \n",
       "std         1.156801       1.452922       1.075155       0.339278   \n",
       "min         0.000000       0.000000       0.000000       0.000000   \n",
       "25%         0.000000       0.000000       0.000000       0.000000   \n",
       "50%         0.000000       0.000000       0.000000       0.000000   \n",
       "75%         1.000000       1.000000       1.000000       0.000000   \n",
       "max        14.000000      10.000000       8.000000       2.000000   \n",
       "\n",
       "       None_of_these_    Mainstream_      ...                 Q10  \\\n",
       "count   113735.000000  113735.000000      ...       113735.000000   \n",
       "mean         0.088513       0.293876      ...           55.011693   \n",
       "std          0.284040       0.566637      ...           25.490135   \n",
       "min          0.000000       0.000000      ...            0.000000   \n",
       "25%          0.000000       0.000000      ...           41.000000   \n",
       "50%          0.000000       0.000000      ...           53.000000   \n",
       "75%          0.000000       0.000000      ...           72.000000   \n",
       "max          1.000000       3.000000      ...          100.000000   \n",
       "\n",
       "                 Q11            Q12            Q13            Q14  \\\n",
       "count  113735.000000  113735.000000  113735.000000  113735.000000   \n",
       "mean       58.606700      53.646580      46.931006      53.384955   \n",
       "std        23.889852      25.421432      26.669479      25.815457   \n",
       "min         0.000000       0.000000       0.000000       0.000000   \n",
       "25%        48.000000      36.000000      28.000000      33.000000   \n",
       "50%        64.000000      54.000000      50.000000      53.000000   \n",
       "75%        73.000000      71.000000      68.000000      71.000000   \n",
       "max       100.000000     100.000000     100.000000     100.000000   \n",
       "\n",
       "                 Q15           Q16            Q17           Q18           Q19  \n",
       "count  113735.000000  98704.000000  113735.000000  83039.000000  83039.000000  \n",
       "mean       39.635760     35.556284      53.858802     42.257716     41.355848  \n",
       "std        26.051663     25.402553      25.881408     25.694386     26.452861  \n",
       "min         0.000000      0.000000       0.000000      0.000000      0.000000  \n",
       "25%        13.000000           NaN      35.000000           NaN           NaN  \n",
       "50%        37.000000           NaN      56.000000           NaN           NaN  \n",
       "75%        56.000000           NaN      71.000000           NaN           NaN  \n",
       "max       100.000000    100.000000     100.000000    100.000000    100.000000  \n",
       "\n",
       "[8 rows x 37 columns]"
      ]
     },
     "execution_count": 25,
     "metadata": {},
     "output_type": "execute_result"
    }
   ],
   "source": [
    "words_users.describe()"
   ]
  },
  {
   "cell_type": "code",
   "execution_count": 26,
   "metadata": {
    "collapsed": false
   },
   "outputs": [
    {
     "data": {
      "text/plain": [
       "(113735, 42)"
      ]
     },
     "execution_count": 26,
     "metadata": {},
     "output_type": "execute_result"
    }
   ],
   "source": [
    "words_users.shape"
   ]
  },
  {
   "cell_type": "code",
   "execution_count": 27,
   "metadata": {
    "collapsed": false
   },
   "outputs": [
    {
     "data": {
      "text/html": [
       "<div>\n",
       "<table border=\"1\" class=\"dataframe\">\n",
       "  <thead>\n",
       "    <tr style=\"text-align: right;\">\n",
       "      <th></th>\n",
       "      <th>Unnamed: 0</th>\n",
       "      <th>Artist</th>\n",
       "      <th>User</th>\n",
       "      <th>HEARD_OF</th>\n",
       "      <th>Edgy_</th>\n",
       "      <th>Negative_</th>\n",
       "      <th>Sensitive_</th>\n",
       "      <th>Stylish_</th>\n",
       "      <th>Dark_</th>\n",
       "      <th>None_of_these_</th>\n",
       "      <th>...</th>\n",
       "      <th>Q10</th>\n",
       "      <th>Q11</th>\n",
       "      <th>Q12</th>\n",
       "      <th>Q13</th>\n",
       "      <th>Q14</th>\n",
       "      <th>Q15</th>\n",
       "      <th>Q16</th>\n",
       "      <th>Q17</th>\n",
       "      <th>Q18</th>\n",
       "      <th>Q19</th>\n",
       "    </tr>\n",
       "  </thead>\n",
       "  <tbody>\n",
       "    <tr>\n",
       "      <th>0</th>\n",
       "      <td>0</td>\n",
       "      <td>47</td>\n",
       "      <td>45969</td>\n",
       "      <td>Heard of</td>\n",
       "      <td>0.0</td>\n",
       "      <td>1.0</td>\n",
       "      <td>0.0</td>\n",
       "      <td>0.0</td>\n",
       "      <td>0.0</td>\n",
       "      <td>0</td>\n",
       "      <td>...</td>\n",
       "      <td>30.0</td>\n",
       "      <td>61.0</td>\n",
       "      <td>91.0</td>\n",
       "      <td>10.0</td>\n",
       "      <td>12.0</td>\n",
       "      <td>13.0</td>\n",
       "      <td>NaN</td>\n",
       "      <td>11.0</td>\n",
       "      <td>7.0</td>\n",
       "      <td>18.0</td>\n",
       "    </tr>\n",
       "    <tr>\n",
       "      <th>1</th>\n",
       "      <td>1</td>\n",
       "      <td>35</td>\n",
       "      <td>29118</td>\n",
       "      <td>Never heard of</td>\n",
       "      <td>0.0</td>\n",
       "      <td>0.0</td>\n",
       "      <td>0.0</td>\n",
       "      <td>1.0</td>\n",
       "      <td>0.0</td>\n",
       "      <td>0</td>\n",
       "      <td>...</td>\n",
       "      <td>52.0</td>\n",
       "      <td>57.0</td>\n",
       "      <td>21.0</td>\n",
       "      <td>15.0</td>\n",
       "      <td>27.0</td>\n",
       "      <td>11.0</td>\n",
       "      <td>14.0</td>\n",
       "      <td>75.0</td>\n",
       "      <td>18.0</td>\n",
       "      <td>13.0</td>\n",
       "    </tr>\n",
       "    <tr>\n",
       "      <th>28601</th>\n",
       "      <td>28601</td>\n",
       "      <td>39</td>\n",
       "      <td>29118</td>\n",
       "      <td>Heard of and listened to music EVER</td>\n",
       "      <td>0.0</td>\n",
       "      <td>0.0</td>\n",
       "      <td>1.0</td>\n",
       "      <td>0.0</td>\n",
       "      <td>0.0</td>\n",
       "      <td>0</td>\n",
       "      <td>...</td>\n",
       "      <td>52.0</td>\n",
       "      <td>57.0</td>\n",
       "      <td>21.0</td>\n",
       "      <td>15.0</td>\n",
       "      <td>27.0</td>\n",
       "      <td>11.0</td>\n",
       "      <td>14.0</td>\n",
       "      <td>75.0</td>\n",
       "      <td>18.0</td>\n",
       "      <td>13.0</td>\n",
       "    </tr>\n",
       "  </tbody>\n",
       "</table>\n",
       "<p>3 rows × 42 columns</p>\n",
       "</div>"
      ],
      "text/plain": [
       "       Unnamed: 0  Artist   User                             HEARD_OF  Edgy_  \\\n",
       "0               0      47  45969                             Heard of    0.0   \n",
       "1               1      35  29118                       Never heard of    0.0   \n",
       "28601       28601      39  29118  Heard of and listened to music EVER    0.0   \n",
       "\n",
       "       Negative_  Sensitive_  Stylish_  Dark_  None_of_these_  ...    Q10  \\\n",
       "0            1.0         0.0       0.0    0.0               0  ...   30.0   \n",
       "1            0.0         0.0       1.0    0.0               0  ...   52.0   \n",
       "28601        0.0         1.0       0.0    0.0               0  ...   52.0   \n",
       "\n",
       "        Q11   Q12   Q13   Q14   Q15   Q16   Q17   Q18   Q19  \n",
       "0      61.0  91.0  10.0  12.0  13.0   NaN  11.0   7.0  18.0  \n",
       "1      57.0  21.0  15.0  27.0  11.0  14.0  75.0  18.0  13.0  \n",
       "28601  57.0  21.0  15.0  27.0  11.0  14.0  75.0  18.0  13.0  \n",
       "\n",
       "[3 rows x 42 columns]"
      ]
     },
     "execution_count": 27,
     "metadata": {},
     "output_type": "execute_result"
    }
   ],
   "source": [
    "words_users.head(3)"
   ]
  },
  {
   "cell_type": "code",
   "execution_count": 28,
   "metadata": {
    "collapsed": false
   },
   "outputs": [
    {
     "data": {
      "text/plain": [
       "0.4277047522750253"
      ]
     },
     "execution_count": 28,
     "metadata": {},
     "output_type": "execute_result"
    }
   ],
   "source": [
    "float(words_users['User'].nunique())/len(words_users['User'])"
   ]
  },
  {
   "cell_type": "code",
   "execution_count": 29,
   "metadata": {
    "collapsed": false
   },
   "outputs": [
    {
     "name": "stdout",
     "output_type": "stream",
     "text": [
      "On average, respondents are reviewing 2.33806146572 artists/songs.\n"
     ]
    }
   ],
   "source": [
    "print \"On average, respondents are reviewing {} artists/songs.\"\\\n",
    "      .format(float(len(words_users['User']))/words_users['User'].nunique())"
   ]
  },
  {
   "cell_type": "code",
   "execution_count": 30,
   "metadata": {
    "collapsed": false
   },
   "outputs": [
    {
     "name": "stdout",
     "output_type": "stream",
     "text": [
      "7\n",
      "['Heard of' 'Never heard of' 'Heard of and listened to music EVER'\n",
      " 'Heard of and listened to music RECENTLY' 'Ever heard of'\n",
      " 'Ever heard music by' 'Listened to recently' nan]\n"
     ]
    }
   ],
   "source": [
    "print words_users['HEARD_OF'].nunique()\n",
    "print words_users['HEARD_OF'].unique()"
   ]
  },
  {
   "cell_type": "code",
   "execution_count": 31,
   "metadata": {
    "collapsed": false
   },
   "outputs": [
    {
     "data": {
      "text/html": [
       "<div>\n",
       "<table border=\"1\" class=\"dataframe\">\n",
       "  <thead>\n",
       "    <tr style=\"text-align: right;\">\n",
       "      <th></th>\n",
       "      <th>RESPID</th>\n",
       "      <th>GENDER</th>\n",
       "      <th>AGE</th>\n",
       "      <th>WORKING</th>\n",
       "      <th>REGION</th>\n",
       "      <th>MUSIC</th>\n",
       "      <th>LIST_OWN</th>\n",
       "      <th>LIST_BACK</th>\n",
       "      <th>Q1</th>\n",
       "      <th>Q2</th>\n",
       "      <th>...</th>\n",
       "      <th>Q10</th>\n",
       "      <th>Q11</th>\n",
       "      <th>Q12</th>\n",
       "      <th>Q13</th>\n",
       "      <th>Q14</th>\n",
       "      <th>Q15</th>\n",
       "      <th>Q16</th>\n",
       "      <th>Q17</th>\n",
       "      <th>Q18</th>\n",
       "      <th>Q19</th>\n",
       "    </tr>\n",
       "  </thead>\n",
       "  <tbody>\n",
       "    <tr>\n",
       "      <th>0</th>\n",
       "      <td>36927</td>\n",
       "      <td>Female</td>\n",
       "      <td>60.0</td>\n",
       "      <td>Other</td>\n",
       "      <td>South</td>\n",
       "      <td>Music is important to me but not necessarily m...</td>\n",
       "      <td>1 hour</td>\n",
       "      <td>NaN</td>\n",
       "      <td>49.0</td>\n",
       "      <td>50.0</td>\n",
       "      <td>...</td>\n",
       "      <td>50.0</td>\n",
       "      <td>50.0</td>\n",
       "      <td>71.0</td>\n",
       "      <td>52.0</td>\n",
       "      <td>71.0</td>\n",
       "      <td>9.0</td>\n",
       "      <td>7.0</td>\n",
       "      <td>72.0</td>\n",
       "      <td>49.0</td>\n",
       "      <td>26.0</td>\n",
       "    </tr>\n",
       "    <tr>\n",
       "      <th>1</th>\n",
       "      <td>3566</td>\n",
       "      <td>Female</td>\n",
       "      <td>36.0</td>\n",
       "      <td>Full-time housewife / househusband</td>\n",
       "      <td>South</td>\n",
       "      <td>Music is important to me but not necessarily m...</td>\n",
       "      <td>1 hour</td>\n",
       "      <td>1 hour</td>\n",
       "      <td>55.0</td>\n",
       "      <td>55.0</td>\n",
       "      <td>...</td>\n",
       "      <td>12.0</td>\n",
       "      <td>65.0</td>\n",
       "      <td>65.0</td>\n",
       "      <td>80.0</td>\n",
       "      <td>79.0</td>\n",
       "      <td>51.0</td>\n",
       "      <td>31.0</td>\n",
       "      <td>68.0</td>\n",
       "      <td>54.0</td>\n",
       "      <td>33.0</td>\n",
       "    </tr>\n",
       "  </tbody>\n",
       "</table>\n",
       "<p>2 rows × 27 columns</p>\n",
       "</div>"
      ],
      "text/plain": [
       "   RESPID  GENDER   AGE                             WORKING REGION  \\\n",
       "0   36927  Female  60.0                               Other  South   \n",
       "1    3566  Female  36.0  Full-time housewife / househusband  South   \n",
       "\n",
       "                                               MUSIC LIST_OWN LIST_BACK    Q1  \\\n",
       "0  Music is important to me but not necessarily m...   1 hour       NaN  49.0   \n",
       "1  Music is important to me but not necessarily m...   1 hour    1 hour  55.0   \n",
       "\n",
       "     Q2  ...    Q10   Q11   Q12   Q13   Q14   Q15   Q16   Q17   Q18   Q19  \n",
       "0  50.0  ...   50.0  50.0  71.0  52.0  71.0   9.0   7.0  72.0  49.0  26.0  \n",
       "1  55.0  ...   12.0  65.0  65.0  80.0  79.0  51.0  31.0  68.0  54.0  33.0  \n",
       "\n",
       "[2 rows x 27 columns]"
      ]
     },
     "execution_count": 31,
     "metadata": {},
     "output_type": "execute_result"
    }
   ],
   "source": [
    "users.head(2)"
   ]
  },
  {
   "cell_type": "code",
   "execution_count": 32,
   "metadata": {
    "collapsed": false
   },
   "outputs": [
    {
     "data": {
      "text/plain": [
       "array(['South', 'Midlands', 'North', 'Centre', nan, 'Northern Ireland',\n",
       "       'North Ireland'], dtype=object)"
      ]
     },
     "execution_count": 32,
     "metadata": {},
     "output_type": "execute_result"
    }
   ],
   "source": [
    "users['REGION'].unique()"
   ]
  },
  {
   "cell_type": "code",
   "execution_count": 33,
   "metadata": {
    "collapsed": false
   },
   "outputs": [],
   "source": [
    "def region_cleaner(x):\n",
    "    if x == 'North Ireland':\n",
    "        return 'Northern Ireland'\n",
    "    else:\n",
    "        return x"
   ]
  },
  {
   "cell_type": "code",
   "execution_count": 34,
   "metadata": {
    "collapsed": false
   },
   "outputs": [],
   "source": [
    "users['REGION'] = users['REGION'].apply(region_cleaner)"
   ]
  },
  {
   "cell_type": "code",
   "execution_count": 35,
   "metadata": {
    "collapsed": false
   },
   "outputs": [
    {
     "data": {
      "text/plain": [
       "array(['South', 'Midlands', 'North', 'Centre', nan, 'Northern Ireland'], dtype=object)"
      ]
     },
     "execution_count": 35,
     "metadata": {},
     "output_type": "execute_result"
    }
   ],
   "source": [
    "users['REGION'].unique()"
   ]
  },
  {
   "cell_type": "code",
   "execution_count": 36,
   "metadata": {
    "collapsed": false
   },
   "outputs": [
    {
     "data": {
      "text/html": [
       "<div>\n",
       "<table border=\"1\" class=\"dataframe\">\n",
       "  <thead>\n",
       "    <tr style=\"text-align: right;\">\n",
       "      <th></th>\n",
       "      <th>AGE</th>\n",
       "    </tr>\n",
       "    <tr>\n",
       "      <th>REGION</th>\n",
       "      <th></th>\n",
       "    </tr>\n",
       "  </thead>\n",
       "  <tbody>\n",
       "    <tr>\n",
       "      <th>Centre</th>\n",
       "      <td>39.948709</td>\n",
       "    </tr>\n",
       "    <tr>\n",
       "      <th>Midlands</th>\n",
       "      <td>39.636433</td>\n",
       "    </tr>\n",
       "    <tr>\n",
       "      <th>North</th>\n",
       "      <td>39.281763</td>\n",
       "    </tr>\n",
       "    <tr>\n",
       "      <th>Northern Ireland</th>\n",
       "      <td>38.789062</td>\n",
       "    </tr>\n",
       "    <tr>\n",
       "      <th>South</th>\n",
       "      <td>38.817181</td>\n",
       "    </tr>\n",
       "  </tbody>\n",
       "</table>\n",
       "</div>"
      ],
      "text/plain": [
       "                        AGE\n",
       "REGION                     \n",
       "Centre            39.948709\n",
       "Midlands          39.636433\n",
       "North             39.281763\n",
       "Northern Ireland  38.789062\n",
       "South             38.817181"
      ]
     },
     "execution_count": 36,
     "metadata": {},
     "output_type": "execute_result"
    }
   ],
   "source": [
    "pd.pivot_table(users, index='REGION', values=['AGE'])"
   ]
  },
  {
   "cell_type": "code",
   "execution_count": 37,
   "metadata": {
    "collapsed": false
   },
   "outputs": [
    {
     "data": {
      "text/html": [
       "<div>\n",
       "<table border=\"1\" class=\"dataframe\">\n",
       "  <thead>\n",
       "    <tr style=\"text-align: right;\">\n",
       "      <th></th>\n",
       "      <th>REGION</th>\n",
       "      <th>Centre</th>\n",
       "      <th>Midlands</th>\n",
       "      <th>North</th>\n",
       "      <th>Northern Ireland</th>\n",
       "      <th>South</th>\n",
       "    </tr>\n",
       "  </thead>\n",
       "  <tbody>\n",
       "    <tr>\n",
       "      <th rowspan=\"2\" valign=\"top\">Q1</th>\n",
       "      <th>mean</th>\n",
       "      <td>49.354884</td>\n",
       "      <td>47.659271</td>\n",
       "      <td>49.261757</td>\n",
       "      <td>51.918192</td>\n",
       "      <td>49.628372</td>\n",
       "    </tr>\n",
       "    <tr>\n",
       "      <th>std</th>\n",
       "      <td>27.113752</td>\n",
       "      <td>27.423501</td>\n",
       "      <td>27.124749</td>\n",
       "      <td>27.913822</td>\n",
       "      <td>28.108335</td>\n",
       "    </tr>\n",
       "    <tr>\n",
       "      <th rowspan=\"2\" valign=\"top\">Q2</th>\n",
       "      <th>mean</th>\n",
       "      <td>54.502460</td>\n",
       "      <td>53.586184</td>\n",
       "      <td>55.050848</td>\n",
       "      <td>54.732260</td>\n",
       "      <td>54.864797</td>\n",
       "    </tr>\n",
       "    <tr>\n",
       "      <th>std</th>\n",
       "      <td>23.531570</td>\n",
       "      <td>23.806331</td>\n",
       "      <td>23.439537</td>\n",
       "      <td>23.792060</td>\n",
       "      <td>24.138618</td>\n",
       "    </tr>\n",
       "    <tr>\n",
       "      <th rowspan=\"2\" valign=\"top\">Q3</th>\n",
       "      <th>mean</th>\n",
       "      <td>52.342235</td>\n",
       "      <td>49.971838</td>\n",
       "      <td>51.435469</td>\n",
       "      <td>52.922007</td>\n",
       "      <td>51.628030</td>\n",
       "    </tr>\n",
       "    <tr>\n",
       "      <th>std</th>\n",
       "      <td>26.278358</td>\n",
       "      <td>26.525948</td>\n",
       "      <td>26.001730</td>\n",
       "      <td>25.984695</td>\n",
       "      <td>27.028842</td>\n",
       "    </tr>\n",
       "    <tr>\n",
       "      <th rowspan=\"2\" valign=\"top\">Q4</th>\n",
       "      <th>mean</th>\n",
       "      <td>37.333099</td>\n",
       "      <td>36.705836</td>\n",
       "      <td>37.442155</td>\n",
       "      <td>38.677663</td>\n",
       "      <td>37.436479</td>\n",
       "    </tr>\n",
       "    <tr>\n",
       "      <th>std</th>\n",
       "      <td>23.482201</td>\n",
       "      <td>23.394976</td>\n",
       "      <td>23.338787</td>\n",
       "      <td>24.008693</td>\n",
       "      <td>24.011092</td>\n",
       "    </tr>\n",
       "    <tr>\n",
       "      <th rowspan=\"2\" valign=\"top\">Q5</th>\n",
       "      <th>mean</th>\n",
       "      <td>34.953268</td>\n",
       "      <td>34.166268</td>\n",
       "      <td>35.041861</td>\n",
       "      <td>35.546130</td>\n",
       "      <td>34.246141</td>\n",
       "    </tr>\n",
       "    <tr>\n",
       "      <th>std</th>\n",
       "      <td>23.403489</td>\n",
       "      <td>22.943161</td>\n",
       "      <td>23.162366</td>\n",
       "      <td>24.366912</td>\n",
       "      <td>23.424831</td>\n",
       "    </tr>\n",
       "    <tr>\n",
       "      <th rowspan=\"2\" valign=\"top\">Q6</th>\n",
       "      <th>mean</th>\n",
       "      <td>39.766339</td>\n",
       "      <td>39.188968</td>\n",
       "      <td>39.198046</td>\n",
       "      <td>40.451411</td>\n",
       "      <td>39.508066</td>\n",
       "    </tr>\n",
       "    <tr>\n",
       "      <th>std</th>\n",
       "      <td>26.045989</td>\n",
       "      <td>25.674455</td>\n",
       "      <td>25.495452</td>\n",
       "      <td>26.699869</td>\n",
       "      <td>26.009996</td>\n",
       "    </tr>\n",
       "    <tr>\n",
       "      <th rowspan=\"2\" valign=\"top\">Q7</th>\n",
       "      <th>mean</th>\n",
       "      <td>31.520028</td>\n",
       "      <td>33.409528</td>\n",
       "      <td>34.170340</td>\n",
       "      <td>36.389570</td>\n",
       "      <td>34.151808</td>\n",
       "    </tr>\n",
       "    <tr>\n",
       "      <th>std</th>\n",
       "      <td>26.095151</td>\n",
       "      <td>25.455884</td>\n",
       "      <td>25.678658</td>\n",
       "      <td>26.778535</td>\n",
       "      <td>25.951591</td>\n",
       "    </tr>\n",
       "    <tr>\n",
       "      <th rowspan=\"2\" valign=\"top\">Q8</th>\n",
       "      <th>mean</th>\n",
       "      <td>27.508082</td>\n",
       "      <td>28.586260</td>\n",
       "      <td>29.840219</td>\n",
       "      <td>31.866196</td>\n",
       "      <td>29.040321</td>\n",
       "    </tr>\n",
       "    <tr>\n",
       "      <th>std</th>\n",
       "      <td>23.798224</td>\n",
       "      <td>23.929615</td>\n",
       "      <td>24.312460</td>\n",
       "      <td>25.934636</td>\n",
       "      <td>24.412381</td>\n",
       "    </tr>\n",
       "    <tr>\n",
       "      <th rowspan=\"2\" valign=\"top\">Q9</th>\n",
       "      <th>mean</th>\n",
       "      <td>48.748067</td>\n",
       "      <td>47.829239</td>\n",
       "      <td>47.942287</td>\n",
       "      <td>46.658688</td>\n",
       "      <td>47.688025</td>\n",
       "    </tr>\n",
       "    <tr>\n",
       "      <th>std</th>\n",
       "      <td>27.225830</td>\n",
       "      <td>27.361854</td>\n",
       "      <td>27.099625</td>\n",
       "      <td>26.965049</td>\n",
       "      <td>27.645725</td>\n",
       "    </tr>\n",
       "    <tr>\n",
       "      <th rowspan=\"2\" valign=\"top\">Q10</th>\n",
       "      <th>mean</th>\n",
       "      <td>55.739986</td>\n",
       "      <td>54.207705</td>\n",
       "      <td>55.278241</td>\n",
       "      <td>56.028501</td>\n",
       "      <td>55.001152</td>\n",
       "    </tr>\n",
       "    <tr>\n",
       "      <th>std</th>\n",
       "      <td>25.813796</td>\n",
       "      <td>25.337672</td>\n",
       "      <td>25.386770</td>\n",
       "      <td>25.620541</td>\n",
       "      <td>25.700008</td>\n",
       "    </tr>\n",
       "    <tr>\n",
       "      <th rowspan=\"2\" valign=\"top\">Q11</th>\n",
       "      <th>mean</th>\n",
       "      <td>59.952214</td>\n",
       "      <td>57.711523</td>\n",
       "      <td>58.913459</td>\n",
       "      <td>60.881588</td>\n",
       "      <td>58.545370</td>\n",
       "    </tr>\n",
       "    <tr>\n",
       "      <th>std</th>\n",
       "      <td>23.673582</td>\n",
       "      <td>23.703721</td>\n",
       "      <td>23.749382</td>\n",
       "      <td>23.495527</td>\n",
       "      <td>24.058792</td>\n",
       "    </tr>\n",
       "    <tr>\n",
       "      <th rowspan=\"2\" valign=\"top\">Q12</th>\n",
       "      <th>mean</th>\n",
       "      <td>55.339775</td>\n",
       "      <td>52.663535</td>\n",
       "      <td>54.155335</td>\n",
       "      <td>55.524212</td>\n",
       "      <td>53.383755</td>\n",
       "    </tr>\n",
       "    <tr>\n",
       "      <th>std</th>\n",
       "      <td>25.445821</td>\n",
       "      <td>25.244402</td>\n",
       "      <td>25.176232</td>\n",
       "      <td>25.270847</td>\n",
       "      <td>25.691726</td>\n",
       "    </tr>\n",
       "    <tr>\n",
       "      <th rowspan=\"2\" valign=\"top\">Q13</th>\n",
       "      <th>mean</th>\n",
       "      <td>45.777934</td>\n",
       "      <td>45.554860</td>\n",
       "      <td>47.720319</td>\n",
       "      <td>49.782811</td>\n",
       "      <td>47.244503</td>\n",
       "    </tr>\n",
       "    <tr>\n",
       "      <th>std</th>\n",
       "      <td>26.586964</td>\n",
       "      <td>26.397191</td>\n",
       "      <td>26.462901</td>\n",
       "      <td>26.734209</td>\n",
       "      <td>27.029861</td>\n",
       "    </tr>\n",
       "    <tr>\n",
       "      <th rowspan=\"2\" valign=\"top\">Q14</th>\n",
       "      <th>mean</th>\n",
       "      <td>53.711174</td>\n",
       "      <td>51.961904</td>\n",
       "      <td>53.903217</td>\n",
       "      <td>55.498357</td>\n",
       "      <td>53.801295</td>\n",
       "    </tr>\n",
       "    <tr>\n",
       "      <th>std</th>\n",
       "      <td>25.447617</td>\n",
       "      <td>25.783075</td>\n",
       "      <td>25.645233</td>\n",
       "      <td>25.279712</td>\n",
       "      <td>26.045004</td>\n",
       "    </tr>\n",
       "    <tr>\n",
       "      <th rowspan=\"2\" valign=\"top\">Q15</th>\n",
       "      <th>mean</th>\n",
       "      <td>39.140548</td>\n",
       "      <td>38.973035</td>\n",
       "      <td>39.965972</td>\n",
       "      <td>41.644190</td>\n",
       "      <td>39.733633</td>\n",
       "    </tr>\n",
       "    <tr>\n",
       "      <th>std</th>\n",
       "      <td>26.038810</td>\n",
       "      <td>25.888528</td>\n",
       "      <td>25.981461</td>\n",
       "      <td>25.839855</td>\n",
       "      <td>26.270311</td>\n",
       "    </tr>\n",
       "    <tr>\n",
       "      <th rowspan=\"2\" valign=\"top\">Q16</th>\n",
       "      <th>mean</th>\n",
       "      <td>31.424807</td>\n",
       "      <td>35.970153</td>\n",
       "      <td>36.252149</td>\n",
       "      <td>36.739295</td>\n",
       "      <td>35.517549</td>\n",
       "    </tr>\n",
       "    <tr>\n",
       "      <th>std</th>\n",
       "      <td>24.444704</td>\n",
       "      <td>25.273930</td>\n",
       "      <td>25.467407</td>\n",
       "      <td>26.011399</td>\n",
       "      <td>25.456356</td>\n",
       "    </tr>\n",
       "    <tr>\n",
       "      <th rowspan=\"2\" valign=\"top\">Q17</th>\n",
       "      <th>mean</th>\n",
       "      <td>54.195011</td>\n",
       "      <td>53.121626</td>\n",
       "      <td>54.330376</td>\n",
       "      <td>56.614002</td>\n",
       "      <td>53.411706</td>\n",
       "    </tr>\n",
       "    <tr>\n",
       "      <th>std</th>\n",
       "      <td>25.632037</td>\n",
       "      <td>25.886854</td>\n",
       "      <td>25.558553</td>\n",
       "      <td>25.793732</td>\n",
       "      <td>26.272896</td>\n",
       "    </tr>\n",
       "    <tr>\n",
       "      <th rowspan=\"2\" valign=\"top\">Q18</th>\n",
       "      <th>mean</th>\n",
       "      <td>NaN</td>\n",
       "      <td>41.105078</td>\n",
       "      <td>42.588226</td>\n",
       "      <td>43.761730</td>\n",
       "      <td>42.828688</td>\n",
       "    </tr>\n",
       "    <tr>\n",
       "      <th>std</th>\n",
       "      <td>NaN</td>\n",
       "      <td>25.389778</td>\n",
       "      <td>25.471719</td>\n",
       "      <td>25.845215</td>\n",
       "      <td>26.137715</td>\n",
       "    </tr>\n",
       "    <tr>\n",
       "      <th rowspan=\"2\" valign=\"top\">Q19</th>\n",
       "      <th>mean</th>\n",
       "      <td>NaN</td>\n",
       "      <td>40.344441</td>\n",
       "      <td>41.684144</td>\n",
       "      <td>43.413574</td>\n",
       "      <td>41.859512</td>\n",
       "    </tr>\n",
       "    <tr>\n",
       "      <th>std</th>\n",
       "      <td>NaN</td>\n",
       "      <td>26.313162</td>\n",
       "      <td>26.091711</td>\n",
       "      <td>27.052442</td>\n",
       "      <td>26.919528</td>\n",
       "    </tr>\n",
       "  </tbody>\n",
       "</table>\n",
       "</div>"
      ],
      "text/plain": [
       "REGION       Centre   Midlands      North  Northern Ireland      South\n",
       "Q1  mean  49.354884  47.659271  49.261757         51.918192  49.628372\n",
       "    std   27.113752  27.423501  27.124749         27.913822  28.108335\n",
       "Q2  mean  54.502460  53.586184  55.050848         54.732260  54.864797\n",
       "    std   23.531570  23.806331  23.439537         23.792060  24.138618\n",
       "Q3  mean  52.342235  49.971838  51.435469         52.922007  51.628030\n",
       "    std   26.278358  26.525948  26.001730         25.984695  27.028842\n",
       "Q4  mean  37.333099  36.705836  37.442155         38.677663  37.436479\n",
       "    std   23.482201  23.394976  23.338787         24.008693  24.011092\n",
       "Q5  mean  34.953268  34.166268  35.041861         35.546130  34.246141\n",
       "    std   23.403489  22.943161  23.162366         24.366912  23.424831\n",
       "Q6  mean  39.766339  39.188968  39.198046         40.451411  39.508066\n",
       "    std   26.045989  25.674455  25.495452         26.699869  26.009996\n",
       "Q7  mean  31.520028  33.409528  34.170340         36.389570  34.151808\n",
       "    std   26.095151  25.455884  25.678658         26.778535  25.951591\n",
       "Q8  mean  27.508082  28.586260  29.840219         31.866196  29.040321\n",
       "    std   23.798224  23.929615  24.312460         25.934636  24.412381\n",
       "Q9  mean  48.748067  47.829239  47.942287         46.658688  47.688025\n",
       "    std   27.225830  27.361854  27.099625         26.965049  27.645725\n",
       "Q10 mean  55.739986  54.207705  55.278241         56.028501  55.001152\n",
       "    std   25.813796  25.337672  25.386770         25.620541  25.700008\n",
       "Q11 mean  59.952214  57.711523  58.913459         60.881588  58.545370\n",
       "    std   23.673582  23.703721  23.749382         23.495527  24.058792\n",
       "Q12 mean  55.339775  52.663535  54.155335         55.524212  53.383755\n",
       "    std   25.445821  25.244402  25.176232         25.270847  25.691726\n",
       "Q13 mean  45.777934  45.554860  47.720319         49.782811  47.244503\n",
       "    std   26.586964  26.397191  26.462901         26.734209  27.029861\n",
       "Q14 mean  53.711174  51.961904  53.903217         55.498357  53.801295\n",
       "    std   25.447617  25.783075  25.645233         25.279712  26.045004\n",
       "Q15 mean  39.140548  38.973035  39.965972         41.644190  39.733633\n",
       "    std   26.038810  25.888528  25.981461         25.839855  26.270311\n",
       "Q16 mean  31.424807  35.970153  36.252149         36.739295  35.517549\n",
       "    std   24.444704  25.273930  25.467407         26.011399  25.456356\n",
       "Q17 mean  54.195011  53.121626  54.330376         56.614002  53.411706\n",
       "    std   25.632037  25.886854  25.558553         25.793732  26.272896\n",
       "Q18 mean        NaN  41.105078  42.588226         43.761730  42.828688\n",
       "    std         NaN  25.389778  25.471719         25.845215  26.137715\n",
       "Q19 mean        NaN  40.344441  41.684144         43.413574  41.859512\n",
       "    std         NaN  26.313162  26.091711         27.052442  26.919528"
      ]
     },
     "execution_count": 37,
     "metadata": {},
     "output_type": "execute_result"
    }
   ],
   "source": [
    "questions_by_region = pd.pivot_table(users,index='REGION',values=['Q1','Q2','Q3','Q4','Q5','Q6',\n",
    "                                            'Q7','Q8','Q9','Q10','Q11',\n",
    "                                            'Q12','Q13','Q14','Q15','Q16',\n",
    "                                            'Q17','Q18','Q19'],aggfunc=(np.mean,np.std)).T\n",
    "questions_by_region"
   ]
  },
  {
   "cell_type": "code",
   "execution_count": 38,
   "metadata": {
    "collapsed": false
   },
   "outputs": [
    {
     "data": {
      "text/plain": [
       "<matplotlib.axes._subplots.AxesSubplot at 0x11aa79490>"
      ]
     },
     "execution_count": 38,
     "metadata": {},
     "output_type": "execute_result"
    },
    {
     "data": {
      "image/png": "[encoded data removed]",
      "text/plain": [
       "<matplotlib.figure.Figure at 0x11ab9f510>"
      ]
     },
     "metadata": {},
     "output_type": "display_data"
    }
   ],
   "source": [
    "plt.figure(figsize=(10,7))\n",
    "sns.heatmap(words.isnull(),yticklabels=False, cbar=False, cmap='viridis')\n"
   ]
  },
  {
   "cell_type": "code",
   "execution_count": 39,
   "metadata": {
    "collapsed": false
   },
   "outputs": [
    {
     "name": "stdout",
     "output_type": "stream",
     "text": [
      "Index([u'Unnamed: 0', u'Artist', u'User', u'HEARD_OF', u'Edgy_', u'Negative_',\n",
      "       u'Sensitive_', u'Stylish_', u'Dark_', u'None_of_these_', u'Mainstream_',\n",
      "       u'Iconic_', u'Playful_', u'Outdated_', u'Chill_'],\n",
      "      dtype='object')\n",
      "Index([u'RESPID', u'GENDER', u'AGE', u'WORKING', u'REGION', u'MUSIC',\n",
      "       u'LIST_OWN', u'LIST_BACK', u'Q1', u'Q2', u'Q3', u'Q4', u'Q5', u'Q6',\n",
      "       u'Q7', u'Q8', u'Q9', u'Q10', u'Q11', u'Q12', u'Q13', u'Q14', u'Q15',\n",
      "       u'Q16', u'Q17', u'Q18', u'Q19'],\n",
      "      dtype='object')\n"
     ]
    }
   ],
   "source": [
    "print words.columns\n",
    "print users_w_headers.columns"
   ]
  },
  {
   "cell_type": "code",
   "execution_count": 40,
   "metadata": {
    "collapsed": false
   },
   "outputs": [
    {
     "data": {
      "text/plain": [
       "<matplotlib.axes._subplots.AxesSubplot at 0x11b853ed0>"
      ]
     },
     "execution_count": 40,
     "metadata": {},
     "output_type": "execute_result"
    },
    {
     "data": {
      "image/png": "[encoded data removed]",
      "text/plain": [
       "<matplotlib.figure.Figure at 0x119f37810>"
      ]
     },
     "metadata": {},
     "output_type": "display_data"
    }
   ],
   "source": [
    "# Graph the number of negative words associated with each artist, per listener gender.\n",
    "sns.countplot(x='Negative_',hue='GENDER',data=words_users[words_users['AGE']>40])"
   ]
  },
  {
   "cell_type": "code",
   "execution_count": 41,
   "metadata": {
    "collapsed": false
   },
   "outputs": [
    {
     "data": {
      "text/plain": [
       "<matplotlib.axes._subplots.AxesSubplot at 0x11e335150>"
      ]
     },
     "execution_count": 41,
     "metadata": {},
     "output_type": "execute_result"
    },
    {
     "data": {
      "image/png": "[encoded data removed]",
      "text/plain": [
       "<matplotlib.figure.Figure at 0x11e31df10>"
      ]
     },
     "metadata": {},
     "output_type": "display_data"
    }
   ],
   "source": [
    "sns.countplot(x='Edgy_',hue='GENDER',data=words_users)"
   ]
  },
  {
   "cell_type": "code",
   "execution_count": 42,
   "metadata": {
    "collapsed": false
   },
   "outputs": [
    {
     "data": {
      "text/html": [
       "<div>\n",
       "<table border=\"1\" class=\"dataframe\">\n",
       "  <thead>\n",
       "    <tr style=\"text-align: right;\">\n",
       "      <th></th>\n",
       "      <th>Artist</th>\n",
       "      <th>Track</th>\n",
       "      <th>User</th>\n",
       "      <th>Rating</th>\n",
       "      <th>Time</th>\n",
       "    </tr>\n",
       "  </thead>\n",
       "  <tbody>\n",
       "    <tr>\n",
       "      <th>count</th>\n",
       "      <td>188690.000000</td>\n",
       "      <td>188690.000000</td>\n",
       "      <td>188690.000000</td>\n",
       "      <td>188690.000000</td>\n",
       "      <td>188690.000000</td>\n",
       "    </tr>\n",
       "    <tr>\n",
       "      <th>mean</th>\n",
       "      <td>22.207753</td>\n",
       "      <td>86.516191</td>\n",
       "      <td>26478.842106</td>\n",
       "      <td>36.435391</td>\n",
       "      <td>15.660671</td>\n",
       "    </tr>\n",
       "    <tr>\n",
       "      <th>std</th>\n",
       "      <td>14.485397</td>\n",
       "      <td>56.017025</td>\n",
       "      <td>13632.273985</td>\n",
       "      <td>22.586036</td>\n",
       "      <td>6.441050</td>\n",
       "    </tr>\n",
       "    <tr>\n",
       "      <th>min</th>\n",
       "      <td>0.000000</td>\n",
       "      <td>0.000000</td>\n",
       "      <td>0.000000</td>\n",
       "      <td>0.000000</td>\n",
       "      <td>0.000000</td>\n",
       "    </tr>\n",
       "    <tr>\n",
       "      <th>25%</th>\n",
       "      <td>10.000000</td>\n",
       "      <td>36.000000</td>\n",
       "      <td>17711.000000</td>\n",
       "      <td>15.000000</td>\n",
       "      <td>12.000000</td>\n",
       "    </tr>\n",
       "    <tr>\n",
       "      <th>50%</th>\n",
       "      <td>22.000000</td>\n",
       "      <td>80.000000</td>\n",
       "      <td>27831.000000</td>\n",
       "      <td>32.000000</td>\n",
       "      <td>17.000000</td>\n",
       "    </tr>\n",
       "    <tr>\n",
       "      <th>75%</th>\n",
       "      <td>35.000000</td>\n",
       "      <td>142.000000</td>\n",
       "      <td>35949.000000</td>\n",
       "      <td>50.000000</td>\n",
       "      <td>21.000000</td>\n",
       "    </tr>\n",
       "    <tr>\n",
       "      <th>max</th>\n",
       "      <td>49.000000</td>\n",
       "      <td>183.000000</td>\n",
       "      <td>50927.000000</td>\n",
       "      <td>100.000000</td>\n",
       "      <td>23.000000</td>\n",
       "    </tr>\n",
       "  </tbody>\n",
       "</table>\n",
       "</div>"
      ],
      "text/plain": [
       "              Artist          Track           User         Rating  \\\n",
       "count  188690.000000  188690.000000  188690.000000  188690.000000   \n",
       "mean       22.207753      86.516191   26478.842106      36.435391   \n",
       "std        14.485397      56.017025   13632.273985      22.586036   \n",
       "min         0.000000       0.000000       0.000000       0.000000   \n",
       "25%        10.000000      36.000000   17711.000000      15.000000   \n",
       "50%        22.000000      80.000000   27831.000000      32.000000   \n",
       "75%        35.000000     142.000000   35949.000000      50.000000   \n",
       "max        49.000000     183.000000   50927.000000     100.000000   \n",
       "\n",
       "                Time  \n",
       "count  188690.000000  \n",
       "mean       15.660671  \n",
       "std         6.441050  \n",
       "min         0.000000  \n",
       "25%        12.000000  \n",
       "50%        17.000000  \n",
       "75%        21.000000  \n",
       "max        23.000000  "
      ]
     },
     "execution_count": 42,
     "metadata": {},
     "output_type": "execute_result"
    }
   ],
   "source": [
    "train.describe()"
   ]
  },
  {
   "cell_type": "markdown",
   "metadata": {},
   "source": [
    "**The plot below shows that, similar to the listener preferences questions in the 'users' data, ratings tend to peak at intervals of 10, 30, 50, 70, and 90, with smaller peaks towards higher numbers. The most frequent rating is around 30.**"
   ]
  },
  {
   "cell_type": "code",
   "execution_count": 43,
   "metadata": {
    "collapsed": false
   },
   "outputs": [
    {
     "data": {
      "text/plain": [
       "<matplotlib.axes._subplots.AxesSubplot at 0x116cb4090>"
      ]
     },
     "execution_count": 43,
     "metadata": {},
     "output_type": "execute_result"
    },
    {
     "data": {
      "image/png": "[encoded data removed]",
      "text/plain": [
       "<matplotlib.figure.Figure at 0x11ea34690>"
      ]
     },
     "metadata": {},
     "output_type": "display_data"
    }
   ],
   "source": [
    "sns.distplot(train['Rating'],kde=False)"
   ]
  },
  {
   "cell_type": "code",
   "execution_count": 44,
   "metadata": {
    "collapsed": false
   },
   "outputs": [
    {
     "data": {
      "text/plain": [
       "<matplotlib.axes._subplots.AxesSubplot at 0x11f3a3fd0>"
      ]
     },
     "execution_count": 44,
     "metadata": {},
     "output_type": "execute_result"
    },
    {
     "data": {
      "image/png": "[encoded data removed]",
      "text/plain": [
       "<matplotlib.figure.Figure at 0x120a66610>"
      ]
     },
     "metadata": {},
     "output_type": "display_data"
    }
   ],
   "source": [
    "plt.figure(figsize=(10,7))\n",
    "sns.heatmap(users.isnull(),yticklabels=False, cbar=False, cmap='viridis')\n"
   ]
  },
  {
   "cell_type": "markdown",
   "metadata": {},
   "source": [
    "## Use the code below to filter out columns with too many null values."
   ]
  },
  {
   "cell_type": "code",
   "execution_count": 45,
   "metadata": {
    "collapsed": false,
    "scrolled": true
   },
   "outputs": [
    {
     "name": "stdout",
     "output_type": "stream",
     "text": [
      "<class 'pandas.core.frame.DataFrame'>\n",
      "Int64Index: 113735 entries, 0 to 118284\n",
      "Data columns (total 42 columns):\n",
      "Unnamed: 0        113735 non-null int64\n",
      "Artist            113735 non-null int64\n",
      "User              113735 non-null int64\n",
      "HEARD_OF          113711 non-null object\n",
      "Edgy_             113735 non-null float64\n",
      "Negative_         113735 non-null float64\n",
      "Sensitive_        113735 non-null float64\n",
      "Stylish_          113735 non-null float64\n",
      "Dark_             113735 non-null float64\n",
      "None_of_these_    113735 non-null int64\n",
      "Mainstream_       113735 non-null float64\n",
      "Iconic_           113735 non-null float64\n",
      "Playful_          113735 non-null float64\n",
      "Outdated_         113735 non-null float64\n",
      "Chill_            113735 non-null float64\n",
      "RESPID            113735 non-null int64\n",
      "GENDER            113735 non-null object\n",
      "AGE               112643 non-null float64\n",
      "WORKING           83039 non-null object\n",
      "REGION            111326 non-null object\n",
      "MUSIC             113735 non-null object\n",
      "LIST_OWN          99833 non-null float64\n",
      "LIST_BACK         100063 non-null float64\n",
      "Q1                113735 non-null float64\n",
      "Q2                113735 non-null float64\n",
      "Q3                113735 non-null float64\n",
      "Q4                113735 non-null float64\n",
      "Q5                113735 non-null float64\n",
      "Q6                113735 non-null float64\n",
      "Q7                113735 non-null float64\n",
      "Q8                113735 non-null float64\n",
      "Q9                113735 non-null float64\n",
      "Q10               113735 non-null float64\n",
      "Q11               113735 non-null float64\n",
      "Q12               113735 non-null float64\n",
      "Q13               113735 non-null float64\n",
      "Q14               113735 non-null float64\n",
      "Q15               113735 non-null float64\n",
      "Q16               98704 non-null float64\n",
      "Q17               113735 non-null float64\n",
      "Q18               83039 non-null float64\n",
      "Q19               83039 non-null float64\n",
      "dtypes: float64(32), int64(5), object(5)\n",
      "memory usage: 37.3+ MB\n"
     ]
    }
   ],
   "source": [
    "words_users.info()"
   ]
  },
  {
   "cell_type": "code",
   "execution_count": 46,
   "metadata": {
    "collapsed": false,
    "scrolled": true
   },
   "outputs": [
    {
     "data": {
      "text/plain": [
       "['Unnamed: 0',\n",
       " 'Artist',\n",
       " 'User',\n",
       " 'HEARD_OF',\n",
       " 'Edgy_',\n",
       " 'Negative_',\n",
       " 'Sensitive_',\n",
       " 'Stylish_',\n",
       " 'Dark_',\n",
       " 'None_of_these_',\n",
       " 'Mainstream_',\n",
       " 'Iconic_',\n",
       " 'Playful_',\n",
       " 'Outdated_',\n",
       " 'Chill_',\n",
       " 'RESPID',\n",
       " 'GENDER',\n",
       " 'AGE',\n",
       " 'WORKING',\n",
       " 'REGION',\n",
       " 'MUSIC',\n",
       " 'LIST_OWN',\n",
       " 'LIST_BACK',\n",
       " 'Q1',\n",
       " 'Q2',\n",
       " 'Q3',\n",
       " 'Q4',\n",
       " 'Q5',\n",
       " 'Q6',\n",
       " 'Q7',\n",
       " 'Q8',\n",
       " 'Q9',\n",
       " 'Q10',\n",
       " 'Q11',\n",
       " 'Q12',\n",
       " 'Q13',\n",
       " 'Q14',\n",
       " 'Q15',\n",
       " 'Q16',\n",
       " 'Q17',\n",
       " 'Q18',\n",
       " 'Q19']"
      ]
     },
     "execution_count": 46,
     "metadata": {},
     "output_type": "execute_result"
    }
   ],
   "source": [
    "columns = [col for col in words_users\n",
    "           if len(words_users[col])-pd.isnull(words_users[col]).sum() >=50000]\n",
    "columns"
   ]
  },
  {
   "cell_type": "code",
   "execution_count": 47,
   "metadata": {
    "collapsed": false
   },
   "outputs": [
    {
     "name": "stdout",
     "output_type": "stream",
     "text": [
      "Q18=Q19? - True\n",
      "Missing values: 35520\n"
     ]
    }
   ],
   "source": [
    "# It appears that if users do not answer Question 18, they also do not answer Question 19.\n",
    "print 'Q18=Q19? - {}'.format(len(users['Q19'])-sum(pd.isnull(users['Q19']))==\\\n",
    "                             len(users['Q18'])-sum(pd.isnull(users['Q18'])))\n",
    "print 'Missing values: {}'.format(len(users['Q19'])-sum(pd.isnull(users['Q19'])))"
   ]
  },
  {
   "cell_type": "code",
   "execution_count": 48,
   "metadata": {
    "collapsed": false
   },
   "outputs": [
    {
     "name": "stdout",
     "output_type": "stream",
     "text": [
      "Length of training dataset: 188690\n",
      "Length of users dataset: 48645\n",
      "Length of words dataset: 118301\n"
     ]
    }
   ],
   "source": [
    "print 'Length of training dataset: {}'.format(len(train))\n",
    "print 'Length of users dataset: {}'.format(len(users))\n",
    "print 'Length of words dataset: {}'.format(len(words))\n"
   ]
  },
  {
   "cell_type": "markdown",
   "metadata": {},
   "source": [
    "### Distribution of average track ratings for artists"
   ]
  },
  {
   "cell_type": "code",
   "execution_count": 49,
   "metadata": {
    "collapsed": false
   },
   "outputs": [
    {
     "data": {
      "text/plain": [
       "<matplotlib.axes._subplots.AxesSubplot at 0x11c826350>"
      ]
     },
     "execution_count": 49,
     "metadata": {},
     "output_type": "execute_result"
    },
    {
     "data": {
      "image/png": "[encoded data removed]",
      "text/plain": [
       "<matplotlib.figure.Figure at 0x120a847d0>"
      ]
     },
     "metadata": {},
     "output_type": "display_data"
    }
   ],
   "source": [
    "sns.distplot(pd.pivot_table(train, index='Artist',values=['Rating']), kde=False, bins=30, \n",
    "             axlabel='Average artist ratings across all tracks')"
   ]
  },
  {
   "cell_type": "markdown",
   "metadata": {},
   "source": [
    "### Distribution of track ratings"
   ]
  },
  {
   "cell_type": "code",
   "execution_count": 50,
   "metadata": {
    "collapsed": false
   },
   "outputs": [
    {
     "data": {
      "text/plain": [
       "<matplotlib.axes._subplots.AxesSubplot at 0x11c546090>"
      ]
     },
     "execution_count": 50,
     "metadata": {},
     "output_type": "execute_result"
    },
    {
     "data": {
      "image/png": "[encoded data removed]",
      "text/plain": [
       "<matplotlib.figure.Figure at 0x120a7c790>"
      ]
     },
     "metadata": {},
     "output_type": "display_data"
    }
   ],
   "source": [
    "track_ratings = pd.pivot_table(train, index='Track',values=['Rating'])\n",
    "sns.distplot(track_ratings, kde=False, bins=30, axlabel='Average rating by track')"
   ]
  },
  {
   "cell_type": "markdown",
   "metadata": {},
   "source": [
    "### Comparing distributions of mean and median artist ratings"
   ]
  },
  {
   "cell_type": "code",
   "execution_count": 51,
   "metadata": {
    "collapsed": false
   },
   "outputs": [],
   "source": [
    "artists_mean = pd.pivot_table(train, index='Artist',values=['Rating'])\n",
    "artists_median = pd.pivot_table(train, index='Artist',values=['Rating'],aggfunc=np.median)\n",
    "scores = [artists_mean, artists_median]"
   ]
  },
  {
   "cell_type": "code",
   "execution_count": 52,
   "metadata": {
    "collapsed": false
   },
   "outputs": [
    {
     "data": {
      "text/plain": [
       "<matplotlib.legend.Legend at 0x11c23e810>"
      ]
     },
     "execution_count": 52,
     "metadata": {},
     "output_type": "execute_result"
    },
    {
     "data": {
      "image/png": "[encoded data removed]",
      "text/plain": [
       "<matplotlib.figure.Figure at 0x11c13db50>"
      ]
     },
     "metadata": {},
     "output_type": "display_data"
    }
   ],
   "source": [
    "plt.figure(figsize=(10,5))\n",
    "for i in scores:\n",
    "    sns.distplot(i)\n",
    "\n",
    "plt.legend(['Mean artist ratings','Median artist ratings'])"
   ]
  },
  {
   "cell_type": "code",
   "execution_count": 53,
   "metadata": {
    "collapsed": false
   },
   "outputs": [
    {
     "data": {
      "text/html": [
       "<div>\n",
       "<table border=\"1\" class=\"dataframe\">\n",
       "  <thead>\n",
       "    <tr style=\"text-align: right;\">\n",
       "      <th></th>\n",
       "      <th>Artist</th>\n",
       "      <th>Track</th>\n",
       "      <th>User</th>\n",
       "      <th>Rating</th>\n",
       "      <th>Time</th>\n",
       "    </tr>\n",
       "  </thead>\n",
       "  <tbody>\n",
       "    <tr>\n",
       "      <th>0</th>\n",
       "      <td>40</td>\n",
       "      <td>179</td>\n",
       "      <td>47994</td>\n",
       "      <td>9</td>\n",
       "      <td>17</td>\n",
       "    </tr>\n",
       "    <tr>\n",
       "      <th>1</th>\n",
       "      <td>9</td>\n",
       "      <td>23</td>\n",
       "      <td>8575</td>\n",
       "      <td>58</td>\n",
       "      <td>7</td>\n",
       "    </tr>\n",
       "    <tr>\n",
       "      <th>2</th>\n",
       "      <td>46</td>\n",
       "      <td>168</td>\n",
       "      <td>45475</td>\n",
       "      <td>13</td>\n",
       "      <td>16</td>\n",
       "    </tr>\n",
       "    <tr>\n",
       "      <th>3</th>\n",
       "      <td>11</td>\n",
       "      <td>153</td>\n",
       "      <td>39508</td>\n",
       "      <td>42</td>\n",
       "      <td>15</td>\n",
       "    </tr>\n",
       "    <tr>\n",
       "      <th>4</th>\n",
       "      <td>14</td>\n",
       "      <td>32</td>\n",
       "      <td>11565</td>\n",
       "      <td>54</td>\n",
       "      <td>19</td>\n",
       "    </tr>\n",
       "    <tr>\n",
       "      <th>5</th>\n",
       "      <td>31</td>\n",
       "      <td>79</td>\n",
       "      <td>27130</td>\n",
       "      <td>37</td>\n",
       "      <td>11</td>\n",
       "    </tr>\n",
       "    <tr>\n",
       "      <th>6</th>\n",
       "      <td>21</td>\n",
       "      <td>48</td>\n",
       "      <td>19623</td>\n",
       "      <td>69</td>\n",
       "      <td>21</td>\n",
       "    </tr>\n",
       "    <tr>\n",
       "      <th>7</th>\n",
       "      <td>2</td>\n",
       "      <td>174</td>\n",
       "      <td>47505</td>\n",
       "      <td>28</td>\n",
       "      <td>17</td>\n",
       "    </tr>\n",
       "    <tr>\n",
       "      <th>8</th>\n",
       "      <td>12</td>\n",
       "      <td>34</td>\n",
       "      <td>15290</td>\n",
       "      <td>12</td>\n",
       "      <td>8</td>\n",
       "    </tr>\n",
       "    <tr>\n",
       "      <th>9</th>\n",
       "      <td>28</td>\n",
       "      <td>73</td>\n",
       "      <td>24151</td>\n",
       "      <td>70</td>\n",
       "      <td>22</td>\n",
       "    </tr>\n",
       "  </tbody>\n",
       "</table>\n",
       "</div>"
      ],
      "text/plain": [
       "   Artist  Track   User  Rating  Time\n",
       "0      40    179  47994       9    17\n",
       "1       9     23   8575      58     7\n",
       "2      46    168  45475      13    16\n",
       "3      11    153  39508      42    15\n",
       "4      14     32  11565      54    19\n",
       "5      31     79  27130      37    11\n",
       "6      21     48  19623      69    21\n",
       "7       2    174  47505      28    17\n",
       "8      12     34  15290      12     8\n",
       "9      28     73  24151      70    22"
      ]
     },
     "execution_count": 53,
     "metadata": {},
     "output_type": "execute_result"
    }
   ],
   "source": [
    "train.head(10)"
   ]
  },
  {
   "cell_type": "code",
   "execution_count": 54,
   "metadata": {
    "collapsed": false
   },
   "outputs": [],
   "source": [
    "train_sql = pd.read_csv('/Users/johnsnyder/GA-DSI-working/Capstone/EMI/train.csv', low_memory=False)\n",
    "userkey_sql = pd.read_csv('/Users/johnsnyder/GA-DSI-working/Capstone/EMI/UserKey.csv', low_memory=False)\n",
    "users_sql = pd.read_csv('/Users/johnsnyder/GA-DSI-working/Capstone/EMI/users_clean.csv', low_memory=False)\n",
    "words_sql = pd.read_csv('/Users/johnsnyder/GA-DSI-working/Capstone/EMI/words_categorized.csv', low_memory=False)"
   ]
  },
  {
   "cell_type": "code",
   "execution_count": 55,
   "metadata": {
    "collapsed": false
   },
   "outputs": [
    {
     "data": {
      "text/plain": [
       "Index([u'Unnamed: 0', u'Artist', u'User', u'HEARD_OF', u'Edgy_', u'Negative_',\n",
       "       u'Sensitive_', u'Stylish_', u'Dark_', u'None_of_these_', u'Mainstream_',\n",
       "       u'Iconic_', u'Playful_', u'Outdated_', u'Chill_'],\n",
       "      dtype='object')"
      ]
     },
     "execution_count": 55,
     "metadata": {},
     "output_type": "execute_result"
    }
   ],
   "source": [
    "words_sql.columns"
   ]
  },
  {
   "cell_type": "markdown",
   "metadata": {},
   "source": [
    "# Creating database connection and moving csv files to SQL"
   ]
  },
  {
   "cell_type": "code",
   "execution_count": 56,
   "metadata": {
    "collapsed": false
   },
   "outputs": [],
   "source": [
    "from sqlalchemy import create_engine\n",
    "engine = create_engine('postgresql://johnsnyder@localhost:5432/EMI', client_encoding='Latin1')\n",
    "engine.text_factory = str\n",
    "train_sql.to_sql(\"train\", engine, if_exists='replace')\n",
    "words_sql.to_sql(\"words\", engine, if_exists='replace')\n",
    "userkey_sql.to_sql(\"userkey\", engine, if_exists='replace')\n",
    "users_sql.to_sql(\"users\", engine, if_exists='replace')\n"
   ]
  },
  {
   "cell_type": "markdown",
   "metadata": {},
   "source": [
    "# SQL Queries"
   ]
  },
  {
   "cell_type": "markdown",
   "metadata": {},
   "source": [
    "The following query combines all three tables into one. I'll then pull the table back into pandas for further revising.\n",
    "\n",
    "```CREATE TABLE EMI AS\n",
    "SELECT *\n",
    "FROM train \n",
    "LEFT JOIN words \n",
    "ON train.\"User_tr\" = words.\"User_wo\" and train.\"Artist_tr\" = words.\"Artist_wo\"\n",
    "LEFT JOIN users\n",
    "ON train.\"User_tr\" = users.\"RESPID\";```"
   ]
  },
  {
   "cell_type": "code",
   "execution_count": 57,
   "metadata": {
    "collapsed": false
   },
   "outputs": [
    {
     "data": {
      "text/html": [
       "<div>\n",
       "<table border=\"1\" class=\"dataframe\">\n",
       "  <thead>\n",
       "    <tr style=\"text-align: right;\">\n",
       "      <th></th>\n",
       "      <th>index</th>\n",
       "      <th>Artist</th>\n",
       "      <th>Track</th>\n",
       "      <th>User</th>\n",
       "      <th>Rating</th>\n",
       "      <th>Time</th>\n",
       "      <th>index</th>\n",
       "      <th>Unnamed: 0</th>\n",
       "      <th>Artist</th>\n",
       "      <th>User</th>\n",
       "      <th>...</th>\n",
       "      <th>Q10</th>\n",
       "      <th>Q11</th>\n",
       "      <th>Q12</th>\n",
       "      <th>Q13</th>\n",
       "      <th>Q14</th>\n",
       "      <th>Q15</th>\n",
       "      <th>Q16</th>\n",
       "      <th>Q17</th>\n",
       "      <th>Q18</th>\n",
       "      <th>Q19</th>\n",
       "    </tr>\n",
       "  </thead>\n",
       "  <tbody>\n",
       "    <tr>\n",
       "      <th>0</th>\n",
       "      <td>107</td>\n",
       "      <td>45</td>\n",
       "      <td>163</td>\n",
       "      <td>44193</td>\n",
       "      <td>82</td>\n",
       "      <td>16</td>\n",
       "      <td>97118.0</td>\n",
       "      <td>97118.0</td>\n",
       "      <td>45.0</td>\n",
       "      <td>44193.0</td>\n",
       "      <td>...</td>\n",
       "      <td>50.0</td>\n",
       "      <td>80.0</td>\n",
       "      <td>80.0</td>\n",
       "      <td>79.0</td>\n",
       "      <td>86.0</td>\n",
       "      <td>69.0</td>\n",
       "      <td>69.0</td>\n",
       "      <td>69.0</td>\n",
       "      <td>69.0</td>\n",
       "      <td>74.0</td>\n",
       "    </tr>\n",
       "    <tr>\n",
       "      <th>1</th>\n",
       "      <td>215</td>\n",
       "      <td>45</td>\n",
       "      <td>164</td>\n",
       "      <td>44190</td>\n",
       "      <td>89</td>\n",
       "      <td>16</td>\n",
       "      <td>22399.0</td>\n",
       "      <td>22399.0</td>\n",
       "      <td>45.0</td>\n",
       "      <td>44190.0</td>\n",
       "      <td>...</td>\n",
       "      <td>53.0</td>\n",
       "      <td>55.0</td>\n",
       "      <td>56.0</td>\n",
       "      <td>36.0</td>\n",
       "      <td>72.0</td>\n",
       "      <td>49.0</td>\n",
       "      <td>29.0</td>\n",
       "      <td>95.0</td>\n",
       "      <td>57.0</td>\n",
       "      <td>55.0</td>\n",
       "    </tr>\n",
       "    <tr>\n",
       "      <th>2</th>\n",
       "      <td>258</td>\n",
       "      <td>31</td>\n",
       "      <td>80</td>\n",
       "      <td>27083</td>\n",
       "      <td>11</td>\n",
       "      <td>11</td>\n",
       "      <td>85943.0</td>\n",
       "      <td>85943.0</td>\n",
       "      <td>31.0</td>\n",
       "      <td>27083.0</td>\n",
       "      <td>...</td>\n",
       "      <td>52.0</td>\n",
       "      <td>51.0</td>\n",
       "      <td>31.0</td>\n",
       "      <td>10.0</td>\n",
       "      <td>9.0</td>\n",
       "      <td>9.0</td>\n",
       "      <td>9.0</td>\n",
       "      <td>11.0</td>\n",
       "      <td>11.0</td>\n",
       "      <td>11.0</td>\n",
       "    </tr>\n",
       "    <tr>\n",
       "      <th>3</th>\n",
       "      <td>281</td>\n",
       "      <td>11</td>\n",
       "      <td>28</td>\n",
       "      <td>7641</td>\n",
       "      <td>41</td>\n",
       "      <td>7</td>\n",
       "      <td>43411.0</td>\n",
       "      <td>43411.0</td>\n",
       "      <td>11.0</td>\n",
       "      <td>7641.0</td>\n",
       "      <td>...</td>\n",
       "      <td>87.0</td>\n",
       "      <td>87.0</td>\n",
       "      <td>88.0</td>\n",
       "      <td>69.0</td>\n",
       "      <td>69.0</td>\n",
       "      <td>50.0</td>\n",
       "      <td>73.0</td>\n",
       "      <td>72.0</td>\n",
       "      <td>NaN</td>\n",
       "      <td>NaN</td>\n",
       "    </tr>\n",
       "    <tr>\n",
       "      <th>4</th>\n",
       "      <td>317</td>\n",
       "      <td>31</td>\n",
       "      <td>79</td>\n",
       "      <td>27268</td>\n",
       "      <td>30</td>\n",
       "      <td>11</td>\n",
       "      <td>84717.0</td>\n",
       "      <td>84717.0</td>\n",
       "      <td>31.0</td>\n",
       "      <td>27268.0</td>\n",
       "      <td>...</td>\n",
       "      <td>4.0</td>\n",
       "      <td>6.0</td>\n",
       "      <td>5.0</td>\n",
       "      <td>6.0</td>\n",
       "      <td>6.0</td>\n",
       "      <td>6.0</td>\n",
       "      <td>7.0</td>\n",
       "      <td>6.0</td>\n",
       "      <td>4.0</td>\n",
       "      <td>5.0</td>\n",
       "    </tr>\n",
       "  </tbody>\n",
       "</table>\n",
       "<p>5 rows × 51 columns</p>\n",
       "</div>"
      ],
      "text/plain": [
       "   index  Artist  Track   User  Rating  Time    index  Unnamed: 0  Artist  \\\n",
       "0    107      45    163  44193      82    16  97118.0     97118.0    45.0   \n",
       "1    215      45    164  44190      89    16  22399.0     22399.0    45.0   \n",
       "2    258      31     80  27083      11    11  85943.0     85943.0    31.0   \n",
       "3    281      11     28   7641      41     7  43411.0     43411.0    11.0   \n",
       "4    317      31     79  27268      30    11  84717.0     84717.0    31.0   \n",
       "\n",
       "      User  ...    Q10   Q11   Q12   Q13   Q14   Q15   Q16   Q17   Q18   Q19  \n",
       "0  44193.0  ...   50.0  80.0  80.0  79.0  86.0  69.0  69.0  69.0  69.0  74.0  \n",
       "1  44190.0  ...   53.0  55.0  56.0  36.0  72.0  49.0  29.0  95.0  57.0  55.0  \n",
       "2  27083.0  ...   52.0  51.0  31.0  10.0   9.0   9.0   9.0  11.0  11.0  11.0  \n",
       "3   7641.0  ...   87.0  87.0  88.0  69.0  69.0  50.0  73.0  72.0   NaN   NaN  \n",
       "4  27268.0  ...    4.0   6.0   5.0   6.0   6.0   6.0   7.0   6.0   4.0   5.0  \n",
       "\n",
       "[5 rows x 51 columns]"
      ]
     },
     "execution_count": 57,
     "metadata": {},
     "output_type": "execute_result"
    }
   ],
   "source": [
    "data = pd.read_sql('SELECT * FROM train LEFT JOIN words ON train.\"User\" \\\n",
    "                    = words.\"User\" and train.\"Artist\" = words.\"Artist\"\\\n",
    "                    LEFT JOIN users ON train.\"User\" = users.\"RESPID\"', engine)\n",
    "data.head()"
   ]
  },
  {
   "cell_type": "code",
   "execution_count": 58,
   "metadata": {
    "collapsed": false,
    "scrolled": false
   },
   "outputs": [
    {
     "data": {
      "text/plain": [
       "<matplotlib.axes._subplots.AxesSubplot at 0x11c826250>"
      ]
     },
     "execution_count": 58,
     "metadata": {},
     "output_type": "execute_result"
    },
    {
     "data": {
      "image/png": "[encoded data removed]",
      "text/plain": [
       "<matplotlib.figure.Figure at 0x11e036f10>"
      ]
     },
     "metadata": {},
     "output_type": "display_data"
    }
   ],
   "source": [
    "plt.figure(figsize=(15,7))\n",
    "sns.heatmap(data.isnull(),yticklabels=False, cbar=False, cmap='viridis')"
   ]
  },
  {
   "cell_type": "code",
   "execution_count": 58,
   "metadata": {
    "collapsed": false
   },
   "outputs": [
    {
     "data": {
      "text/plain": [
       "(188690, 51)"
      ]
     },
     "execution_count": 58,
     "metadata": {},
     "output_type": "execute_result"
    }
   ],
   "source": [
    "data.shape"
   ]
  },
  {
   "cell_type": "code",
   "execution_count": 59,
   "metadata": {
    "collapsed": false
   },
   "outputs": [
    {
     "data": {
      "text/plain": [
       "<matplotlib.axes._subplots.AxesSubplot at 0x1198a2c50>"
      ]
     },
     "execution_count": 59,
     "metadata": {},
     "output_type": "execute_result"
    },
    {
     "data": {
      "image/png": "[encoded data removed]",
      "text/plain": [
       "<matplotlib.figure.Figure at 0x115e06ad0>"
      ]
     },
     "metadata": {},
     "output_type": "display_data"
    }
   ],
   "source": [
    "data_counts = data.describe()\n",
    "data_counts = data_counts.iloc[0:1,3:]\n",
    "data_counts = data_counts.T.sort_values('count')\n",
    "data_counts = data_counts.iloc[1:,:]\n",
    "data_counts.plot(kind='bar', figsize=(15,7))"
   ]
  },
  {
   "cell_type": "markdown",
   "metadata": {},
   "source": [
    "#### Because Q18 and Q19 have nearly 50,000 missing data points (see below - we know that when Q18 is null, Q19 is also null), I'm going to drop these features for the sake of retaining as many data points as possible. If my model is weak, I'll return to this section and add these features back in."
   ]
  },
  {
   "cell_type": "code",
   "execution_count": 60,
   "metadata": {
    "collapsed": false
   },
   "outputs": [
    {
     "data": {
      "text/plain": [
       "(48145, 51)"
      ]
     },
     "execution_count": 60,
     "metadata": {},
     "output_type": "execute_result"
    }
   ],
   "source": [
    "data[data['Q18'].isnull()==True].shape"
   ]
  },
  {
   "cell_type": "markdown",
   "metadata": {},
   "source": [
    "#### Interestingly enough, the same number of users who fail to report their working status also fail to report an answer to Q18, so dropping Q18 and Q19 won't help us if the 'WORKING' column remains in the dataset untouched."
   ]
  },
  {
   "cell_type": "code",
   "execution_count": 61,
   "metadata": {
    "collapsed": false
   },
   "outputs": [
    {
     "name": "stdout",
     "output_type": "stream",
     "text": [
      "(13125, 27)\n",
      "(13125, 27)\n"
     ]
    }
   ],
   "source": [
    "print users[users['WORKING'].isnull()==True].shape\n",
    "print users[users['Q18'].isnull()==True].shape"
   ]
  },
  {
   "cell_type": "code",
   "execution_count": 62,
   "metadata": {
    "collapsed": false
   },
   "outputs": [
    {
     "data": {
      "text/plain": [
       "(48145, 51)"
      ]
     },
     "execution_count": 62,
     "metadata": {},
     "output_type": "execute_result"
    }
   ],
   "source": [
    "data[data['WORKING'].isnull()==True].shape"
   ]
  },
  {
   "cell_type": "code",
   "execution_count": 63,
   "metadata": {
    "collapsed": false
   },
   "outputs": [],
   "source": [
    "data_drop = data.dropna(axis=1,thresh=100000)"
   ]
  },
  {
   "cell_type": "code",
   "execution_count": 64,
   "metadata": {
    "collapsed": false
   },
   "outputs": [
    {
     "data": {
      "text/plain": [
       "<matplotlib.axes._subplots.AxesSubplot at 0x119cdfa10>"
      ]
     },
     "execution_count": 64,
     "metadata": {},
     "output_type": "execute_result"
    },
    {
     "data": {
      "image/png": "[encoded data removed]",
      "text/plain": [
       "<matplotlib.figure.Figure at 0x1171a94d0>"
      ]
     },
     "metadata": {},
     "output_type": "display_data"
    }
   ],
   "source": [
    "plt.figure(figsize=(15,7))\n",
    "sns.heatmap(data_drop.isnull(),yticklabels=False, cbar=False, cmap='viridis')"
   ]
  },
  {
   "cell_type": "code",
   "execution_count": 65,
   "metadata": {
    "collapsed": true
   },
   "outputs": [],
   "source": [
    "data_drop = data_drop.drop(['Unnamed: 0'], axis=1)\n",
    "data_drop = data_drop.drop(['RESPID'], axis=1)\n",
    "data_drop = data_drop.drop(['Q18'], axis=1)\n",
    "data_drop = data_drop.drop(['Q19'], axis=1)\n",
    "data_drop = data_drop.drop(['WORKING'], axis=1)"
   ]
  },
  {
   "cell_type": "code",
   "execution_count": 66,
   "metadata": {
    "collapsed": false
   },
   "outputs": [
    {
     "data": {
      "text/plain": [
       "(188690, 45)"
      ]
     },
     "execution_count": 66,
     "metadata": {},
     "output_type": "execute_result"
    }
   ],
   "source": [
    "data_drop.shape"
   ]
  },
  {
   "cell_type": "code",
   "execution_count": 67,
   "metadata": {
    "collapsed": false
   },
   "outputs": [
    {
     "data": {
      "text/plain": [
       "<matplotlib.axes._subplots.AxesSubplot at 0x1198c8e50>"
      ]
     },
     "execution_count": 67,
     "metadata": {},
     "output_type": "execute_result"
    },
    {
     "data": {
      "image/png": "[encoded data removed]",
      "text/plain": [
       "<matplotlib.figure.Figure at 0x11e030c10>"
      ]
     },
     "metadata": {},
     "output_type": "display_data"
    }
   ],
   "source": [
    "plt.figure(figsize=(15,7))\n",
    "sns.heatmap(data_drop.isnull(),yticklabels=False, cbar=False, cmap='viridis')"
   ]
  },
  {
   "cell_type": "code",
   "execution_count": 68,
   "metadata": {
    "collapsed": false
   },
   "outputs": [],
   "source": [
    "data_clean = data_drop.dropna()"
   ]
  },
  {
   "cell_type": "code",
   "execution_count": 69,
   "metadata": {
    "collapsed": false
   },
   "outputs": [
    {
     "data": {
      "text/plain": [
       "(111460, 45)"
      ]
     },
     "execution_count": 69,
     "metadata": {},
     "output_type": "execute_result"
    }
   ],
   "source": [
    "data_clean.shape"
   ]
  },
  {
   "cell_type": "code",
   "execution_count": 70,
   "metadata": {
    "collapsed": false
   },
   "outputs": [
    {
     "data": {
      "text/plain": [
       "<matplotlib.axes._subplots.AxesSubplot at 0x119806790>"
      ]
     },
     "execution_count": 70,
     "metadata": {},
     "output_type": "execute_result"
    },
    {
     "data": {
      "image/png": "[encoded data removed]",
      "text/plain": [
       "<matplotlib.figure.Figure at 0x11e1aba10>"
      ]
     },
     "metadata": {},
     "output_type": "display_data"
    }
   ],
   "source": [
    "plt.figure(figsize=(15,7))\n",
    "sns.heatmap(data_clean.isnull(),yticklabels=False, cbar=False, cmap='viridis')"
   ]
  },
  {
   "cell_type": "markdown",
   "metadata": {},
   "source": [
    "## Create dummy variables, normalize data\n"
   ]
  },
  {
   "cell_type": "code",
   "execution_count": 71,
   "metadata": {
    "collapsed": false
   },
   "outputs": [
    {
     "data": {
      "text/plain": [
       "Index([u'index', u'Artist', u'Track', u'User', u'Rating', u'Time', u'index',\n",
       "       u'Artist', u'User', u'HEARD_OF', u'Edgy_', u'Negative_', u'Sensitive_',\n",
       "       u'Stylish_', u'Dark_', u'None_of_these_', u'Mainstream_', u'Iconic_',\n",
       "       u'Playful_', u'Outdated_', u'Chill_', u'index', u'GENDER', u'AGE',\n",
       "       u'REGION', u'MUSIC', u'LIST_OWN', u'LIST_BACK', u'Q1', u'Q2', u'Q3',\n",
       "       u'Q4', u'Q5', u'Q6', u'Q7', u'Q8', u'Q9', u'Q10', u'Q11', u'Q12',\n",
       "       u'Q13', u'Q14', u'Q15', u'Q16', u'Q17'],\n",
       "      dtype='object')"
      ]
     },
     "execution_count": 71,
     "metadata": {},
     "output_type": "execute_result"
    }
   ],
   "source": [
    "data_clean.columns"
   ]
  },
  {
   "cell_type": "code",
   "execution_count": 72,
   "metadata": {
    "collapsed": false
   },
   "outputs": [],
   "source": [
    "dummy_cols = ['GENDER','REGION','MUSIC']\n",
    "for i in dummy_cols:\n",
    "    data_clean = pd.concat([data_clean, pd.get_dummies(data_clean[i], drop_first=True)],axis=1)\n",
    "    data_clean = data_clean.drop(i,axis=1)\n"
   ]
  },
  {
   "cell_type": "code",
   "execution_count": 73,
   "metadata": {
    "collapsed": false
   },
   "outputs": [
    {
     "data": {
      "text/plain": [
       "Index([u'index', u'Artist', u'Track', u'User', u'Rating', u'Time', u'index',\n",
       "       u'Artist', u'User', u'HEARD_OF', u'Edgy_', u'Negative_', u'Sensitive_',\n",
       "       u'Stylish_', u'Dark_', u'None_of_these_', u'Mainstream_', u'Iconic_',\n",
       "       u'Playful_', u'Outdated_', u'Chill_', u'index', u'AGE', u'LIST_OWN',\n",
       "       u'LIST_BACK', u'Q1', u'Q2', u'Q3', u'Q4', u'Q5', u'Q6', u'Q7', u'Q8',\n",
       "       u'Q9', u'Q10', u'Q11', u'Q12', u'Q13', u'Q14', u'Q15', u'Q16', u'Q17',\n",
       "       u'Male', u'Midlands', u'North', u'North Ireland', u'Northern Ireland',\n",
       "       u'South', u'Music has no particular interest for me',\n",
       "       u'Music is important to me but not necessarily more important',\n",
       "       u'Music is no longer as important as it used to be to me',\n",
       "       u'Music means a lot to me and is a passion of mine'],\n",
       "      dtype='object')"
      ]
     },
     "execution_count": 73,
     "metadata": {},
     "output_type": "execute_result"
    }
   ],
   "source": [
    "data_clean.columns"
   ]
  },
  {
   "cell_type": "code",
   "execution_count": 74,
   "metadata": {
    "collapsed": false
   },
   "outputs": [],
   "source": [
    "# Remove duplicate columns and reorganize\n",
    "data_clean['Artist_ID'] = data_clean.iloc[:,7]\n",
    "data_clean['Index'] = data_clean.iloc[:,0]\n",
    "data_clean['User_ID'] = data_clean.iloc[:,8]\n",
    "data_clean = data_clean.drop(['Artist', 'index', 'User'], axis=1)\n",
    "cols = data_clean.columns.tolist()\n",
    "cols = cols[-3:] + cols[:-3]\n",
    "data_clean = data_clean.ix[:,cols]\n"
   ]
  },
  {
   "cell_type": "code",
   "execution_count": 75,
   "metadata": {
    "collapsed": false
   },
   "outputs": [
    {
     "data": {
      "text/html": [
       "<div>\n",
       "<table border=\"1\" class=\"dataframe\">\n",
       "  <thead>\n",
       "    <tr style=\"text-align: right;\">\n",
       "      <th></th>\n",
       "      <th>Artist_ID</th>\n",
       "      <th>Index</th>\n",
       "      <th>User_ID</th>\n",
       "      <th>Track</th>\n",
       "      <th>Time</th>\n",
       "      <th>Rating</th>\n",
       "      <th>HEARD_OF</th>\n",
       "      <th>Edgy_</th>\n",
       "      <th>Negative_</th>\n",
       "      <th>Sensitive_</th>\n",
       "      <th>...</th>\n",
       "      <th>Male</th>\n",
       "      <th>Midlands</th>\n",
       "      <th>North</th>\n",
       "      <th>North Ireland</th>\n",
       "      <th>Northern Ireland</th>\n",
       "      <th>South</th>\n",
       "      <th>Music has no particular interest for me</th>\n",
       "      <th>Music is important to me but not necessarily more important</th>\n",
       "      <th>Music is no longer as important as it used to be to me</th>\n",
       "      <th>Music means a lot to me and is a passion of mine</th>\n",
       "    </tr>\n",
       "  </thead>\n",
       "  <tbody>\n",
       "    <tr>\n",
       "      <th>0</th>\n",
       "      <td>1.0</td>\n",
       "      <td>163270</td>\n",
       "      <td>3566.0</td>\n",
       "      <td>5</td>\n",
       "      <td>18</td>\n",
       "      <td>41</td>\n",
       "      <td>Heard of</td>\n",
       "      <td>0.0</td>\n",
       "      <td>0.0</td>\n",
       "      <td>1.0</td>\n",
       "      <td>...</td>\n",
       "      <td>0.0</td>\n",
       "      <td>0.0</td>\n",
       "      <td>0.0</td>\n",
       "      <td>0.0</td>\n",
       "      <td>0.0</td>\n",
       "      <td>1.0</td>\n",
       "      <td>0.0</td>\n",
       "      <td>1.0</td>\n",
       "      <td>0.0</td>\n",
       "      <td>0.0</td>\n",
       "    </tr>\n",
       "    <tr>\n",
       "      <th>1</th>\n",
       "      <td>3.0</td>\n",
       "      <td>159391</td>\n",
       "      <td>3566.0</td>\n",
       "      <td>9</td>\n",
       "      <td>18</td>\n",
       "      <td>16</td>\n",
       "      <td>Heard of and listened to music EVER</td>\n",
       "      <td>0.0</td>\n",
       "      <td>0.0</td>\n",
       "      <td>0.0</td>\n",
       "      <td>...</td>\n",
       "      <td>0.0</td>\n",
       "      <td>0.0</td>\n",
       "      <td>0.0</td>\n",
       "      <td>0.0</td>\n",
       "      <td>0.0</td>\n",
       "      <td>1.0</td>\n",
       "      <td>0.0</td>\n",
       "      <td>1.0</td>\n",
       "      <td>0.0</td>\n",
       "      <td>0.0</td>\n",
       "    </tr>\n",
       "    <tr>\n",
       "      <th>2</th>\n",
       "      <td>1.0</td>\n",
       "      <td>144298</td>\n",
       "      <td>3566.0</td>\n",
       "      <td>4</td>\n",
       "      <td>18</td>\n",
       "      <td>44</td>\n",
       "      <td>Heard of</td>\n",
       "      <td>0.0</td>\n",
       "      <td>0.0</td>\n",
       "      <td>1.0</td>\n",
       "      <td>...</td>\n",
       "      <td>0.0</td>\n",
       "      <td>0.0</td>\n",
       "      <td>0.0</td>\n",
       "      <td>0.0</td>\n",
       "      <td>0.0</td>\n",
       "      <td>1.0</td>\n",
       "      <td>0.0</td>\n",
       "      <td>1.0</td>\n",
       "      <td>0.0</td>\n",
       "      <td>0.0</td>\n",
       "    </tr>\n",
       "    <tr>\n",
       "      <th>3</th>\n",
       "      <td>4.0</td>\n",
       "      <td>74698</td>\n",
       "      <td>3566.0</td>\n",
       "      <td>11</td>\n",
       "      <td>18</td>\n",
       "      <td>71</td>\n",
       "      <td>Heard of and listened to music RECENTLY</td>\n",
       "      <td>1.0</td>\n",
       "      <td>0.0</td>\n",
       "      <td>1.0</td>\n",
       "      <td>...</td>\n",
       "      <td>0.0</td>\n",
       "      <td>0.0</td>\n",
       "      <td>0.0</td>\n",
       "      <td>0.0</td>\n",
       "      <td>0.0</td>\n",
       "      <td>1.0</td>\n",
       "      <td>0.0</td>\n",
       "      <td>1.0</td>\n",
       "      <td>0.0</td>\n",
       "      <td>0.0</td>\n",
       "    </tr>\n",
       "    <tr>\n",
       "      <th>4</th>\n",
       "      <td>14.0</td>\n",
       "      <td>173934</td>\n",
       "      <td>11495.0</td>\n",
       "      <td>32</td>\n",
       "      <td>19</td>\n",
       "      <td>42</td>\n",
       "      <td>Heard of</td>\n",
       "      <td>0.0</td>\n",
       "      <td>0.0</td>\n",
       "      <td>1.0</td>\n",
       "      <td>...</td>\n",
       "      <td>0.0</td>\n",
       "      <td>0.0</td>\n",
       "      <td>1.0</td>\n",
       "      <td>0.0</td>\n",
       "      <td>0.0</td>\n",
       "      <td>0.0</td>\n",
       "      <td>0.0</td>\n",
       "      <td>1.0</td>\n",
       "      <td>0.0</td>\n",
       "      <td>0.0</td>\n",
       "    </tr>\n",
       "  </tbody>\n",
       "</table>\n",
       "<p>5 rows × 48 columns</p>\n",
       "</div>"
      ],
      "text/plain": [
       "   Artist_ID   Index  User_ID  Track  Time  Rating  \\\n",
       "0        1.0  163270   3566.0      5    18      41   \n",
       "1        3.0  159391   3566.0      9    18      16   \n",
       "2        1.0  144298   3566.0      4    18      44   \n",
       "3        4.0   74698   3566.0     11    18      71   \n",
       "4       14.0  173934  11495.0     32    19      42   \n",
       "\n",
       "                                  HEARD_OF  Edgy_  Negative_  Sensitive_  \\\n",
       "0                                 Heard of    0.0        0.0         1.0   \n",
       "1      Heard of and listened to music EVER    0.0        0.0         0.0   \n",
       "2                                 Heard of    0.0        0.0         1.0   \n",
       "3  Heard of and listened to music RECENTLY    1.0        0.0         1.0   \n",
       "4                                 Heard of    0.0        0.0         1.0   \n",
       "\n",
       "                         ...                         Male  Midlands  North  \\\n",
       "0                        ...                          0.0       0.0    0.0   \n",
       "1                        ...                          0.0       0.0    0.0   \n",
       "2                        ...                          0.0       0.0    0.0   \n",
       "3                        ...                          0.0       0.0    0.0   \n",
       "4                        ...                          0.0       0.0    1.0   \n",
       "\n",
       "   North Ireland  Northern Ireland  South  \\\n",
       "0            0.0               0.0    1.0   \n",
       "1            0.0               0.0    1.0   \n",
       "2            0.0               0.0    1.0   \n",
       "3            0.0               0.0    1.0   \n",
       "4            0.0               0.0    0.0   \n",
       "\n",
       "   Music has no particular interest for me  \\\n",
       "0                                      0.0   \n",
       "1                                      0.0   \n",
       "2                                      0.0   \n",
       "3                                      0.0   \n",
       "4                                      0.0   \n",
       "\n",
       "   Music is important to me but not necessarily more important  \\\n",
       "0                                                1.0             \n",
       "1                                                1.0             \n",
       "2                                                1.0             \n",
       "3                                                1.0             \n",
       "4                                                1.0             \n",
       "\n",
       "   Music is no longer as important as it used to be to me  \\\n",
       "0                                                0.0        \n",
       "1                                                0.0        \n",
       "2                                                0.0        \n",
       "3                                                0.0        \n",
       "4                                                0.0        \n",
       "\n",
       "   Music means a lot to me and is a passion of mine  \n",
       "0                                               0.0  \n",
       "1                                               0.0  \n",
       "2                                               0.0  \n",
       "3                                               0.0  \n",
       "4                                               0.0  \n",
       "\n",
       "[5 rows x 48 columns]"
      ]
     },
     "execution_count": 75,
     "metadata": {},
     "output_type": "execute_result"
    }
   ],
   "source": [
    "header_cols = ['Artist_ID', 'Index', 'User_ID', 'Track', 'Time', 'Rating']\n",
    "new_cols = header_cols + cols[6:]\n",
    "data_clean = data_clean.ix[:,new_cols]\n",
    "data_clean.head()"
   ]
  },
  {
   "cell_type": "code",
   "execution_count": 76,
   "metadata": {
    "collapsed": false,
    "scrolled": false
   },
   "outputs": [
    {
     "data": {
      "text/plain": [
       "<matplotlib.axes._subplots.AxesSubplot at 0x11dc939d0>"
      ]
     },
     "execution_count": 76,
     "metadata": {},
     "output_type": "execute_result"
    },
    {
     "data": {
      "image/png": "[encoded data removed]",
      "text/plain": [
       "<matplotlib.figure.Figure at 0x11de6d790>"
      ]
     },
     "metadata": {},
     "output_type": "display_data"
    }
   ],
   "source": [
    "plt.figure(figsize=(15,7))\n",
    "sns.heatmap(data_clean.isnull(),yticklabels=False, cbar=False, cmap='viridis')"
   ]
  },
  {
   "cell_type": "code",
   "execution_count": 77,
   "metadata": {
    "collapsed": false
   },
   "outputs": [],
   "source": [
    "def words_cleaner(x):\n",
    "    if x > 0:\n",
    "        return 1\n",
    "    elif x == 0:\n",
    "        return 0\n",
    "    else:\n",
    "        return None\n"
   ]
  },
  {
   "cell_type": "code",
   "execution_count": 78,
   "metadata": {
    "collapsed": false
   },
   "outputs": [
    {
     "data": {
      "text/html": [
       "<div>\n",
       "<table border=\"1\" class=\"dataframe\">\n",
       "  <thead>\n",
       "    <tr style=\"text-align: right;\">\n",
       "      <th></th>\n",
       "      <th>Artist_ID</th>\n",
       "      <th>Index</th>\n",
       "      <th>User_ID</th>\n",
       "      <th>Track</th>\n",
       "      <th>Time</th>\n",
       "      <th>Rating</th>\n",
       "      <th>HEARD_OF</th>\n",
       "      <th>Edgy_</th>\n",
       "      <th>Negative_</th>\n",
       "      <th>Sensitive_</th>\n",
       "      <th>...</th>\n",
       "      <th>Male</th>\n",
       "      <th>Midlands</th>\n",
       "      <th>North</th>\n",
       "      <th>North Ireland</th>\n",
       "      <th>Northern Ireland</th>\n",
       "      <th>South</th>\n",
       "      <th>Music has no particular interest for me</th>\n",
       "      <th>Music is important to me but not necessarily more important</th>\n",
       "      <th>Music is no longer as important as it used to be to me</th>\n",
       "      <th>Music means a lot to me and is a passion of mine</th>\n",
       "    </tr>\n",
       "  </thead>\n",
       "  <tbody>\n",
       "    <tr>\n",
       "      <th>0</th>\n",
       "      <td>1.0</td>\n",
       "      <td>163270</td>\n",
       "      <td>3566.0</td>\n",
       "      <td>5</td>\n",
       "      <td>18</td>\n",
       "      <td>41</td>\n",
       "      <td>1</td>\n",
       "      <td>0</td>\n",
       "      <td>0</td>\n",
       "      <td>1</td>\n",
       "      <td>...</td>\n",
       "      <td>0.0</td>\n",
       "      <td>0.0</td>\n",
       "      <td>0.0</td>\n",
       "      <td>0.0</td>\n",
       "      <td>0.0</td>\n",
       "      <td>1.0</td>\n",
       "      <td>0.0</td>\n",
       "      <td>1.0</td>\n",
       "      <td>0.0</td>\n",
       "      <td>0.0</td>\n",
       "    </tr>\n",
       "    <tr>\n",
       "      <th>1</th>\n",
       "      <td>3.0</td>\n",
       "      <td>159391</td>\n",
       "      <td>3566.0</td>\n",
       "      <td>9</td>\n",
       "      <td>18</td>\n",
       "      <td>16</td>\n",
       "      <td>1</td>\n",
       "      <td>0</td>\n",
       "      <td>0</td>\n",
       "      <td>0</td>\n",
       "      <td>...</td>\n",
       "      <td>0.0</td>\n",
       "      <td>0.0</td>\n",
       "      <td>0.0</td>\n",
       "      <td>0.0</td>\n",
       "      <td>0.0</td>\n",
       "      <td>1.0</td>\n",
       "      <td>0.0</td>\n",
       "      <td>1.0</td>\n",
       "      <td>0.0</td>\n",
       "      <td>0.0</td>\n",
       "    </tr>\n",
       "    <tr>\n",
       "      <th>2</th>\n",
       "      <td>1.0</td>\n",
       "      <td>144298</td>\n",
       "      <td>3566.0</td>\n",
       "      <td>4</td>\n",
       "      <td>18</td>\n",
       "      <td>44</td>\n",
       "      <td>1</td>\n",
       "      <td>0</td>\n",
       "      <td>0</td>\n",
       "      <td>1</td>\n",
       "      <td>...</td>\n",
       "      <td>0.0</td>\n",
       "      <td>0.0</td>\n",
       "      <td>0.0</td>\n",
       "      <td>0.0</td>\n",
       "      <td>0.0</td>\n",
       "      <td>1.0</td>\n",
       "      <td>0.0</td>\n",
       "      <td>1.0</td>\n",
       "      <td>0.0</td>\n",
       "      <td>0.0</td>\n",
       "    </tr>\n",
       "    <tr>\n",
       "      <th>3</th>\n",
       "      <td>4.0</td>\n",
       "      <td>74698</td>\n",
       "      <td>3566.0</td>\n",
       "      <td>11</td>\n",
       "      <td>18</td>\n",
       "      <td>71</td>\n",
       "      <td>1</td>\n",
       "      <td>1</td>\n",
       "      <td>0</td>\n",
       "      <td>1</td>\n",
       "      <td>...</td>\n",
       "      <td>0.0</td>\n",
       "      <td>0.0</td>\n",
       "      <td>0.0</td>\n",
       "      <td>0.0</td>\n",
       "      <td>0.0</td>\n",
       "      <td>1.0</td>\n",
       "      <td>0.0</td>\n",
       "      <td>1.0</td>\n",
       "      <td>0.0</td>\n",
       "      <td>0.0</td>\n",
       "    </tr>\n",
       "    <tr>\n",
       "      <th>4</th>\n",
       "      <td>14.0</td>\n",
       "      <td>173934</td>\n",
       "      <td>11495.0</td>\n",
       "      <td>32</td>\n",
       "      <td>19</td>\n",
       "      <td>42</td>\n",
       "      <td>1</td>\n",
       "      <td>0</td>\n",
       "      <td>0</td>\n",
       "      <td>1</td>\n",
       "      <td>...</td>\n",
       "      <td>0.0</td>\n",
       "      <td>0.0</td>\n",
       "      <td>1.0</td>\n",
       "      <td>0.0</td>\n",
       "      <td>0.0</td>\n",
       "      <td>0.0</td>\n",
       "      <td>0.0</td>\n",
       "      <td>1.0</td>\n",
       "      <td>0.0</td>\n",
       "      <td>0.0</td>\n",
       "    </tr>\n",
       "  </tbody>\n",
       "</table>\n",
       "<p>5 rows × 48 columns</p>\n",
       "</div>"
      ],
      "text/plain": [
       "   Artist_ID   Index  User_ID  Track  Time  Rating  HEARD_OF  Edgy_  \\\n",
       "0        1.0  163270   3566.0      5    18      41         1      0   \n",
       "1        3.0  159391   3566.0      9    18      16         1      0   \n",
       "2        1.0  144298   3566.0      4    18      44         1      0   \n",
       "3        4.0   74698   3566.0     11    18      71         1      1   \n",
       "4       14.0  173934  11495.0     32    19      42         1      0   \n",
       "\n",
       "   Negative_  Sensitive_                        ...                         \\\n",
       "0          0           1                        ...                          \n",
       "1          0           0                        ...                          \n",
       "2          0           1                        ...                          \n",
       "3          0           1                        ...                          \n",
       "4          0           1                        ...                          \n",
       "\n",
       "   Male  Midlands  North  North Ireland  Northern Ireland  South  \\\n",
       "0   0.0       0.0    0.0            0.0               0.0    1.0   \n",
       "1   0.0       0.0    0.0            0.0               0.0    1.0   \n",
       "2   0.0       0.0    0.0            0.0               0.0    1.0   \n",
       "3   0.0       0.0    0.0            0.0               0.0    1.0   \n",
       "4   0.0       0.0    1.0            0.0               0.0    0.0   \n",
       "\n",
       "   Music has no particular interest for me  \\\n",
       "0                                      0.0   \n",
       "1                                      0.0   \n",
       "2                                      0.0   \n",
       "3                                      0.0   \n",
       "4                                      0.0   \n",
       "\n",
       "   Music is important to me but not necessarily more important  \\\n",
       "0                                                1.0             \n",
       "1                                                1.0             \n",
       "2                                                1.0             \n",
       "3                                                1.0             \n",
       "4                                                1.0             \n",
       "\n",
       "   Music is no longer as important as it used to be to me  \\\n",
       "0                                                0.0        \n",
       "1                                                0.0        \n",
       "2                                                0.0        \n",
       "3                                                0.0        \n",
       "4                                                0.0        \n",
       "\n",
       "   Music means a lot to me and is a passion of mine  \n",
       "0                                               0.0  \n",
       "1                                               0.0  \n",
       "2                                               0.0  \n",
       "3                                               0.0  \n",
       "4                                               0.0  \n",
       "\n",
       "[5 rows x 48 columns]"
      ]
     },
     "execution_count": 78,
     "metadata": {},
     "output_type": "execute_result"
    }
   ],
   "source": [
    "data_clean.iloc[:,6:17] = data_clean.iloc[:,6:17].applymap(words_cleaner)\n",
    "data_clean.head()"
   ]
  },
  {
   "cell_type": "code",
   "execution_count": 79,
   "metadata": {
    "collapsed": false
   },
   "outputs": [
    {
     "data": {
      "text/html": [
       "<div>\n",
       "<table border=\"1\" class=\"dataframe\">\n",
       "  <thead>\n",
       "    <tr style=\"text-align: right;\">\n",
       "      <th></th>\n",
       "      <th>Artist_ID</th>\n",
       "      <th>Index</th>\n",
       "      <th>User_ID</th>\n",
       "      <th>Track</th>\n",
       "      <th>Time</th>\n",
       "      <th>Rating</th>\n",
       "      <th>HEARD_OF</th>\n",
       "      <th>Edgy_</th>\n",
       "      <th>Negative_</th>\n",
       "      <th>Sensitive_</th>\n",
       "      <th>...</th>\n",
       "      <th>Male</th>\n",
       "      <th>Midlands</th>\n",
       "      <th>North</th>\n",
       "      <th>North Ireland</th>\n",
       "      <th>Northern Ireland</th>\n",
       "      <th>South</th>\n",
       "      <th>Music has no particular interest for me</th>\n",
       "      <th>Music is important to me but not necessarily more important</th>\n",
       "      <th>Music is no longer as important as it used to be to me</th>\n",
       "      <th>Music means a lot to me and is a passion of mine</th>\n",
       "    </tr>\n",
       "  </thead>\n",
       "  <tbody>\n",
       "    <tr>\n",
       "      <th>count</th>\n",
       "      <td>111460.000000</td>\n",
       "      <td>111460.000000</td>\n",
       "      <td>111460.000000</td>\n",
       "      <td>111460.000000</td>\n",
       "      <td>111460.000000</td>\n",
       "      <td>111460.000000</td>\n",
       "      <td>111460.0</td>\n",
       "      <td>111460.000000</td>\n",
       "      <td>111460.000000</td>\n",
       "      <td>111460.000000</td>\n",
       "      <td>...</td>\n",
       "      <td>111460.000000</td>\n",
       "      <td>111460.000000</td>\n",
       "      <td>111460.000000</td>\n",
       "      <td>111460.000000</td>\n",
       "      <td>111460.000000</td>\n",
       "      <td>111460.000000</td>\n",
       "      <td>111460.000000</td>\n",
       "      <td>111460.000000</td>\n",
       "      <td>111460.000000</td>\n",
       "      <td>111460.000000</td>\n",
       "    </tr>\n",
       "    <tr>\n",
       "      <th>mean</th>\n",
       "      <td>21.011601</td>\n",
       "      <td>94144.190544</td>\n",
       "      <td>26927.849937</td>\n",
       "      <td>89.477086</td>\n",
       "      <td>15.012273</td>\n",
       "      <td>37.392661</td>\n",
       "      <td>1.0</td>\n",
       "      <td>0.176924</td>\n",
       "      <td>0.268329</td>\n",
       "      <td>0.403032</td>\n",
       "      <td>...</td>\n",
       "      <td>0.500592</td>\n",
       "      <td>0.269325</td>\n",
       "      <td>0.352557</td>\n",
       "      <td>0.002090</td>\n",
       "      <td>0.017432</td>\n",
       "      <td>0.321649</td>\n",
       "      <td>0.017791</td>\n",
       "      <td>0.399336</td>\n",
       "      <td>0.028710</td>\n",
       "      <td>0.329105</td>\n",
       "    </tr>\n",
       "    <tr>\n",
       "      <th>std</th>\n",
       "      <td>15.687981</td>\n",
       "      <td>54471.406761</td>\n",
       "      <td>15746.837837</td>\n",
       "      <td>65.008561</td>\n",
       "      <td>4.535960</td>\n",
       "      <td>22.889588</td>\n",
       "      <td>0.0</td>\n",
       "      <td>0.381606</td>\n",
       "      <td>0.443092</td>\n",
       "      <td>0.490509</td>\n",
       "      <td>...</td>\n",
       "      <td>0.500002</td>\n",
       "      <td>0.443611</td>\n",
       "      <td>0.477768</td>\n",
       "      <td>0.045674</td>\n",
       "      <td>0.130876</td>\n",
       "      <td>0.467111</td>\n",
       "      <td>0.132192</td>\n",
       "      <td>0.489764</td>\n",
       "      <td>0.166991</td>\n",
       "      <td>0.469890</td>\n",
       "    </tr>\n",
       "    <tr>\n",
       "      <th>min</th>\n",
       "      <td>0.000000</td>\n",
       "      <td>0.000000</td>\n",
       "      <td>3.000000</td>\n",
       "      <td>0.000000</td>\n",
       "      <td>4.000000</td>\n",
       "      <td>0.000000</td>\n",
       "      <td>1.0</td>\n",
       "      <td>0.000000</td>\n",
       "      <td>0.000000</td>\n",
       "      <td>0.000000</td>\n",
       "      <td>...</td>\n",
       "      <td>0.000000</td>\n",
       "      <td>0.000000</td>\n",
       "      <td>0.000000</td>\n",
       "      <td>0.000000</td>\n",
       "      <td>0.000000</td>\n",
       "      <td>0.000000</td>\n",
       "      <td>0.000000</td>\n",
       "      <td>0.000000</td>\n",
       "      <td>0.000000</td>\n",
       "      <td>0.000000</td>\n",
       "    </tr>\n",
       "    <tr>\n",
       "      <th>25%</th>\n",
       "      <td>9.000000</td>\n",
       "      <td>47108.750000</td>\n",
       "      <td>12878.000000</td>\n",
       "      <td>27.000000</td>\n",
       "      <td>12.000000</td>\n",
       "      <td>16.000000</td>\n",
       "      <td>1.0</td>\n",
       "      <td>0.000000</td>\n",
       "      <td>0.000000</td>\n",
       "      <td>0.000000</td>\n",
       "      <td>...</td>\n",
       "      <td>0.000000</td>\n",
       "      <td>0.000000</td>\n",
       "      <td>0.000000</td>\n",
       "      <td>0.000000</td>\n",
       "      <td>0.000000</td>\n",
       "      <td>0.000000</td>\n",
       "      <td>0.000000</td>\n",
       "      <td>0.000000</td>\n",
       "      <td>0.000000</td>\n",
       "      <td>0.000000</td>\n",
       "    </tr>\n",
       "    <tr>\n",
       "      <th>50%</th>\n",
       "      <td>19.000000</td>\n",
       "      <td>93961.500000</td>\n",
       "      <td>27025.000000</td>\n",
       "      <td>79.000000</td>\n",
       "      <td>16.000000</td>\n",
       "      <td>33.000000</td>\n",
       "      <td>1.0</td>\n",
       "      <td>0.000000</td>\n",
       "      <td>0.000000</td>\n",
       "      <td>0.000000</td>\n",
       "      <td>...</td>\n",
       "      <td>1.000000</td>\n",
       "      <td>0.000000</td>\n",
       "      <td>0.000000</td>\n",
       "      <td>0.000000</td>\n",
       "      <td>0.000000</td>\n",
       "      <td>0.000000</td>\n",
       "      <td>0.000000</td>\n",
       "      <td>0.000000</td>\n",
       "      <td>0.000000</td>\n",
       "      <td>0.000000</td>\n",
       "    </tr>\n",
       "    <tr>\n",
       "      <th>75%</th>\n",
       "      <td>40.000000</td>\n",
       "      <td>141334.500000</td>\n",
       "      <td>41431.000000</td>\n",
       "      <td>156.000000</td>\n",
       "      <td>18.000000</td>\n",
       "      <td>51.000000</td>\n",
       "      <td>1.0</td>\n",
       "      <td>0.000000</td>\n",
       "      <td>1.000000</td>\n",
       "      <td>1.000000</td>\n",
       "      <td>...</td>\n",
       "      <td>1.000000</td>\n",
       "      <td>1.000000</td>\n",
       "      <td>1.000000</td>\n",
       "      <td>0.000000</td>\n",
       "      <td>0.000000</td>\n",
       "      <td>1.000000</td>\n",
       "      <td>0.000000</td>\n",
       "      <td>1.000000</td>\n",
       "      <td>0.000000</td>\n",
       "      <td>1.000000</td>\n",
       "    </tr>\n",
       "    <tr>\n",
       "      <th>max</th>\n",
       "      <td>49.000000</td>\n",
       "      <td>188689.000000</td>\n",
       "      <td>50927.000000</td>\n",
       "      <td>183.000000</td>\n",
       "      <td>21.000000</td>\n",
       "      <td>100.000000</td>\n",
       "      <td>1.0</td>\n",
       "      <td>1.000000</td>\n",
       "      <td>1.000000</td>\n",
       "      <td>1.000000</td>\n",
       "      <td>...</td>\n",
       "      <td>1.000000</td>\n",
       "      <td>1.000000</td>\n",
       "      <td>1.000000</td>\n",
       "      <td>1.000000</td>\n",
       "      <td>1.000000</td>\n",
       "      <td>1.000000</td>\n",
       "      <td>1.000000</td>\n",
       "      <td>1.000000</td>\n",
       "      <td>1.000000</td>\n",
       "      <td>1.000000</td>\n",
       "    </tr>\n",
       "  </tbody>\n",
       "</table>\n",
       "<p>8 rows × 48 columns</p>\n",
       "</div>"
      ],
      "text/plain": [
       "           Artist_ID          Index        User_ID          Track  \\\n",
       "count  111460.000000  111460.000000  111460.000000  111460.000000   \n",
       "mean       21.011601   94144.190544   26927.849937      89.477086   \n",
       "std        15.687981   54471.406761   15746.837837      65.008561   \n",
       "min         0.000000       0.000000       3.000000       0.000000   \n",
       "25%         9.000000   47108.750000   12878.000000      27.000000   \n",
       "50%        19.000000   93961.500000   27025.000000      79.000000   \n",
       "75%        40.000000  141334.500000   41431.000000     156.000000   \n",
       "max        49.000000  188689.000000   50927.000000     183.000000   \n",
       "\n",
       "                Time         Rating  HEARD_OF          Edgy_      Negative_  \\\n",
       "count  111460.000000  111460.000000  111460.0  111460.000000  111460.000000   \n",
       "mean       15.012273      37.392661       1.0       0.176924       0.268329   \n",
       "std         4.535960      22.889588       0.0       0.381606       0.443092   \n",
       "min         4.000000       0.000000       1.0       0.000000       0.000000   \n",
       "25%        12.000000      16.000000       1.0       0.000000       0.000000   \n",
       "50%        16.000000      33.000000       1.0       0.000000       0.000000   \n",
       "75%        18.000000      51.000000       1.0       0.000000       1.000000   \n",
       "max        21.000000     100.000000       1.0       1.000000       1.000000   \n",
       "\n",
       "          Sensitive_                        ...                         \\\n",
       "count  111460.000000                        ...                          \n",
       "mean        0.403032                        ...                          \n",
       "std         0.490509                        ...                          \n",
       "min         0.000000                        ...                          \n",
       "25%         0.000000                        ...                          \n",
       "50%         0.000000                        ...                          \n",
       "75%         1.000000                        ...                          \n",
       "max         1.000000                        ...                          \n",
       "\n",
       "                Male       Midlands          North  North Ireland  \\\n",
       "count  111460.000000  111460.000000  111460.000000  111460.000000   \n",
       "mean        0.500592       0.269325       0.352557       0.002090   \n",
       "std         0.500002       0.443611       0.477768       0.045674   \n",
       "min         0.000000       0.000000       0.000000       0.000000   \n",
       "25%         0.000000       0.000000       0.000000       0.000000   \n",
       "50%         1.000000       0.000000       0.000000       0.000000   \n",
       "75%         1.000000       1.000000       1.000000       0.000000   \n",
       "max         1.000000       1.000000       1.000000       1.000000   \n",
       "\n",
       "       Northern Ireland          South  \\\n",
       "count     111460.000000  111460.000000   \n",
       "mean           0.017432       0.321649   \n",
       "std            0.130876       0.467111   \n",
       "min            0.000000       0.000000   \n",
       "25%            0.000000       0.000000   \n",
       "50%            0.000000       0.000000   \n",
       "75%            0.000000       1.000000   \n",
       "max            1.000000       1.000000   \n",
       "\n",
       "       Music has no particular interest for me  \\\n",
       "count                            111460.000000   \n",
       "mean                                  0.017791   \n",
       "std                                   0.132192   \n",
       "min                                   0.000000   \n",
       "25%                                   0.000000   \n",
       "50%                                   0.000000   \n",
       "75%                                   0.000000   \n",
       "max                                   1.000000   \n",
       "\n",
       "       Music is important to me but not necessarily more important  \\\n",
       "count                                      111460.000000             \n",
       "mean                                            0.399336             \n",
       "std                                             0.489764             \n",
       "min                                             0.000000             \n",
       "25%                                             0.000000             \n",
       "50%                                             0.000000             \n",
       "75%                                             1.000000             \n",
       "max                                             1.000000             \n",
       "\n",
       "       Music is no longer as important as it used to be to me  \\\n",
       "count                                      111460.000000        \n",
       "mean                                            0.028710        \n",
       "std                                             0.166991        \n",
       "min                                             0.000000        \n",
       "25%                                             0.000000        \n",
       "50%                                             0.000000        \n",
       "75%                                             0.000000        \n",
       "max                                             1.000000        \n",
       "\n",
       "       Music means a lot to me and is a passion of mine  \n",
       "count                                     111460.000000  \n",
       "mean                                           0.329105  \n",
       "std                                            0.469890  \n",
       "min                                            0.000000  \n",
       "25%                                            0.000000  \n",
       "50%                                            0.000000  \n",
       "75%                                            1.000000  \n",
       "max                                            1.000000  \n",
       "\n",
       "[8 rows x 48 columns]"
      ]
     },
     "execution_count": 79,
     "metadata": {},
     "output_type": "execute_result"
    }
   ],
   "source": [
    "data_clean.describe()"
   ]
  },
  {
   "cell_type": "code",
   "execution_count": 80,
   "metadata": {
    "collapsed": false
   },
   "outputs": [],
   "source": [
    "data_clean.to_csv(path_or_buf='/Users/johnsnyder/GA-DSI-working/Capstone/EMI/clean_data.csv')"
   ]
  },
  {
   "cell_type": "markdown",
   "metadata": {
    "collapsed": true
   },
   "source": [
    "## Data problem, and solution, explained\n",
    "Originally, there were a slew of null values in the dataset. Due to some mismatches in the dataset - for example, some interviews gave a different list of words to respondents, and some respondent ID numbers do not match up with ID numbers in the training data set - if we simply drop any rows with null values, we lose the *entire* data set. In other words, every row of data contains at least one null value. I categorized the 82 words given in the 'words.csv' file into 11 categories, removed some columns with too many null values, and chiseled down the dataset to have no null values. Without categorizing the words.csv file, the dataset goes from about 188,000 rows of data to 37,000. Ouch. By categorizing the words, and dropping some of the questionnaire elements, we retain nearly 111,500 datapoints. Obviously this is a still a major reduction from what we originally had, but is a major improvement from before!\n",
    "\n",
    "Let's quickly take a closer look at what values have been lost through data cleaning and mismatches in the dataset..."
   ]
  },
  {
   "cell_type": "code",
   "execution_count": 81,
   "metadata": {
    "collapsed": false
   },
   "outputs": [
    {
     "name": "stdout",
     "output_type": "stream",
     "text": [
      "Difference in total unique users between Users and Words datasets:  2283\n",
      "Users (users.csv):  48645\n",
      "Users (words.csv):  50928\n"
     ]
    }
   ],
   "source": [
    "# Comparing number of unique users in the \"users.csv\" file compared to unique users in the \"words.csv\" file.\n",
    "lstU = users.RESPID.unique()\n",
    "lstW = words.User.unique()\n",
    "user_test = []\n",
    "for x in lstW:\n",
    "    if x in lstU:\n",
    "        pass\n",
    "    else:\n",
    "        user_test.append(x)\n",
    "        \n",
    "print \"Difference in total unique users between Users and Words datasets: \", len(user_test)\n",
    "print \"Users (users.csv): \", len(lstU)\n",
    "print \"Users (words.csv): \", len(lstW)"
   ]
  },
  {
   "cell_type": "code",
   "execution_count": 82,
   "metadata": {
    "collapsed": false
   },
   "outputs": [
    {
     "name": "stdout",
     "output_type": "stream",
     "text": [
      "Total unique artists lost:  0\n",
      "Artists (words.csv):  50\n",
      "Artists (train.csv):  50\n"
     ]
    }
   ],
   "source": [
    "# Comparing number of unique artists in the \"users.csv\" file compared to unique artists in the \"train.csv\" file.\n",
    "ArtW = words.Artist.unique()\n",
    "ArtT = train.Artist.unique()\n",
    "art_test = []\n",
    "for x in ArtW:\n",
    "    if x in ArtT:\n",
    "        pass\n",
    "    else:\n",
    "        art_test.append(x)\n",
    "        \n",
    "print \"Total unique artists lost: \", len(art_test)\n",
    "print \"Artists (words.csv): \", len(ArtW)\n",
    "print \"Artists (train.csv): \", len(ArtT)"
   ]
  },
  {
   "cell_type": "code",
   "execution_count": 83,
   "metadata": {
    "collapsed": false
   },
   "outputs": [
    {
     "name": "stdout",
     "output_type": "stream",
     "text": [
      "(77230, 45)\n"
     ]
    },
    {
     "data": {
      "text/html": [
       "<div>\n",
       "<table border=\"1\" class=\"dataframe\">\n",
       "  <thead>\n",
       "    <tr style=\"text-align: right;\">\n",
       "      <th></th>\n",
       "      <th>index</th>\n",
       "      <th>Artist</th>\n",
       "      <th>Track</th>\n",
       "      <th>User</th>\n",
       "      <th>Rating</th>\n",
       "      <th>Time</th>\n",
       "      <th>index</th>\n",
       "      <th>Artist</th>\n",
       "      <th>User</th>\n",
       "      <th>HEARD_OF</th>\n",
       "      <th>...</th>\n",
       "      <th>Q8</th>\n",
       "      <th>Q9</th>\n",
       "      <th>Q10</th>\n",
       "      <th>Q11</th>\n",
       "      <th>Q12</th>\n",
       "      <th>Q13</th>\n",
       "      <th>Q14</th>\n",
       "      <th>Q15</th>\n",
       "      <th>Q16</th>\n",
       "      <th>Q17</th>\n",
       "    </tr>\n",
       "  </thead>\n",
       "  <tbody>\n",
       "    <tr>\n",
       "      <th>11</th>\n",
       "      <td>165221</td>\n",
       "      <td>6</td>\n",
       "      <td>149</td>\n",
       "      <td>38548</td>\n",
       "      <td>18</td>\n",
       "      <td>15</td>\n",
       "      <td>NaN</td>\n",
       "      <td>NaN</td>\n",
       "      <td>NaN</td>\n",
       "      <td>None</td>\n",
       "      <td>...</td>\n",
       "      <td>2.0</td>\n",
       "      <td>82.0</td>\n",
       "      <td>3.0</td>\n",
       "      <td>20.0</td>\n",
       "      <td>7.0</td>\n",
       "      <td>6.0</td>\n",
       "      <td>7.0</td>\n",
       "      <td>4.0</td>\n",
       "      <td>3.0</td>\n",
       "      <td>3.0</td>\n",
       "    </tr>\n",
       "    <tr>\n",
       "      <th>12</th>\n",
       "      <td>157103</td>\n",
       "      <td>6</td>\n",
       "      <td>148</td>\n",
       "      <td>38548</td>\n",
       "      <td>13</td>\n",
       "      <td>15</td>\n",
       "      <td>NaN</td>\n",
       "      <td>NaN</td>\n",
       "      <td>NaN</td>\n",
       "      <td>None</td>\n",
       "      <td>...</td>\n",
       "      <td>2.0</td>\n",
       "      <td>82.0</td>\n",
       "      <td>3.0</td>\n",
       "      <td>20.0</td>\n",
       "      <td>7.0</td>\n",
       "      <td>6.0</td>\n",
       "      <td>7.0</td>\n",
       "      <td>4.0</td>\n",
       "      <td>3.0</td>\n",
       "      <td>3.0</td>\n",
       "    </tr>\n",
       "    <tr>\n",
       "      <th>15</th>\n",
       "      <td>172012</td>\n",
       "      <td>3</td>\n",
       "      <td>9</td>\n",
       "      <td>4203</td>\n",
       "      <td>37</td>\n",
       "      <td>18</td>\n",
       "      <td>38912.0</td>\n",
       "      <td>3.0</td>\n",
       "      <td>4203.0</td>\n",
       "      <td>Never heard of</td>\n",
       "      <td>...</td>\n",
       "      <td>10.0</td>\n",
       "      <td>68.0</td>\n",
       "      <td>10.0</td>\n",
       "      <td>27.0</td>\n",
       "      <td>47.0</td>\n",
       "      <td>48.0</td>\n",
       "      <td>49.0</td>\n",
       "      <td>15.0</td>\n",
       "      <td>13.0</td>\n",
       "      <td>14.0</td>\n",
       "    </tr>\n",
       "    <tr>\n",
       "      <th>16</th>\n",
       "      <td>61085</td>\n",
       "      <td>2</td>\n",
       "      <td>7</td>\n",
       "      <td>4203</td>\n",
       "      <td>34</td>\n",
       "      <td>18</td>\n",
       "      <td>66179.0</td>\n",
       "      <td>2.0</td>\n",
       "      <td>4203.0</td>\n",
       "      <td>Never heard of</td>\n",
       "      <td>...</td>\n",
       "      <td>10.0</td>\n",
       "      <td>68.0</td>\n",
       "      <td>10.0</td>\n",
       "      <td>27.0</td>\n",
       "      <td>47.0</td>\n",
       "      <td>48.0</td>\n",
       "      <td>49.0</td>\n",
       "      <td>15.0</td>\n",
       "      <td>13.0</td>\n",
       "      <td>14.0</td>\n",
       "    </tr>\n",
       "    <tr>\n",
       "      <th>17</th>\n",
       "      <td>140673</td>\n",
       "      <td>4</td>\n",
       "      <td>12</td>\n",
       "      <td>4203</td>\n",
       "      <td>70</td>\n",
       "      <td>18</td>\n",
       "      <td>109890.0</td>\n",
       "      <td>4.0</td>\n",
       "      <td>4203.0</td>\n",
       "      <td>Heard of</td>\n",
       "      <td>...</td>\n",
       "      <td>10.0</td>\n",
       "      <td>68.0</td>\n",
       "      <td>10.0</td>\n",
       "      <td>27.0</td>\n",
       "      <td>47.0</td>\n",
       "      <td>48.0</td>\n",
       "      <td>49.0</td>\n",
       "      <td>15.0</td>\n",
       "      <td>13.0</td>\n",
       "      <td>14.0</td>\n",
       "    </tr>\n",
       "  </tbody>\n",
       "</table>\n",
       "<p>5 rows × 45 columns</p>\n",
       "</div>"
      ],
      "text/plain": [
       "     index  Artist  Track   User  Rating  Time     index  Artist    User  \\\n",
       "11  165221       6    149  38548      18    15       NaN     NaN     NaN   \n",
       "12  157103       6    148  38548      13    15       NaN     NaN     NaN   \n",
       "15  172012       3      9   4203      37    18   38912.0     3.0  4203.0   \n",
       "16   61085       2      7   4203      34    18   66179.0     2.0  4203.0   \n",
       "17  140673       4     12   4203      70    18  109890.0     4.0  4203.0   \n",
       "\n",
       "          HEARD_OF  ...     Q8    Q9   Q10   Q11   Q12   Q13   Q14   Q15  \\\n",
       "11            None  ...    2.0  82.0   3.0  20.0   7.0   6.0   7.0   4.0   \n",
       "12            None  ...    2.0  82.0   3.0  20.0   7.0   6.0   7.0   4.0   \n",
       "15  Never heard of  ...   10.0  68.0  10.0  27.0  47.0  48.0  49.0  15.0   \n",
       "16  Never heard of  ...   10.0  68.0  10.0  27.0  47.0  48.0  49.0  15.0   \n",
       "17        Heard of  ...   10.0  68.0  10.0  27.0  47.0  48.0  49.0  15.0   \n",
       "\n",
       "     Q16   Q17  \n",
       "11   3.0   3.0  \n",
       "12   3.0   3.0  \n",
       "15  13.0  14.0  \n",
       "16  13.0  14.0  \n",
       "17  13.0  14.0  \n",
       "\n",
       "[5 rows x 45 columns]"
      ]
     },
     "execution_count": 83,
     "metadata": {},
     "output_type": "execute_result"
    }
   ],
   "source": [
    "# Looking into the values we dropped due to missing necessary values\n",
    "null_data = data_drop[data_drop.isnull().any(axis=1)]\n",
    "print null_data.shape\n",
    "null_data.head()"
   ]
  },
  {
   "cell_type": "code",
   "execution_count": 84,
   "metadata": {
    "collapsed": false
   },
   "outputs": [
    {
     "name": "stdout",
     "output_type": "stream",
     "text": [
      "Number of missing artists (exluding null):  11\n",
      "'Null' data artists:  [36.0, 38.0, 30.0, 35.0, 34.0, 26.0, 39.0, 29.0, 27.0, 37.0, 28.0, nan]\n",
      "Clean data artists:  [  1.   3.   4.  14.  20.  25.  21.  11.  33.  32.  31.   0.   7.   6.  44.\n",
      "  43.  42.  40.  49.  41.  15.  13.  47.  24.  22.   2.   9.   5.  23.  10.\n",
      "  46.  45.  48.  16.  12.   8.  17.  19.  18.]\n",
      "Remaining number of artists (excluding null):  39\n",
      "Test - remaining number of artists in data_clean:  39\n",
      "Remaining percentage of artists: 78.0%\n"
     ]
    }
   ],
   "source": [
    "# Comparing number of artists in the \"words.csv\" file with those in the null dataset\n",
    "ArtW = words.Artist.unique()\n",
    "Artnull = pd.concat((null_data.Artist.ix[:,0],null_data.Artist.ix[:,1]), axis=0).unique()\n",
    "artnulltest = []\n",
    "for x in Artnull:\n",
    "    if x in data_clean.Artist_ID.unique():\n",
    "        pass\n",
    "    else:\n",
    "        artnulltest.append(x)\n",
    "        \n",
    "print \"Number of missing artists (exluding null): \", len(artnulltest)-1\n",
    "print \"'Null' data artists: \", artnulltest\n",
    "print \"Clean data artists: \", data_clean.Artist_ID.unique()\n",
    "print \"Remaining number of artists (excluding null): \", len(ArtW) - len(artnulltest)+1\n",
    "print \"Test - remaining number of artists in data_clean: \", len(data_clean.Artist_ID.unique())\n",
    "print \"Remaining percentage of artists: {}%\".format(100.*(len(data_clean.Artist_ID.unique())) / len(ArtT))"
   ]
  },
  {
   "cell_type": "code",
   "execution_count": 85,
   "metadata": {
    "collapsed": false
   },
   "outputs": [
    {
     "data": {
      "text/plain": [
       "[]"
      ]
     },
     "execution_count": 85,
     "metadata": {},
     "output_type": "execute_result"
    }
   ],
   "source": [
    "# Checking if any artists in the null dataset appear in the clean dataset\n",
    "duplicates = []\n",
    "for x in artnulltest:\n",
    "    if x in data_clean.Artist_ID.unique():\n",
    "        duplicates.append(x)\n",
    "    else:\n",
    "        pass\n",
    "duplicates"
   ]
  },
  {
   "cell_type": "code",
   "execution_count": 86,
   "metadata": {
    "collapsed": false,
    "scrolled": true
   },
   "outputs": [
    {
     "name": "stdout",
     "output_type": "stream",
     "text": [
      "Not included:  nan\n",
      "# of users in null data set included in clean dataset: 10,555\n",
      "# of users in null data set excluded in clean dataset: 7,590\n"
     ]
    }
   ],
   "source": [
    "# Observing how many unique users are excluded from the final dataset\n",
    "included = []\n",
    "excluded = []\n",
    "for i in pd.concat((null_data.User.ix[:,0],null_data.User.ix[:,1]), axis=0).unique():\n",
    "    try:\n",
    "        if i in data_clean.User_ID:\n",
    "            included.append(i)\n",
    "        else:\n",
    "            excluded.append(i)\n",
    "    except:\n",
    "        print \"Not included: \", i\n",
    "        \n",
    "for y in included:\n",
    "    if y in excluded:\n",
    "        print \"Overlap: \", y\n",
    "    else:\n",
    "        pass\n",
    "\n",
    "print \"# of users in null data set included in clean dataset: {:,}\".format(len(included))\n",
    "print \"# of users in null data set excluded in clean dataset: {:,}\".format(len(excluded))"
   ]
  },
  {
   "cell_type": "code",
   "execution_count": 87,
   "metadata": {
    "collapsed": false
   },
   "outputs": [
    {
     "name": "stdout",
     "output_type": "stream",
     "text": [
      "Total number of unique users: 50,928\n",
      "Total number of unique users (respondent background info): 48,645\n",
      "Total number of unique users after data clean: 32,590\n",
      "% of original users remaining: 63.99%\n"
     ]
    }
   ],
   "source": [
    "print \"Total number of unique users: {:,}\".format(pd.concat((users.RESPID, words.User, train.User), axis = 0).nunique())\n",
    "print \"Total number of unique users (respondent background info): {:,}\".format(users.RESPID.nunique())\n",
    "print \"Total number of unique users after data clean: {:,}\".format(data_clean.User_ID.nunique())\n",
    "print \"% of original users remaining: {0:.2f}%\".format(100*float(data_clean.User_ID.nunique()) /\\\n",
    "                                        pd.concat((users.RESPID, words.User, train.User), axis = 0).nunique())"
   ]
  },
  {
   "cell_type": "markdown",
   "metadata": {},
   "source": [
    "## OK, so...\n",
    "\n",
    "The above check shows that 11 artists and about 36% of users were removed through the process of removing null values to obtain a clean dataset.\n",
    "\n",
    "Given previous iterations of cleaning this dataset, this isn't half bad (maybe ~1/3 bad?). If my model doesn't work well given the features I have in the the clean dataset, I'll return to this process and add some features back in."
   ]
  },
  {
   "cell_type": "code",
   "execution_count": null,
   "metadata": {
    "collapsed": true
   },
   "outputs": [],
   "source": []
  }
 ],
 "metadata": {
  "anaconda-cloud": {},
  "kernelspec": {
   "display_name": "Python [conda root]",
   "language": "python",
   "name": "conda-root-py"
  },
  "language_info": {
   "codemirror_mode": {
    "name": "ipython",
    "version": 2
   },
   "file_extension": ".py",
   "mimetype": "text/x-python",
   "name": "python",
   "nbconvert_exporter": "python",
   "pygments_lexer": "ipython2",
   "version": "2.7.12"
  }
 },
 "nbformat": 4,
 "nbformat_minor": 1
}
