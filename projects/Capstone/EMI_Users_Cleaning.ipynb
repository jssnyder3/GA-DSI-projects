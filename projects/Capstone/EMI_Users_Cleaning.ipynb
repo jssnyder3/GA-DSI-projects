{
 "cells": [
  {
   "cell_type": "code",
   "execution_count": 1,
   "metadata": {
    "collapsed": false
   },
   "outputs": [
    {
     "name": "stderr",
     "output_type": "stream",
     "text": [
      "/Users/johnsnyder/anaconda/lib/python2.7/site-packages/matplotlib/font_manager.py:273: UserWarning: Matplotlib is building the font cache using fc-list. This may take a moment.\n",
      "  warnings.warn('Matplotlib is building the font cache using fc-list. This may take a moment.')\n"
     ]
    }
   ],
   "source": [
    "import pandas as pd\n",
    "import numpy as np\n",
    "import matplotlib.pyplot as plt\n",
    "import seaborn as sns\n",
    "%matplotlib inline"
   ]
  },
  {
   "cell_type": "code",
   "execution_count": 2,
   "metadata": {
    "collapsed": true
   },
   "outputs": [],
   "source": [
    "users = pd.read_csv('/Users/johnsnyder/GA-DSI-working/Capstone/EMI/users.csv')\n",
    "userkey = pd.read_csv('/Users/johnsnyder/GA-DSI-working/Capstone/EMI/UserKey.csv',usecols=[0,1],header=None)"
   ]
  },
  {
   "cell_type": "code",
   "execution_count": 3,
   "metadata": {
    "collapsed": false
   },
   "outputs": [
    {
     "data": {
      "text/html": [
       "<div>\n",
       "<table border=\"1\" class=\"dataframe\">\n",
       "  <thead>\n",
       "    <tr style=\"text-align: right;\">\n",
       "      <th></th>\n",
       "      <th>RESPID</th>\n",
       "      <th>GENDER</th>\n",
       "      <th>AGE</th>\n",
       "      <th>WORKING</th>\n",
       "      <th>REGION</th>\n",
       "      <th>MUSIC</th>\n",
       "      <th>LIST_OWN</th>\n",
       "      <th>LIST_BACK</th>\n",
       "      <th>Q1</th>\n",
       "      <th>Q2</th>\n",
       "      <th>...</th>\n",
       "      <th>Q10</th>\n",
       "      <th>Q11</th>\n",
       "      <th>Q12</th>\n",
       "      <th>Q13</th>\n",
       "      <th>Q14</th>\n",
       "      <th>Q15</th>\n",
       "      <th>Q16</th>\n",
       "      <th>Q17</th>\n",
       "      <th>Q18</th>\n",
       "      <th>Q19</th>\n",
       "    </tr>\n",
       "  </thead>\n",
       "  <tbody>\n",
       "    <tr>\n",
       "      <th>0</th>\n",
       "      <td>36927</td>\n",
       "      <td>Female</td>\n",
       "      <td>60.0</td>\n",
       "      <td>Other</td>\n",
       "      <td>South</td>\n",
       "      <td>Music is important to me but not necessarily m...</td>\n",
       "      <td>1 hour</td>\n",
       "      <td>NaN</td>\n",
       "      <td>49.0</td>\n",
       "      <td>50.0</td>\n",
       "      <td>...</td>\n",
       "      <td>50.0</td>\n",
       "      <td>50.0</td>\n",
       "      <td>71.0</td>\n",
       "      <td>52.0</td>\n",
       "      <td>71.0</td>\n",
       "      <td>9.0</td>\n",
       "      <td>7.0</td>\n",
       "      <td>72.0</td>\n",
       "      <td>49.0</td>\n",
       "      <td>26.0</td>\n",
       "    </tr>\n",
       "    <tr>\n",
       "      <th>1</th>\n",
       "      <td>3566</td>\n",
       "      <td>Female</td>\n",
       "      <td>36.0</td>\n",
       "      <td>Full-time housewife / househusband</td>\n",
       "      <td>South</td>\n",
       "      <td>Music is important to me but not necessarily m...</td>\n",
       "      <td>1 hour</td>\n",
       "      <td>1 hour</td>\n",
       "      <td>55.0</td>\n",
       "      <td>55.0</td>\n",
       "      <td>...</td>\n",
       "      <td>12.0</td>\n",
       "      <td>65.0</td>\n",
       "      <td>65.0</td>\n",
       "      <td>80.0</td>\n",
       "      <td>79.0</td>\n",
       "      <td>51.0</td>\n",
       "      <td>31.0</td>\n",
       "      <td>68.0</td>\n",
       "      <td>54.0</td>\n",
       "      <td>33.0</td>\n",
       "    </tr>\n",
       "    <tr>\n",
       "      <th>2</th>\n",
       "      <td>20054</td>\n",
       "      <td>Female</td>\n",
       "      <td>52.0</td>\n",
       "      <td>Employed 30+ hours a week</td>\n",
       "      <td>Midlands</td>\n",
       "      <td>I like music but it does not feature heavily i...</td>\n",
       "      <td>1 hour</td>\n",
       "      <td>Less than an hour</td>\n",
       "      <td>11.0</td>\n",
       "      <td>50.0</td>\n",
       "      <td>...</td>\n",
       "      <td>50.0</td>\n",
       "      <td>94.0</td>\n",
       "      <td>51.0</td>\n",
       "      <td>74.0</td>\n",
       "      <td>66.0</td>\n",
       "      <td>27.0</td>\n",
       "      <td>46.0</td>\n",
       "      <td>73.0</td>\n",
       "      <td>8.0</td>\n",
       "      <td>31.0</td>\n",
       "    </tr>\n",
       "    <tr>\n",
       "      <th>3</th>\n",
       "      <td>41749</td>\n",
       "      <td>Female</td>\n",
       "      <td>40.0</td>\n",
       "      <td>Employed 8-29 hours per week</td>\n",
       "      <td>South</td>\n",
       "      <td>Music means a lot to me and is a passion of mine</td>\n",
       "      <td>2 hours</td>\n",
       "      <td>3 hours</td>\n",
       "      <td>81.0</td>\n",
       "      <td>80.0</td>\n",
       "      <td>...</td>\n",
       "      <td>76.0</td>\n",
       "      <td>74.0</td>\n",
       "      <td>64.0</td>\n",
       "      <td>73.0</td>\n",
       "      <td>85.0</td>\n",
       "      <td>61.0</td>\n",
       "      <td>77.0</td>\n",
       "      <td>76.0</td>\n",
       "      <td>78.0</td>\n",
       "      <td>88.0</td>\n",
       "    </tr>\n",
       "    <tr>\n",
       "      <th>4</th>\n",
       "      <td>23108</td>\n",
       "      <td>Female</td>\n",
       "      <td>16.0</td>\n",
       "      <td>Full-time student</td>\n",
       "      <td>North</td>\n",
       "      <td>Music means a lot to me and is a passion of mine</td>\n",
       "      <td>3 hours</td>\n",
       "      <td>6 hours</td>\n",
       "      <td>76.0</td>\n",
       "      <td>79.0</td>\n",
       "      <td>...</td>\n",
       "      <td>56.0</td>\n",
       "      <td>13.0</td>\n",
       "      <td>82.0</td>\n",
       "      <td>79.0</td>\n",
       "      <td>68.0</td>\n",
       "      <td>71.0</td>\n",
       "      <td>NaN</td>\n",
       "      <td>86.0</td>\n",
       "      <td>80.0</td>\n",
       "      <td>32.0</td>\n",
       "    </tr>\n",
       "  </tbody>\n",
       "</table>\n",
       "<p>5 rows × 27 columns</p>\n",
       "</div>"
      ],
      "text/plain": [
       "   RESPID  GENDER   AGE                             WORKING    REGION  \\\n",
       "0   36927  Female  60.0                               Other     South   \n",
       "1    3566  Female  36.0  Full-time housewife / househusband     South   \n",
       "2   20054  Female  52.0           Employed 30+ hours a week  Midlands   \n",
       "3   41749  Female  40.0        Employed 8-29 hours per week     South   \n",
       "4   23108  Female  16.0                   Full-time student     North   \n",
       "\n",
       "                                               MUSIC LIST_OWN  \\\n",
       "0  Music is important to me but not necessarily m...   1 hour   \n",
       "1  Music is important to me but not necessarily m...   1 hour   \n",
       "2  I like music but it does not feature heavily i...   1 hour   \n",
       "3   Music means a lot to me and is a passion of mine  2 hours   \n",
       "4   Music means a lot to me and is a passion of mine  3 hours   \n",
       "\n",
       "           LIST_BACK    Q1    Q2  ...    Q10   Q11   Q12   Q13   Q14   Q15  \\\n",
       "0                NaN  49.0  50.0  ...   50.0  50.0  71.0  52.0  71.0   9.0   \n",
       "1             1 hour  55.0  55.0  ...   12.0  65.0  65.0  80.0  79.0  51.0   \n",
       "2  Less than an hour  11.0  50.0  ...   50.0  94.0  51.0  74.0  66.0  27.0   \n",
       "3            3 hours  81.0  80.0  ...   76.0  74.0  64.0  73.0  85.0  61.0   \n",
       "4            6 hours  76.0  79.0  ...   56.0  13.0  82.0  79.0  68.0  71.0   \n",
       "\n",
       "    Q16   Q17   Q18   Q19  \n",
       "0   7.0  72.0  49.0  26.0  \n",
       "1  31.0  68.0  54.0  33.0  \n",
       "2  46.0  73.0   8.0  31.0  \n",
       "3  77.0  76.0  78.0  88.0  \n",
       "4   NaN  86.0  80.0  32.0  \n",
       "\n",
       "[5 rows x 27 columns]"
      ]
     },
     "execution_count": 3,
     "metadata": {},
     "output_type": "execute_result"
    }
   ],
   "source": [
    "users.head()"
   ]
  },
  {
   "cell_type": "code",
   "execution_count": 4,
   "metadata": {
    "collapsed": false
   },
   "outputs": [
    {
     "data": {
      "text/plain": [
       "array([['RESPID', 'User id'],\n",
       "       ['GENDER', 'Male/Female'],\n",
       "       ['AGE', 'Age in years'],\n",
       "       ['WORKING', 'Working status'],\n",
       "       ['REGION', 'Region of the UK'],\n",
       "       ['MUSIC',\n",
       "        'Listening to music that you have chosen / bought (eg. playing CDs or listening to your iPod) -'],\n",
       "       ['LIST_OWN',\n",
       "        'Listening to music that may be on in the background (e.g. the radio or a streaming service like last.fm) -'],\n",
       "       ['LIST_BACK',\n",
       "        'Listening to music that may be on in the background (e.g. the radio or a streaming service like last.fm) -'],\n",
       "       ['Q1',\n",
       "        'I enjoy actively searching for and discovering music that I have never heard before (Thinking now about music'],\n",
       "       ['Q2', 'I find it easy to find new music (Thinking now about music'],\n",
       "       ['Q3',\n",
       "        'I am constantly interested in and looking for more music (Thinking now about music'],\n",
       "       ['Q4',\n",
       "        'I would like to buy new music but I don\\x89\\xdb\\xaat know what to buy (Thinking now about music'],\n",
       "       ['Q5', 'I used to know where to find music'],\n",
       "       ['Q6', 'I am not willing to pay for music (Thinking now about music'],\n",
       "       ['Q7',\n",
       "        'I enjoy music primarily from going out to dance (Thinking now about music'],\n",
       "       ['Q8',\n",
       "        'Music for me is all about nightlife and going out (Thinking now about music'],\n",
       "       ['Q9', 'I am out of touch with new music (Thinking now about music'],\n",
       "       ['Q10',\n",
       "        'My music collection is a source of pride (Thinking now about music'],\n",
       "       ['Q11', 'Pop music is fun'],\n",
       "       ['Q12', 'Pop music helps me to escape (Thinking now about music'],\n",
       "       ['Q13',\n",
       "        'I want a multi media experience at my fingertips wherever I go (Thinking now about music'],\n",
       "       ['Q14', 'I love technology'],\n",
       "       ['Q15', 'People often ask my advice on music - what to listen to'],\n",
       "       ['Q16',\n",
       "        'I would be willing to pay for the opportunity to buy new music pre-release - Thinking now about music'],\n",
       "       ['Q17',\n",
       "        'I find seeing a new artist / band on TV a useful way of discovering new music (Thinking now about music'],\n",
       "       ['Q18',\n",
       "        'I like to be at the cutting edge of new music (Thinking now about music'],\n",
       "       ['Q19',\n",
       "        'I like to know about music before other people (Thinking now about music']], dtype=object)"
      ]
     },
     "execution_count": 4,
     "metadata": {},
     "output_type": "execute_result"
    }
   ],
   "source": [
    "userkey.columns = ['Key','Description']\n",
    "userkey.values"
   ]
  },
  {
   "cell_type": "code",
   "execution_count": 5,
   "metadata": {
    "collapsed": false
   },
   "outputs": [
    {
     "data": {
      "text/plain": [
       "1 hour                7482\n",
       "2 hours               6962\n",
       "Less than an hour     6765\n",
       "3 hours               3249\n",
       "1                     3171\n",
       "0 Hours               3126\n",
       "2                     2435\n",
       "4 hours               2014\n",
       "5 hours               1115\n",
       "0                     1055\n",
       "3                     1020\n",
       "6 hours                717\n",
       "4                      535\n",
       "16+ hours              518\n",
       "8 hours                492\n",
       "10 hours               473\n",
       "5                      339\n",
       "7 hours                298\n",
       "12 hours               201\n",
       "6                      129\n",
       "9 hours                121\n",
       "8                       80\n",
       "10                      64\n",
       "11 hours                55\n",
       "15 hours                54\n",
       "14 hours                50\n",
       "7                       43\n",
       "12                      32\n",
       "16 hours                29\n",
       "13 hours                28\n",
       "9                       14\n",
       "15                       9\n",
       "More than 16 hours       7\n",
       "14                       6\n",
       "20                       6\n",
       "16                       4\n",
       "13                       2\n",
       "11                       2\n",
       "22                       1\n",
       "18                       1\n",
       "17                       1\n",
       "24                       1\n",
       "Name: LIST_OWN, dtype: int64"
      ]
     },
     "execution_count": 5,
     "metadata": {},
     "output_type": "execute_result"
    }
   ],
   "source": [
    "users.LIST_OWN.value_counts()"
   ]
  },
  {
   "cell_type": "code",
   "execution_count": 6,
   "metadata": {
    "collapsed": false
   },
   "outputs": [
    {
     "data": {
      "text/html": [
       "<div>\n",
       "<table border=\"1\" class=\"dataframe\">\n",
       "  <thead>\n",
       "    <tr style=\"text-align: right;\">\n",
       "      <th></th>\n",
       "      <th>RESPID</th>\n",
       "      <th>GENDER</th>\n",
       "      <th>AGE</th>\n",
       "      <th>WORKING</th>\n",
       "      <th>REGION</th>\n",
       "      <th>MUSIC</th>\n",
       "      <th>LIST_OWN</th>\n",
       "      <th>LIST_BACK</th>\n",
       "      <th>Q1</th>\n",
       "      <th>Q2</th>\n",
       "      <th>...</th>\n",
       "      <th>Q10</th>\n",
       "      <th>Q11</th>\n",
       "      <th>Q12</th>\n",
       "      <th>Q13</th>\n",
       "      <th>Q14</th>\n",
       "      <th>Q15</th>\n",
       "      <th>Q16</th>\n",
       "      <th>Q17</th>\n",
       "      <th>Q18</th>\n",
       "      <th>Q19</th>\n",
       "    </tr>\n",
       "  </thead>\n",
       "  <tbody>\n",
       "    <tr>\n",
       "      <th>46948</th>\n",
       "      <td>47014</td>\n",
       "      <td>Male</td>\n",
       "      <td>28.0</td>\n",
       "      <td>NaN</td>\n",
       "      <td>Centre</td>\n",
       "      <td>Music means a lot to me and is a passion of mine</td>\n",
       "      <td>18</td>\n",
       "      <td>7</td>\n",
       "      <td>74.0</td>\n",
       "      <td>75.0</td>\n",
       "      <td>...</td>\n",
       "      <td>50.0</td>\n",
       "      <td>88.0</td>\n",
       "      <td>90.0</td>\n",
       "      <td>90.0</td>\n",
       "      <td>90.0</td>\n",
       "      <td>6.0</td>\n",
       "      <td>71.0</td>\n",
       "      <td>90.0</td>\n",
       "      <td>NaN</td>\n",
       "      <td>NaN</td>\n",
       "    </tr>\n",
       "  </tbody>\n",
       "</table>\n",
       "<p>1 rows × 27 columns</p>\n",
       "</div>"
      ],
      "text/plain": [
       "       RESPID GENDER   AGE WORKING  REGION  \\\n",
       "46948   47014   Male  28.0     NaN  Centre   \n",
       "\n",
       "                                                  MUSIC LIST_OWN LIST_BACK  \\\n",
       "46948  Music means a lot to me and is a passion of mine       18         7   \n",
       "\n",
       "         Q1    Q2 ...    Q10   Q11   Q12   Q13   Q14  Q15   Q16   Q17  Q18  \\\n",
       "46948  74.0  75.0 ...   50.0  88.0  90.0  90.0  90.0  6.0  71.0  90.0  NaN   \n",
       "\n",
       "       Q19  \n",
       "46948  NaN  \n",
       "\n",
       "[1 rows x 27 columns]"
      ]
     },
     "execution_count": 6,
     "metadata": {},
     "output_type": "execute_result"
    }
   ],
   "source": [
    "users[users['LIST_OWN']=='18']"
   ]
  },
  {
   "cell_type": "code",
   "execution_count": 7,
   "metadata": {
    "collapsed": false
   },
   "outputs": [
    {
     "data": {
      "text/plain": [
       "2 hours               6187\n",
       "1 hour                5970\n",
       "Less than an hour     5593\n",
       "3 hours               3443\n",
       "0 Hours               2683\n",
       "4 hours               2633\n",
       "1                     2422\n",
       "2                     2111\n",
       "5 hours               1585\n",
       "6 hours               1302\n",
       "3                     1141\n",
       "8 hours               1124\n",
       "0                     1022\n",
       "4                      775\n",
       "16+ hours              740\n",
       "10 hours               650\n",
       "7 hours                643\n",
       "5                      569\n",
       "6                      390\n",
       "8                      356\n",
       "9 hours                301\n",
       "12 hours               298\n",
       "7                      190\n",
       "10                     118\n",
       "11 hours                91\n",
       "14 hours                89\n",
       "15 hours                83\n",
       "9                       80\n",
       "12                      71\n",
       "13 hours                50\n",
       "16 hours                49\n",
       "20                      13\n",
       "More than 16 hours      11\n",
       "15                       9\n",
       "14                       6\n",
       "11                       5\n",
       "19                       5\n",
       "18                       5\n",
       "16                       4\n",
       "24                       2\n",
       "21                       1\n",
       "Name: LIST_BACK, dtype: int64"
      ]
     },
     "execution_count": 7,
     "metadata": {},
     "output_type": "execute_result"
    }
   ],
   "source": [
    "pd.value_counts(users['LIST_BACK'])"
   ]
  },
  {
   "cell_type": "code",
   "execution_count": 8,
   "metadata": {
    "collapsed": false
   },
   "outputs": [
    {
     "data": {
      "text/plain": [
       "1 hour                7482\n",
       "2 hours               6962\n",
       "Less than an hour     6765\n",
       "3 hours               3249\n",
       "1                     3171\n",
       "0 Hours               3126\n",
       "2                     2435\n",
       "4 hours               2014\n",
       "5 hours               1115\n",
       "0                     1055\n",
       "3                     1020\n",
       "6 hours                717\n",
       "4                      535\n",
       "16+ hours              518\n",
       "8 hours                492\n",
       "10 hours               473\n",
       "5                      339\n",
       "7 hours                298\n",
       "12 hours               201\n",
       "6                      129\n",
       "9 hours                121\n",
       "8                       80\n",
       "10                      64\n",
       "11 hours                55\n",
       "15 hours                54\n",
       "14 hours                50\n",
       "7                       43\n",
       "12                      32\n",
       "16 hours                29\n",
       "13 hours                28\n",
       "9                       14\n",
       "15                       9\n",
       "More than 16 hours       7\n",
       "14                       6\n",
       "20                       6\n",
       "16                       4\n",
       "13                       2\n",
       "11                       2\n",
       "22                       1\n",
       "18                       1\n",
       "17                       1\n",
       "24                       1\n",
       "Name: LIST_OWN, dtype: int64"
      ]
     },
     "execution_count": 8,
     "metadata": {},
     "output_type": "execute_result"
    }
   ],
   "source": [
    "pd.value_counts(users['LIST_OWN'])"
   ]
  },
  {
   "cell_type": "markdown",
   "metadata": {},
   "source": [
    "**Reclassifying 'LIST_BACK' and 'LIST_OWN' to be on a numeric range, below, grouping values in ranges of 4-hour chunks. Because there are very few data points, relative to the larger data set, that specify values greater than 16 hours (see above), I'm going to reclassify those data points as '5', even though those data points are on a larger spread than ranges for 1-4.**\n",
    "\n",
    "- 0 = 0, 0 Hours, Less than an hour\n",
    "- 1 = 1, 1 hour, 2, 2 hours, 3, 3 hours, 4, 4 hours\n",
    "- 2 = 5, 5 hours, 6, 6 hours, 7, 7 hours, 8, 8 hours\n",
    "- 3 = 9, 9 hours, 10, 10 hours, 11, 11 hours, 12, 12 hours\n",
    "- 4 = 13, 13 hours, 14, 14 hours, 15, 15 hours, 16, 16 hours\n",
    "- 5 = 16+ hours, More than 16 hours, 17, 18, 19, 20, 21, 22, 24\n"
   ]
  },
  {
   "cell_type": "code",
   "execution_count": 9,
   "metadata": {
    "collapsed": true
   },
   "outputs": [],
   "source": [
    "value_updates = {'0': 0, '0 Hours': 0, 'Less than an hour': 0, '1': 1, '1 hour': 1, '2': 1, '2 hours': 1,\n",
    "                 '3': 1, '3 hours': 1, '4': 1, '4 hours': 1, '5': 2,'5 hours': 2, '6': 2, '6 hours': 2, \n",
    "                 '7': 2, '7 hours': 2, '8': 2, '8 hours': 2, '9': 3, '9 hours': 3, '10': 3, '10 hours': 3,\n",
    "                 '11': 3, '11 hours': 3, '12': 3, '12 hours': 3, '13': 4,'13 hours': 4, '14': 4, '14 hours': 4,\n",
    "                 '15': 4, '15 hours': 4, '16': 4, '16 hours': 4,'16+ hours': 5, 'More than 16 hours': 5, '17': 5,\n",
    "                 '18': 5, '19': 5, '20': 5, '21': 5, '22': 5, '24': 5}\n",
    "def list_cleaner(x):\n",
    "    if x in value_updates.keys():\n",
    "        return value_updates[x]\n",
    "    else:\n",
    "        return np.nan"
   ]
  },
  {
   "cell_type": "code",
   "execution_count": 10,
   "metadata": {
    "collapsed": false
   },
   "outputs": [],
   "source": [
    "users[\"LIST_BACK\"] = users[\"LIST_BACK\"].apply(list_cleaner)\n",
    "users[\"LIST_OWN\"] = users[\"LIST_OWN\"].apply(list_cleaner)"
   ]
  },
  {
   "cell_type": "code",
   "execution_count": 11,
   "metadata": {
    "collapsed": false
   },
   "outputs": [
    {
     "data": {
      "text/html": [
       "<div>\n",
       "<table border=\"1\" class=\"dataframe\">\n",
       "  <thead>\n",
       "    <tr style=\"text-align: right;\">\n",
       "      <th></th>\n",
       "      <th>RESPID</th>\n",
       "      <th>GENDER</th>\n",
       "      <th>AGE</th>\n",
       "      <th>WORKING</th>\n",
       "      <th>REGION</th>\n",
       "      <th>MUSIC</th>\n",
       "      <th>LIST_OWN</th>\n",
       "      <th>LIST_BACK</th>\n",
       "      <th>Q1</th>\n",
       "      <th>Q2</th>\n",
       "      <th>...</th>\n",
       "      <th>Q10</th>\n",
       "      <th>Q11</th>\n",
       "      <th>Q12</th>\n",
       "      <th>Q13</th>\n",
       "      <th>Q14</th>\n",
       "      <th>Q15</th>\n",
       "      <th>Q16</th>\n",
       "      <th>Q17</th>\n",
       "      <th>Q18</th>\n",
       "      <th>Q19</th>\n",
       "    </tr>\n",
       "  </thead>\n",
       "  <tbody>\n",
       "    <tr>\n",
       "      <th>0</th>\n",
       "      <td>36927</td>\n",
       "      <td>Female</td>\n",
       "      <td>60.0</td>\n",
       "      <td>Other</td>\n",
       "      <td>South</td>\n",
       "      <td>Music is important to me but not necessarily m...</td>\n",
       "      <td>1.0</td>\n",
       "      <td>NaN</td>\n",
       "      <td>49.0</td>\n",
       "      <td>50.0</td>\n",
       "      <td>...</td>\n",
       "      <td>50.0</td>\n",
       "      <td>50.0</td>\n",
       "      <td>71.0</td>\n",
       "      <td>52.0</td>\n",
       "      <td>71.0</td>\n",
       "      <td>9.0</td>\n",
       "      <td>7.0</td>\n",
       "      <td>72.0</td>\n",
       "      <td>49.0</td>\n",
       "      <td>26.0</td>\n",
       "    </tr>\n",
       "    <tr>\n",
       "      <th>1</th>\n",
       "      <td>3566</td>\n",
       "      <td>Female</td>\n",
       "      <td>36.0</td>\n",
       "      <td>Full-time housewife / househusband</td>\n",
       "      <td>South</td>\n",
       "      <td>Music is important to me but not necessarily m...</td>\n",
       "      <td>1.0</td>\n",
       "      <td>1.0</td>\n",
       "      <td>55.0</td>\n",
       "      <td>55.0</td>\n",
       "      <td>...</td>\n",
       "      <td>12.0</td>\n",
       "      <td>65.0</td>\n",
       "      <td>65.0</td>\n",
       "      <td>80.0</td>\n",
       "      <td>79.0</td>\n",
       "      <td>51.0</td>\n",
       "      <td>31.0</td>\n",
       "      <td>68.0</td>\n",
       "      <td>54.0</td>\n",
       "      <td>33.0</td>\n",
       "    </tr>\n",
       "    <tr>\n",
       "      <th>2</th>\n",
       "      <td>20054</td>\n",
       "      <td>Female</td>\n",
       "      <td>52.0</td>\n",
       "      <td>Employed 30+ hours a week</td>\n",
       "      <td>Midlands</td>\n",
       "      <td>I like music but it does not feature heavily i...</td>\n",
       "      <td>1.0</td>\n",
       "      <td>0.0</td>\n",
       "      <td>11.0</td>\n",
       "      <td>50.0</td>\n",
       "      <td>...</td>\n",
       "      <td>50.0</td>\n",
       "      <td>94.0</td>\n",
       "      <td>51.0</td>\n",
       "      <td>74.0</td>\n",
       "      <td>66.0</td>\n",
       "      <td>27.0</td>\n",
       "      <td>46.0</td>\n",
       "      <td>73.0</td>\n",
       "      <td>8.0</td>\n",
       "      <td>31.0</td>\n",
       "    </tr>\n",
       "    <tr>\n",
       "      <th>3</th>\n",
       "      <td>41749</td>\n",
       "      <td>Female</td>\n",
       "      <td>40.0</td>\n",
       "      <td>Employed 8-29 hours per week</td>\n",
       "      <td>South</td>\n",
       "      <td>Music means a lot to me and is a passion of mine</td>\n",
       "      <td>1.0</td>\n",
       "      <td>1.0</td>\n",
       "      <td>81.0</td>\n",
       "      <td>80.0</td>\n",
       "      <td>...</td>\n",
       "      <td>76.0</td>\n",
       "      <td>74.0</td>\n",
       "      <td>64.0</td>\n",
       "      <td>73.0</td>\n",
       "      <td>85.0</td>\n",
       "      <td>61.0</td>\n",
       "      <td>77.0</td>\n",
       "      <td>76.0</td>\n",
       "      <td>78.0</td>\n",
       "      <td>88.0</td>\n",
       "    </tr>\n",
       "    <tr>\n",
       "      <th>4</th>\n",
       "      <td>23108</td>\n",
       "      <td>Female</td>\n",
       "      <td>16.0</td>\n",
       "      <td>Full-time student</td>\n",
       "      <td>North</td>\n",
       "      <td>Music means a lot to me and is a passion of mine</td>\n",
       "      <td>1.0</td>\n",
       "      <td>2.0</td>\n",
       "      <td>76.0</td>\n",
       "      <td>79.0</td>\n",
       "      <td>...</td>\n",
       "      <td>56.0</td>\n",
       "      <td>13.0</td>\n",
       "      <td>82.0</td>\n",
       "      <td>79.0</td>\n",
       "      <td>68.0</td>\n",
       "      <td>71.0</td>\n",
       "      <td>NaN</td>\n",
       "      <td>86.0</td>\n",
       "      <td>80.0</td>\n",
       "      <td>32.0</td>\n",
       "    </tr>\n",
       "  </tbody>\n",
       "</table>\n",
       "<p>5 rows × 27 columns</p>\n",
       "</div>"
      ],
      "text/plain": [
       "   RESPID  GENDER   AGE                             WORKING    REGION  \\\n",
       "0   36927  Female  60.0                               Other     South   \n",
       "1    3566  Female  36.0  Full-time housewife / househusband     South   \n",
       "2   20054  Female  52.0           Employed 30+ hours a week  Midlands   \n",
       "3   41749  Female  40.0        Employed 8-29 hours per week     South   \n",
       "4   23108  Female  16.0                   Full-time student     North   \n",
       "\n",
       "                                               MUSIC  LIST_OWN  LIST_BACK  \\\n",
       "0  Music is important to me but not necessarily m...       1.0        NaN   \n",
       "1  Music is important to me but not necessarily m...       1.0        1.0   \n",
       "2  I like music but it does not feature heavily i...       1.0        0.0   \n",
       "3   Music means a lot to me and is a passion of mine       1.0        1.0   \n",
       "4   Music means a lot to me and is a passion of mine       1.0        2.0   \n",
       "\n",
       "     Q1    Q2  ...    Q10   Q11   Q12   Q13   Q14   Q15   Q16   Q17   Q18  \\\n",
       "0  49.0  50.0  ...   50.0  50.0  71.0  52.0  71.0   9.0   7.0  72.0  49.0   \n",
       "1  55.0  55.0  ...   12.0  65.0  65.0  80.0  79.0  51.0  31.0  68.0  54.0   \n",
       "2  11.0  50.0  ...   50.0  94.0  51.0  74.0  66.0  27.0  46.0  73.0   8.0   \n",
       "3  81.0  80.0  ...   76.0  74.0  64.0  73.0  85.0  61.0  77.0  76.0  78.0   \n",
       "4  76.0  79.0  ...   56.0  13.0  82.0  79.0  68.0  71.0   NaN  86.0  80.0   \n",
       "\n",
       "    Q19  \n",
       "0  26.0  \n",
       "1  33.0  \n",
       "2  31.0  \n",
       "3  88.0  \n",
       "4  32.0  \n",
       "\n",
       "[5 rows x 27 columns]"
      ]
     },
     "execution_count": 11,
     "metadata": {},
     "output_type": "execute_result"
    }
   ],
   "source": [
    "users.head()"
   ]
  },
  {
   "cell_type": "code",
   "execution_count": 12,
   "metadata": {
    "collapsed": false
   },
   "outputs": [
    {
     "data": {
      "text/plain": [
       "array([ nan,   1.,   0.,   2.,   5.,   4.,   3.])"
      ]
     },
     "execution_count": 12,
     "metadata": {},
     "output_type": "execute_result"
    }
   ],
   "source": [
    "users['LIST_BACK'].unique()"
   ]
  },
  {
   "cell_type": "code",
   "execution_count": 13,
   "metadata": {
    "collapsed": false
   },
   "outputs": [
    {
     "data": {
      "text/plain": [
       "array(['Other', 'Full-time housewife / househusband',\n",
       "       'Employed 30+ hours a week', 'Employed 8-29 hours per week',\n",
       "       'Full-time student', 'Temporarily unemployed',\n",
       "       'Retired from full-time employment (30+ hours per week)', nan,\n",
       "       'Self-employed', 'Retired from self-employment',\n",
       "       'Prefer not to state', 'Part-time student',\n",
       "       'In unpaid employment (e.g. voluntary work)',\n",
       "       'Employed part-time less than 8 hours per week'], dtype=object)"
      ]
     },
     "execution_count": 13,
     "metadata": {},
     "output_type": "execute_result"
    }
   ],
   "source": [
    "users['WORKING'].unique()"
   ]
  },
  {
   "cell_type": "code",
   "execution_count": 14,
   "metadata": {
    "collapsed": false
   },
   "outputs": [],
   "source": [
    "users.to_csv(path_or_buf='/Users/johnsnyder/GA-DSI-working/Capstone/EMI/users_clean.csv')"
   ]
  },
  {
   "cell_type": "code",
   "execution_count": 15,
   "metadata": {
    "collapsed": false
   },
   "outputs": [
    {
     "data": {
      "text/plain": [
       "Index([u'RESPID', u'GENDER', u'AGE', u'WORKING', u'REGION', u'MUSIC',\n",
       "       u'LIST_OWN', u'LIST_BACK', u'Q1', u'Q2', u'Q3', u'Q4', u'Q5', u'Q6',\n",
       "       u'Q7', u'Q8', u'Q9', u'Q10', u'Q11', u'Q12', u'Q13', u'Q14', u'Q15',\n",
       "       u'Q16', u'Q17', u'Q18', u'Q19'],\n",
       "      dtype='object')"
      ]
     },
     "execution_count": 15,
     "metadata": {},
     "output_type": "execute_result"
    }
   ],
   "source": [
    "users.columns"
   ]
  },
  {
   "cell_type": "code",
   "execution_count": null,
   "metadata": {
    "collapsed": false
   },
   "outputs": [],
   "source": []
  },
  {
   "cell_type": "code",
   "execution_count": null,
   "metadata": {
    "collapsed": true
   },
   "outputs": [],
   "source": []
  }
 ],
 "metadata": {
  "anaconda-cloud": {},
  "kernelspec": {
   "display_name": "Python [conda root]",
   "language": "python",
   "name": "conda-root-py"
  },
  "language_info": {
   "codemirror_mode": {
    "name": "ipython",
    "version": 2
   },
   "file_extension": ".py",
   "mimetype": "text/x-python",
   "name": "python",
   "nbconvert_exporter": "python",
   "pygments_lexer": "ipython2",
   "version": "2.7.12"
  }
 },
 "nbformat": 4,
 "nbformat_minor": 1
}
