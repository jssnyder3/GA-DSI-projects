{
 "cells": [
  {
   "cell_type": "markdown",
   "metadata": {},
   "source": [
    "## Maximum Likelihood Lab\n",
    "\n",
    "In this lab we will look at the DMV waiting time example from the class. Let's look at the following situation:\n",
    "\n",
    "You want to find out how long your mom will have to wait at the DMV. In order to determine the waiting time you stayed at the DMV for a while and measured the waiting time for the customers. You were playing on your phone and so you missed to to measure the exact time. Thus you started to collect the waiting times in the form (5, 0.3), which in this example means that the waiting time was somewhere between 5-0.3 and 5+0.3 minutes. \n",
    "\n",
    "Now that you have your data you want to build a model. You now assume that all waiting times $W_i$ are distributed with the same **but unknown** gamma distribution with **fixed but unknown** hyperparameters $\\alpha$ and $\\beta$ and that all waiting times $W_i$ are independent and thus\n",
    "\n",
    "$$P_{(\\beta, \\alpha)}(W_1 \\in A_1, W_2 \\in A_2, ..., W_N \\in A_N) = \\Gamma_{(\\beta, \\alpha)}(W_1 \\in A_1)\\Gamma_{(\\beta, \\alpha)}(W_2 \\in A_2)... \\Gamma_{(\\beta, \\alpha)}(W_N \\in A_N)$$\n",
    "\n",
    "Please take a moment and think about the 3 major assumptions:\n",
    "1. The waiting times are independet.\n",
    "2. All waiting times are distributed from the same type of distribution.\n",
    "3. We are certain that the hyperparameters take one specific value. We just don't know which one it is. \n",
    "\n",
    "**Exercise 1:**\n",
    "\n",
    "Create a lambda expression for the Gamma distribution. You will need the gamma function $\\Gamma$ which is available in the scipy.special package. Plot the Gamma distribution for 4 different combinations of $\\beta$ and $\\alpha$ onto the same graph. Describe how the hyperparameters $\\beta$ and $\\alpha$ change the shape of the distribution."
   ]
  },
  {
   "cell_type": "markdown",
   "metadata": {},
   "source": [
    "**Exercise 2:**\n",
    "\n",
    "The data points that you collected are in the below list denoted by waiting_time. Each of the tuples in the list represents an intervall of time that you measured. You can now use the below data points to calculate the probability of the measured intervalls as a function of $(\\beta, \\alpha)$\n",
    "\n",
    "$$(\\beta, \\alpha) \\to P_{(\\beta, \\alpha)}( W_1 \\in [3.8,4.2), W_2 \\in [3.5, 4.5), W_3 \\in [4.1, 5.9), ...)$$\n",
    "\n",
    "Create a lambda expression that maps every pair $(\\beta, \\alpha)$ onto the probability and craete a 3D plot. You will need to use numpy.vectorize to vectorize the lambda expression. Numpy converts the lambda expression so that it can take numpy arrays as arguments. Look into last weeks notes to find out how to plot a 3D plot."
   ]
  },
  {
   "cell_type": "code",
   "execution_count": 112,
   "metadata": {
    "collapsed": false
   },
   "outputs": [],
   "source": [
    "waiting_time =[(4,0.2),(4,0.5), (5,0.9), (6,0.2), (4,0.2), (6,0.2), (5,0.6), (15,0.6)]"
   ]
  },
  {
   "cell_type": "markdown",
   "metadata": {},
   "source": [
    "**Exercise 3:**\n",
    "\n",
    "Each of the points $(\\beta, \\alpha)$ represents a model that we could pick and the plot shows us how likely the measured waiting times are if we would have fixed $(\\beta, \\alpha)$ at the respective values. We now have to make a decision which pair $(\\beta, \\alpha)$ we want to pick. One way to approach this decision problem is to pick the $(\\beta, \\alpha)$ pair which produces the highest probability for the measured event. This approach is called **Maximum Likelihood**. \n",
    "\n",
    "Use the minimize function in the scipy.optimize package to find the maximum likelihood. You will have to change the function so that the maximum becomes the minimum. Additionally, minimize only takes functions of one variable. You will have to change your function so that it takes a list as an argument and not two numbers. minimize looks for a minimum around an initial point x0. You will have to provide such a point. Use method = 'Nelder-Mead'. \n",
    "\n",
    "See below for an example of how to use minimize."
   ]
  },
  {
   "cell_type": "code",
   "execution_count": 117,
   "metadata": {
    "collapsed": false
   },
   "outputs": [
    {
     "data": {
      "text/plain": [
       "array([  3.81643776e-05,   2.85728351e-05])"
      ]
     },
     "execution_count": 117,
     "metadata": {},
     "output_type": "execute_result"
    }
   ],
   "source": [
    "funx = lambda x: x[0]**2 + x[1]**2\n",
    "x0 = [9,6]\n",
    "funxMin = minimize(funx, x0, method = 'Nelder-Mead')\n",
    "funxMin.x"
   ]
  },
  {
   "cell_type": "markdown",
   "metadata": {},
   "source": [
    "**Exercise 4:**\n",
    "\n",
    "Now that we have our maximum likelihood solution we can take a step back and think about what we just did. \n",
    "\n",
    "* Take a look at the plot and remind yourself that minimize looks for a solution around an initial point x0. What's the problem with that?\n",
    "* We assumed that the outcome that we measured is the outcome with the hightest probability. Take a look at the actual probability of getting what we measured under the assumption of the model. How likely was it? \n",
    "* Take a moment and check out what outliers are. How do those data points effect the solution in light of the above point and why?\n",
    "* Can you think of a way to make a better decision?"
   ]
  },
  {
   "cell_type": "markdown",
   "metadata": {},
   "source": [
    "**Exercise 5:**\n",
    "\n",
    "Plot the distribution of the maximum likelihood solution together with a normed histogram of the waiting times. What can you observe and how does this relate to Exercise 4?"
   ]
  },
  {
   "cell_type": "markdown",
   "metadata": {},
   "source": [
    "**Exercise 6:**\n",
    "\n",
    "Calculate the Mean and the Variance of the maximum likelihood distribution using integration. Remember: The Mean of the distribution $E[W]$ is the expected waiting time and the square root of the variance $\\sqrt{Var[W]}$ is the expected range of waiting times."
   ]
  },
  {
   "cell_type": "markdown",
   "metadata": {},
   "source": [
    "**Exercise 7:**\n",
    "\n",
    "Use the minimize function to calculate the waiting time with the hightest probability and its respective probability. Compare your result to the result of Exercise 6. Does this make you think about a better decision methedology for $(\\beta, \\alpha)$?"
   ]
  }
 ],
 "metadata": {
  "anaconda-cloud": {},
  "kernelspec": {
   "display_name": "Python [default]",
   "language": "python",
   "name": "python2"
  },
  "language_info": {
   "codemirror_mode": {
    "name": "ipython",
    "version": 2
   },
   "file_extension": ".py",
   "mimetype": "text/x-python",
   "name": "python",
   "nbconvert_exporter": "python",
   "pygments_lexer": "ipython2",
   "version": "2.7.12"
  }
 },
 "nbformat": 4,
 "nbformat_minor": 1
}
