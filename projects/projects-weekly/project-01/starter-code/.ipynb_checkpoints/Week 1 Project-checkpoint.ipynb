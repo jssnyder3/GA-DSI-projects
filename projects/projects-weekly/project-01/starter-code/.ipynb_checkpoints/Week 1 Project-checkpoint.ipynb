{
 "cells": [
  {
   "cell_type": "markdown",
   "metadata": {
    "nbpresent": {
     "id": "a9c7065b-bf64-4848-9d14-1fdee09b617c"
    }
   },
   "source": [
    "# Project 1\n",
    "\n",
    "## Step 1: Open the `sat_scores.csv` file. Investigate the data, and answer the questions below.\n"
   ]
  },
  {
   "cell_type": "markdown",
   "metadata": {
    "nbpresent": {
     "id": "e6b7f3cf-6ccb-4e86-8a12-4b8ed6f5124a"
    }
   },
   "source": [
    "##### 1. What does the data describe?"
   ]
  },
  {
   "cell_type": "markdown",
   "metadata": {
    "nbpresent": {
     "id": "3648f74d-a528-4704-9f10-85520cf8f2d8"
    }
   },
   "source": [
    "The data stored in sat_scores.csv lists the mean Verbal and Math SAT scores for each state (and District of Columbia) in the United States, in addition to the participation rate for each state. Data is from 2001."
   ]
  },
  {
   "cell_type": "markdown",
   "metadata": {
    "nbpresent": {
     "id": "96cc372d-508d-41c9-b0c2-f8a38880b689"
    }
   },
   "source": [
    "##### 2. Does the data look complete? Are there any obvious issues with the observations?"
   ]
  },
  {
   "cell_type": "markdown",
   "metadata": {
    "nbpresent": {
     "id": "e77bbfaa-7306-4a6c-afd2-b3d77c2d628c"
    }
   },
   "source": [
    "Yes, the data looks complete. It is unclear as to how the data along the row \"All\" is calculated, but I do not see any apparent issues with the observations for each state/commonwealth/district. Since we will ultimately want to look at the relationship across different states as opposed to comparing states with 'overall' country performance, I will remove \"All\" and its associated values."
   ]
  },
  {
   "cell_type": "markdown",
   "metadata": {
    "nbpresent": {
     "id": "cc899590-f284-405c-8ed0-8ad6af94de23"
    }
   },
   "source": [
    "##### 3. Create a data dictionary for the dataset."
   ]
  },
  {
   "cell_type": "markdown",
   "metadata": {
    "collapsed": true,
    "nbpresent": {
     "id": "7c4c4065-0381-486b-8ce3-55d460dc4b92"
    }
   },
   "source": [
    "### Column 1: State\n",
    "*Data Type*: String\n",
    "\n",
    "*Summary*: Acronym for each state, including District of Columbia (DC) and \"All\" states.\n",
    "\n",
    "### Column 2: Rate\n",
    "*Data Type*: String\n",
    "\n",
    "*Summary*: Rate of student participation in taking the SAT test, for each state. Integer numbers are out of 100 - for example, a rate of \"60\" is 60/100, or 60% participation.\n",
    "\n",
    "### Column 3: Verbal\n",
    "*Data Type*: String\n",
    "\n",
    "*Summary*: Mean score on the Verbal section of the SAT test, for each state.\n",
    "\n",
    "### Column 4: Math\n",
    "*Data Type*: String\n",
    "\n",
    "*Summary*: Mean score on the Math section of the SAT test, for each state.\n"
   ]
  },
  {
   "cell_type": "markdown",
   "metadata": {
    "nbpresent": {
     "id": "96fb9d00-2abe-4f98-918f-c87e574a1047"
    }
   },
   "source": [
    "## Step 2: Load the data."
   ]
  },
  {
   "cell_type": "markdown",
   "metadata": {
    "nbpresent": {
     "id": "06974cff-ffad-46dd-be93-6b73c72243b8"
    }
   },
   "source": [
    "##### 4. Load the data into a list of lists"
   ]
  },
  {
   "cell_type": "code",
   "execution_count": 1,
   "metadata": {
    "collapsed": false,
    "nbpresent": {
     "id": "cb766685-4d8f-4667-b073-c7fc8e9e40b2"
    }
   },
   "outputs": [],
   "source": [
    "# Open the file, putting each row's contents in a list. Our list will contain lists of each row.\n",
    "with open('/Users/johnsnyder/GA-DSI-working/DSI-NYC-3/projects/projects-weekly/project-01/assets/sat_scores.csv', 'rU') as master_file:\n",
    "    all_scores = [row.strip().split(',') for row in master_file] # Split up the csv file rows, splitting by commas\n",
    "    \n"
   ]
  },
  {
   "cell_type": "markdown",
   "metadata": {
    "nbpresent": {
     "id": "4c93416e-e0e1-4489-a748-4e7f741eeb49"
    }
   },
   "source": [
    "##### 5. Print the data"
   ]
  },
  {
   "cell_type": "code",
   "execution_count": 2,
   "metadata": {
    "collapsed": false,
    "nbpresent": {
     "id": "aba92462-3620-4831-bdee-da14baf87d7f"
    }
   },
   "outputs": [
    {
     "data": {
      "text/plain": [
       "[['State', 'Rate', 'Verbal', 'Math'],\n",
       " ['CT', '82', '509', '510'],\n",
       " ['NJ', '81', '499', '513'],\n",
       " ['MA', '79', '511', '515'],\n",
       " ['NY', '77', '495', '505'],\n",
       " ['NH', '72', '520', '516'],\n",
       " ['RI', '71', '501', '499'],\n",
       " ['PA', '71', '500', '499'],\n",
       " ['VT', '69', '511', '506'],\n",
       " ['ME', '69', '506', '500'],\n",
       " ['VA', '68', '510', '501'],\n",
       " ['DE', '67', '501', '499'],\n",
       " ['MD', '65', '508', '510'],\n",
       " ['NC', '65', '493', '499'],\n",
       " ['GA', '63', '491', '489'],\n",
       " ['IN', '60', '499', '501'],\n",
       " ['SC', '57', '486', '488'],\n",
       " ['DC', '56', '482', '474'],\n",
       " ['OR', '55', '526', '526'],\n",
       " ['FL', '54', '498', '499'],\n",
       " ['WA', '53', '527', '527'],\n",
       " ['TX', '53', '493', '499'],\n",
       " ['HI', '52', '485', '515'],\n",
       " ['AK', '51', '514', '510'],\n",
       " ['CA', '51', '498', '517'],\n",
       " ['AZ', '34', '523', '525'],\n",
       " ['NV', '33', '509', '515'],\n",
       " ['CO', '31', '539', '542'],\n",
       " ['OH', '26', '534', '439'],\n",
       " ['MT', '23', '539', '539'],\n",
       " ['WV', '18', '527', '512'],\n",
       " ['ID', '17', '543', '542'],\n",
       " ['TN', '13', '562', '553'],\n",
       " ['NM', '13', '551', '542'],\n",
       " ['IL', '12', '576', '589'],\n",
       " ['KY', '12', '550', '550'],\n",
       " ['WY', '11', '547', '545'],\n",
       " ['MI', '11', '561', '572'],\n",
       " ['MN', '9', '580', '589'],\n",
       " ['KS', '9', '577', '580'],\n",
       " ['AL', '9', '559', '554'],\n",
       " ['NE', '8', '562', '568'],\n",
       " ['OK', '8', '567', '561'],\n",
       " ['MO', '8', '577', '577'],\n",
       " ['LA', '7', '564', '562'],\n",
       " ['WI', '6', '584', '596'],\n",
       " ['AR', '6', '562', '550'],\n",
       " ['UT', '5', '575', '570'],\n",
       " ['IA', '5', '593', '603'],\n",
       " ['SD', '4', '577', '582'],\n",
       " ['ND', '4', '592', '599'],\n",
       " ['MS', '4', '566', '551'],\n",
       " ['All', '45', '506', '514']]"
      ]
     },
     "execution_count": 2,
     "metadata": {},
     "output_type": "execute_result"
    }
   ],
   "source": [
    "all_scores # Print our list of lists."
   ]
  },
  {
   "cell_type": "markdown",
   "metadata": {
    "collapsed": true,
    "nbpresent": {
     "id": "aae1acfb-5bcc-4f8d-957b-3615eeff4989"
    }
   },
   "source": [
    "##### 6. Extract a list of the labels from the data, and remove them from the data."
   ]
  },
  {
   "cell_type": "code",
   "execution_count": 3,
   "metadata": {
    "collapsed": false,
    "nbpresent": {
     "id": "3512d072-02dd-474a-a12d-5b4df2c1f26f"
    }
   },
   "outputs": [],
   "source": [
    "data_labels = all_scores[0]   # Assigns a list of the data file's column headers to data_labels\n",
    "\n",
    "# Creates a new list 'sat_scores' and omits the data labels from the data list and the final 'All' row\n",
    "sat_scores = all_scores[1:(len(all_scores)-1)]\n",
    "\n",
    "# In order to make things simpler later on, this function to returns the index of each header\n",
    "def index(x):\n",
    "    return data_labels.index(x)\n"
   ]
  },
  {
   "cell_type": "markdown",
   "metadata": {
    "nbpresent": {
     "id": "269eee81-6c0d-4462-a2c3-69be59770e17"
    }
   },
   "source": [
    "##### 7. Create a list of State names extracted from the data. (Hint: use the list of labels to index on the State column)"
   ]
  },
  {
   "cell_type": "code",
   "execution_count": 4,
   "metadata": {
    "collapsed": false,
    "nbpresent": {
     "id": "5bd7dc2e-a025-4741-b7c6-9a538d534045"
    }
   },
   "outputs": [
    {
     "data": {
      "text/plain": [
       "['CT',\n",
       " 'NJ',\n",
       " 'MA',\n",
       " 'NY',\n",
       " 'NH',\n",
       " 'RI',\n",
       " 'PA',\n",
       " 'VT',\n",
       " 'ME',\n",
       " 'VA',\n",
       " 'DE',\n",
       " 'MD',\n",
       " 'NC',\n",
       " 'GA',\n",
       " 'IN',\n",
       " 'SC',\n",
       " 'DC',\n",
       " 'OR',\n",
       " 'FL',\n",
       " 'WA',\n",
       " 'TX',\n",
       " 'HI',\n",
       " 'AK',\n",
       " 'CA',\n",
       " 'AZ',\n",
       " 'NV',\n",
       " 'CO',\n",
       " 'OH',\n",
       " 'MT',\n",
       " 'WV',\n",
       " 'ID',\n",
       " 'TN',\n",
       " 'NM',\n",
       " 'IL',\n",
       " 'KY',\n",
       " 'WY',\n",
       " 'MI',\n",
       " 'MN',\n",
       " 'KS',\n",
       " 'AL',\n",
       " 'NE',\n",
       " 'OK',\n",
       " 'MO',\n",
       " 'LA',\n",
       " 'WI',\n",
       " 'AR',\n",
       " 'UT',\n",
       " 'IA',\n",
       " 'SD',\n",
       " 'ND',\n",
       " 'MS']"
      ]
     },
     "execution_count": 4,
     "metadata": {},
     "output_type": "execute_result"
    }
   ],
   "source": [
    "#For each list in our list of lists, take the zeroth index (i.e., state name)\n",
    "states = [sat_scores[i][0] for i in range(len(sat_scores))]\n",
    "\n",
    "states"
   ]
  },
  {
   "cell_type": "markdown",
   "metadata": {
    "nbpresent": {
     "id": "5feaffc4-58da-4c41-a387-c252f505f644"
    }
   },
   "source": [
    "##### 8. Print the types of each column"
   ]
  },
  {
   "cell_type": "code",
   "execution_count": 5,
   "metadata": {
    "collapsed": false,
    "nbpresent": {
     "id": "633fc9ce-41a1-44db-b51d-fd5d1d3229c0"
    }
   },
   "outputs": [
    {
     "name": "stdout",
     "output_type": "stream",
     "text": [
      "State data type: <type 'str'>\n",
      "Rate data type: <type 'str'>\n",
      "Verbal data type: <type 'str'>\n",
      "Math data type: <type 'str'>\n"
     ]
    }
   ],
   "source": [
    "# To print the types of each column, let's look at the type of each component of the first list of values\n",
    "# in our sat_scores list.\n",
    "state_col_type = type(sat_scores[0][(data_labels.index('State'))])   # Takes the type of values in the State column\n",
    "rate_col_type = type(sat_scores[0][(data_labels.index('Rate'))])     # Takes the type of values in the Rate column\n",
    "verbal_col_type = type(sat_scores[0][(data_labels.index('Verbal'))]) # Takes the type of values in the Verbal column\n",
    "math_col_type =type(sat_scores[0][(data_labels.index('Math'))])      # Takes the type of values in the Math column\n",
    "\n",
    "# Print away!\n",
    "print \"State data type: {}\".format(state_col_type)\n",
    "print \"Rate data type: {}\".format(rate_col_type)\n",
    "print \"Verbal data type: {}\".format(verbal_col_type)\n",
    "print \"Math data type: {}\".format(math_col_type)"
   ]
  },
  {
   "cell_type": "markdown",
   "metadata": {
    "nbpresent": {
     "id": "27074dc3-0037-48b8-8fa3-16dec0620e72"
    }
   },
   "source": [
    "##### 9. Do any types need to be reassigned? If so, go ahead and do it."
   ]
  },
  {
   "cell_type": "code",
   "execution_count": 6,
   "metadata": {
    "collapsed": false,
    "nbpresent": {
     "id": "a7069c30-e38d-4e6a-8b3f-da078d17a840"
    }
   },
   "outputs": [
    {
     "data": {
      "text/plain": [
       "[['CT', 82, 509, 510],\n",
       " ['NJ', 81, 499, 513],\n",
       " ['MA', 79, 511, 515],\n",
       " ['NY', 77, 495, 505],\n",
       " ['NH', 72, 520, 516],\n",
       " ['RI', 71, 501, 499],\n",
       " ['PA', 71, 500, 499],\n",
       " ['VT', 69, 511, 506],\n",
       " ['ME', 69, 506, 500],\n",
       " ['VA', 68, 510, 501],\n",
       " ['DE', 67, 501, 499],\n",
       " ['MD', 65, 508, 510],\n",
       " ['NC', 65, 493, 499],\n",
       " ['GA', 63, 491, 489],\n",
       " ['IN', 60, 499, 501],\n",
       " ['SC', 57, 486, 488],\n",
       " ['DC', 56, 482, 474],\n",
       " ['OR', 55, 526, 526],\n",
       " ['FL', 54, 498, 499],\n",
       " ['WA', 53, 527, 527],\n",
       " ['TX', 53, 493, 499],\n",
       " ['HI', 52, 485, 515],\n",
       " ['AK', 51, 514, 510],\n",
       " ['CA', 51, 498, 517],\n",
       " ['AZ', 34, 523, 525],\n",
       " ['NV', 33, 509, 515],\n",
       " ['CO', 31, 539, 542],\n",
       " ['OH', 26, 534, 439],\n",
       " ['MT', 23, 539, 539],\n",
       " ['WV', 18, 527, 512],\n",
       " ['ID', 17, 543, 542],\n",
       " ['TN', 13, 562, 553],\n",
       " ['NM', 13, 551, 542],\n",
       " ['IL', 12, 576, 589],\n",
       " ['KY', 12, 550, 550],\n",
       " ['WY', 11, 547, 545],\n",
       " ['MI', 11, 561, 572],\n",
       " ['MN', 9, 580, 589],\n",
       " ['KS', 9, 577, 580],\n",
       " ['AL', 9, 559, 554],\n",
       " ['NE', 8, 562, 568],\n",
       " ['OK', 8, 567, 561],\n",
       " ['MO', 8, 577, 577],\n",
       " ['LA', 7, 564, 562],\n",
       " ['WI', 6, 584, 596],\n",
       " ['AR', 6, 562, 550],\n",
       " ['UT', 5, 575, 570],\n",
       " ['IA', 5, 593, 603],\n",
       " ['SD', 4, 577, 582],\n",
       " ['ND', 4, 592, 599],\n",
       " ['MS', 4, 566, 551]]"
      ]
     },
     "execution_count": 6,
     "metadata": {},
     "output_type": "execute_result"
    }
   ],
   "source": [
    "# It looks like three of our columns - rate, verbal, and math - need to be reassigned as integers!\n",
    "# To do this, I created a function that assigns appropriate data types to each column.\n",
    "# This is a bit of a 'brute force' way of doing this, but it's effective for the problem's current needs.\n",
    "\n",
    "def convert(row):\n",
    "    return [row[0], int(row[1]), int(row[2]), int(row[3])]  # We know there are 4 columns, the last three need reassignment\n",
    "\n",
    "sat_scores_converted = [convert(row) for row in sat_scores]\n",
    "sat_scores_converted"
   ]
  },
  {
   "cell_type": "markdown",
   "metadata": {
    "nbpresent": {
     "id": "efc0f67d-5ba2-4f34-bade-3165ce98a677"
    }
   },
   "source": [
    "##### 10. Create a dictionary for each column mapping the State to its respective value for that column. "
   ]
  },
  {
   "cell_type": "code",
   "execution_count": 7,
   "metadata": {
    "collapsed": false,
    "nbpresent": {
     "id": "4c56bbea-b9b5-4a6f-8d78-4fdd72cd4f23"
    }
   },
   "outputs": [
    {
     "name": "stdout",
     "output_type": "stream",
     "text": [
      "{'WA': 53, 'DE': 67, 'DC': 56, 'WI': 6, 'WV': 18, 'HI': 52, 'FL': 54, 'WY': 11, 'NH': 72, 'NJ': 81, 'NM': 13, 'TX': 53, 'LA': 7, 'NC': 65, 'ND': 4, 'NE': 8, 'TN': 13, 'NY': 77, 'PA': 71, 'RI': 71, 'NV': 33, 'VA': 68, 'CO': 31, 'AK': 51, 'AL': 9, 'AR': 6, 'VT': 69, 'IL': 12, 'GA': 63, 'IN': 60, 'IA': 5, 'OK': 8, 'AZ': 34, 'CA': 51, 'ID': 17, 'CT': 82, 'ME': 69, 'MD': 65, 'MA': 79, 'OH': 26, 'UT': 5, 'MO': 8, 'MN': 9, 'MI': 11, 'KS': 9, 'MT': 23, 'MS': 4, 'SC': 57, 'KY': 12, 'OR': 55, 'SD': 4}\n",
      "{'WA': 527, 'DE': 501, 'DC': 482, 'WI': 584, 'WV': 527, 'HI': 485, 'FL': 498, 'WY': 547, 'NH': 520, 'NJ': 499, 'NM': 551, 'TX': 493, 'LA': 564, 'NC': 493, 'ND': 592, 'NE': 562, 'TN': 562, 'NY': 495, 'PA': 500, 'RI': 501, 'NV': 509, 'VA': 510, 'CO': 539, 'AK': 514, 'AL': 559, 'AR': 562, 'VT': 511, 'IL': 576, 'GA': 491, 'IN': 499, 'IA': 593, 'OK': 567, 'AZ': 523, 'CA': 498, 'ID': 543, 'CT': 509, 'ME': 506, 'MD': 508, 'MA': 511, 'OH': 534, 'UT': 575, 'MO': 577, 'MN': 580, 'MI': 561, 'KS': 577, 'MT': 539, 'MS': 566, 'SC': 486, 'KY': 550, 'OR': 526, 'SD': 577}\n",
      "{'WA': 527, 'DE': 499, 'DC': 474, 'WI': 596, 'WV': 512, 'HI': 515, 'FL': 499, 'WY': 545, 'NH': 516, 'NJ': 513, 'NM': 542, 'TX': 499, 'LA': 562, 'NC': 499, 'ND': 599, 'NE': 568, 'TN': 553, 'NY': 505, 'PA': 499, 'RI': 499, 'NV': 515, 'VA': 501, 'CO': 542, 'AK': 510, 'AL': 554, 'AR': 550, 'VT': 506, 'IL': 589, 'GA': 489, 'IN': 501, 'IA': 603, 'OK': 561, 'AZ': 525, 'CA': 517, 'ID': 542, 'CT': 510, 'ME': 500, 'MD': 510, 'MA': 515, 'OH': 439, 'UT': 570, 'MO': 577, 'MN': 589, 'MI': 572, 'KS': 580, 'MT': 539, 'MS': 551, 'SC': 488, 'KY': 550, 'OR': 526, 'SD': 582}\n"
     ]
    }
   ],
   "source": [
    "# In order to create a dictionary for each column mapping the state to its respective value for that column,\n",
    "# I've created and called a function that creates a dictionary for each column.\n",
    "def make_dict(indx):\n",
    "    return {row[0]: row[index(indx)] for row in sat_scores_converted}\n",
    "\n",
    "# Call the function for the three columns\n",
    "state_rate = make_dict('Rate')\n",
    "state_verbal = make_dict('Verbal')\n",
    "state_math = make_dict('Math')\n",
    "\n",
    "print state_rate\n",
    "print state_verbal\n",
    "print state_math"
   ]
  },
  {
   "cell_type": "markdown",
   "metadata": {
    "nbpresent": {
     "id": "be44b401-c3dc-48be-8665-4f10dd3ab78d"
    }
   },
   "source": [
    "##### 11. Create a dictionary with the values for each of the numeric columns"
   ]
  },
  {
   "cell_type": "code",
   "execution_count": 8,
   "metadata": {
    "collapsed": false,
    "nbpresent": {
     "id": "1241aeeb-21c0-4532-ac7b-9878291c730a"
    }
   },
   "outputs": [
    {
     "name": "stdout",
     "output_type": "stream",
     "text": [
      "{'Math': [510, 513, 515, 505, 516, 499, 499, 506, 500, 501, 499, 510, 499, 489, 501, 488, 474, 526, 499, 527, 499, 515, 510, 517, 525, 515, 542, 439, 539, 512, 542, 553, 542, 589, 550, 545, 572, 589, 580, 554, 568, 561, 577, 562, 596, 550, 570, 603, 582, 599, 551], 'State': ['CT', 'NJ', 'MA', 'NY', 'NH', 'RI', 'PA', 'VT', 'ME', 'VA', 'DE', 'MD', 'NC', 'GA', 'IN', 'SC', 'DC', 'OR', 'FL', 'WA', 'TX', 'HI', 'AK', 'CA', 'AZ', 'NV', 'CO', 'OH', 'MT', 'WV', 'ID', 'TN', 'NM', 'IL', 'KY', 'WY', 'MI', 'MN', 'KS', 'AL', 'NE', 'OK', 'MO', 'LA', 'WI', 'AR', 'UT', 'IA', 'SD', 'ND', 'MS'], 'Rate': [82, 81, 79, 77, 72, 71, 71, 69, 69, 68, 67, 65, 65, 63, 60, 57, 56, 55, 54, 53, 53, 52, 51, 51, 34, 33, 31, 26, 23, 18, 17, 13, 13, 12, 12, 11, 11, 9, 9, 9, 8, 8, 8, 7, 6, 6, 5, 5, 4, 4, 4], 'Verbal': [509, 499, 511, 495, 520, 501, 500, 511, 506, 510, 501, 508, 493, 491, 499, 486, 482, 526, 498, 527, 493, 485, 514, 498, 523, 509, 539, 534, 539, 527, 543, 562, 551, 576, 550, 547, 561, 580, 577, 559, 562, 567, 577, 564, 584, 562, 575, 593, 577, 592, 566]}\n"
     ]
    }
   ],
   "source": [
    "# Create a dictionary with values for each of the numeric columns using list comprehension.\n",
    "# 'dl' represents the values in the data_labels list, which will become the dictionary keys.\n",
    "# 'x' represents the values in the sat_scores_converted list, eventually the dictionary values.\n",
    "scores_overview = {dl :[x[data_labels.index(dl)] for x in sat_scores_converted] for dl in data_labels}\n",
    "print scores_overview\n"
   ]
  },
  {
   "cell_type": "markdown",
   "metadata": {
    "nbpresent": {
     "id": "68339951-6fff-472d-9991-b05a68ec8363"
    }
   },
   "source": [
    "## Step 3: Describe the data"
   ]
  },
  {
   "cell_type": "markdown",
   "metadata": {
    "nbpresent": {
     "id": "82cd8e9c-42f7-476e-9305-048568cce56a"
    }
   },
   "source": [
    "##### 12. Print the min and max of each column"
   ]
  },
  {
   "cell_type": "code",
   "execution_count": 9,
   "metadata": {
    "collapsed": false,
    "nbpresent": {
     "id": "03fc707b-aa7a-4767-8b3a-5248022dafc5"
    },
    "scrolled": true
   },
   "outputs": [
    {
     "name": "stdout",
     "output_type": "stream",
     "text": [
      "Minimum Participation Rate: 4 \n",
      "Maximum Participation Rate: 82\n",
      "\n",
      "Minimum Verbal Score: 482 \n",
      "Maximum Verbal Score: 593\n",
      "\n",
      "Minimum Math Score: 439 \n",
      "Maximum Math Score: 603\n"
     ]
    }
   ],
   "source": [
    "# Import numpy in order to access useful basic statistical functions\n",
    "import numpy as np\n",
    "\n",
    "# Use numpy min and max functions to find the minimum and maximum rate, verbal, and math values. Then, print!\n",
    "print \"Minimum Participation Rate: {0} \\nMaximum Participation Rate: {1}\\n\".\\\n",
    "format(np.min(scores_overview.get('Rate')),np.max(scores_overview.get('Rate')))\n",
    "print \"Minimum Verbal Score: {0} \\nMaximum Verbal Score: {1}\\n\".\\\n",
    "format(np.min(scores_overview.get('Verbal')),np.max(scores_overview.get('Verbal')))\n",
    "print \"Minimum Math Score: {0} \\nMaximum Math Score: {1}\".\\\n",
    "format(np.min(scores_overview.get('Math')),np.max(scores_overview.get('Math')))\n"
   ]
  },
  {
   "cell_type": "markdown",
   "metadata": {
    "nbpresent": {
     "id": "3ef9d285-f8b4-4fee-b641-1a74ab23fb9d"
    }
   },
   "source": [
    "##### 13. Write a function using only list comprehensions, no loops, to compute Standard Deviation. Print the Standard Deviation of each numeric column."
   ]
  },
  {
   "cell_type": "code",
   "execution_count": 10,
   "metadata": {
    "collapsed": false,
    "nbpresent": {
     "id": "9f50709a-2982-4edb-bf0b-a7bc6448c24c"
    }
   },
   "outputs": [
    {
     "name": "stdout",
     "output_type": "stream",
     "text": [
      "Standard deviation for rate is 27.276363394.\n",
      "Standard deviation for verbal is 33.0302891298.\n",
      "Standard deviation for math is 35.9304884464.\n"
     ]
    }
   ],
   "source": [
    "# Create a function, std_dev, that takes the standard deviation without using numpy.\n",
    "# Function takes dictionary name and dictionary key, respectively, as inputs.\n",
    "\n",
    "def std_dev(dict_name, k):\n",
    "    values = dict_name.get(k)  # List of values from dictionary key\n",
    "    \n",
    "    #Calculate and return standard deviation\n",
    "    standard_dev = (sum([(x - (sum(values)/len(values)))**2 for x in values])/len(values))**0.5\n",
    "    return standard_dev\n",
    "\n",
    "# Print our results\n",
    "print \"Standard deviation for rate is {}.\".format(std_dev(scores_overview,\"Rate\"))\n",
    "print \"Standard deviation for verbal is {}.\".format(std_dev(scores_overview,\"Verbal\"))\n",
    "print \"Standard deviation for math is {}.\".format(std_dev(scores_overview,\"Math\"))"
   ]
  },
  {
   "cell_type": "markdown",
   "metadata": {
    "nbpresent": {
     "id": "21f200c1-f78c-4205-b74d-553f56fe7546"
    }
   },
   "source": [
    "## Step 4: Visualize the data"
   ]
  },
  {
   "cell_type": "markdown",
   "metadata": {
    "collapsed": true,
    "nbpresent": {
     "id": "a121c812-b2bd-4937-b58f-e83f28020485"
    }
   },
   "source": [
    "##### 14. Using MatPlotLib and PyPlot, plot the distribution of the Rate using histograms."
   ]
  },
  {
   "cell_type": "code",
   "execution_count": 11,
   "metadata": {
    "collapsed": false,
    "nbpresent": {
     "id": "e7017f5e-4344-4884-87a6-376935d6706f"
    }
   },
   "outputs": [
    {
     "name": "stderr",
     "output_type": "stream",
     "text": [
      "/Users/johnsnyder/anaconda/lib/python2.7/site-packages/matplotlib/font_manager.py:273: UserWarning: Matplotlib is building the font cache using fc-list. This may take a moment.\n",
      "  warnings.warn('Matplotlib is building the font cache using fc-list. This may take a moment.')\n"
     ]
    },
    {
     "data": {
      "text/plain": [
       "<matplotlib.text.Text at 0x117119710>"
      ]
     },
     "execution_count": 11,
     "metadata": {},
     "output_type": "execute_result"
    },
    {
     "data": {
      "image/png": "[encoded data removed]",
      "text/plain": [
       "<matplotlib.figure.Figure at 0x114c8f790>"
      ]
     },
     "metadata": {},
     "output_type": "display_data"
    }
   ],
   "source": [
    "# Numeric and statistics packages:\n",
    "import numpy as np\n",
    "import scipy.stats as stats\n",
    "\n",
    "# Pandas handles dataset loading and manipulation:\n",
    "import pandas as pd\n",
    "\n",
    "# import the plotting functions:\n",
    "import matplotlib.pyplot as plt\n",
    "import seaborn as sns\n",
    "\n",
    "\n",
    "# Setup matplotlib to display in notebook:\n",
    "%matplotlib inline\n",
    "\n",
    "fig, ax = plt.subplots()\n",
    "ax.set_ylim(0, 17)      #Set the range of the y-axis\n",
    "ax.set_xlim(0,100)      #Set the range of the x-axis\n",
    "\n",
    "plt.hist(scores_overview.get('Rate'), bins = np.arange(0, 100, 10), color = 'green')  #Plot the chart, set histogram bins to 10, set color.\n",
    "plt.title(\"Rate Distribution\", fontsize = 18)   #Set the title and font size\n",
    "plt.xlabel(\"Rate (%)\")                          #Label the x-axis\n",
    "plt.ylabel(\"Frequency\")                         #Label the y-axis\n"
   ]
  },
  {
   "cell_type": "markdown",
   "metadata": {
    "nbpresent": {
     "id": "f962090a-a842-4a7f-ba00-e1fba395caaf"
    }
   },
   "source": [
    "##### 15. Plot the Math distribution"
   ]
  },
  {
   "cell_type": "code",
   "execution_count": 12,
   "metadata": {
    "collapsed": false,
    "nbpresent": {
     "id": "1c7aa91c-f6bf-4a13-ba17-539aafb7581e"
    }
   },
   "outputs": [
    {
     "data": {
      "text/plain": [
       "<matplotlib.text.Text at 0x1177b2190>"
      ]
     },
     "execution_count": 12,
     "metadata": {},
     "output_type": "execute_result"
    },
    {
     "data": {
      "image/png": "[encoded data removed]",
      "text/plain": [
       "<matplotlib.figure.Figure at 0x107df5f90>"
      ]
     },
     "metadata": {},
     "output_type": "display_data"
    }
   ],
   "source": [
    "fig, ax = plt.subplots()\n",
    "ax.set_ylim(0, 15)     #Set the range of the y-axis\n",
    "ax.set_xlim(400,630)   #Set the range of the x-axis\n",
    "\n",
    "plt.hist(scores_overview.get('Math'), bins = np.arange(400, 630, 10), color = 'green')  #Plot the chart, set histogram bins to 10, set color.\n",
    "plt.title(\"Math Distribution\", fontsize = 18)     #Set the title and font size\n",
    "plt.xlabel(\"Score\")                               #Label the x-axis\n",
    "plt.ylabel(\"Frequency\")                           #Label the y-axis"
   ]
  },
  {
   "cell_type": "markdown",
   "metadata": {
    "nbpresent": {
     "id": "1587c4f6-954f-4309-8661-b4969dc5bc25"
    }
   },
   "source": [
    "##### 16. Plot the Verbal distribution"
   ]
  },
  {
   "cell_type": "code",
   "execution_count": 13,
   "metadata": {
    "collapsed": false,
    "nbpresent": {
     "id": "decbf892-e41a-4448-9778-60939fee33a2"
    }
   },
   "outputs": [
    {
     "data": {
      "text/plain": [
       "<matplotlib.text.Text at 0x1179bc350>"
      ]
     },
     "execution_count": 13,
     "metadata": {},
     "output_type": "execute_result"
    },
    {
     "data": {
      "image/png": "[encoded data removed]",
      "text/plain": [
       "<matplotlib.figure.Figure at 0x117841ad0>"
      ]
     },
     "metadata": {},
     "output_type": "display_data"
    }
   ],
   "source": [
    "fig, ax = plt.subplots()\n",
    "ax.set_ylim(0, 10)     #Set the range of the y-axis\n",
    "ax.set_xlim(460,600)   #Set the range of the x-axis\n",
    "\n",
    "plt.hist(scores_overview.get('Verbal'), bins = np.arange(460, 600, 10), color = 'green')  #Plot the chart, set histogram bins to 10, set color.\n",
    "plt.title(\"Verbal Distribution\", fontsize = 18)   #Set the title and font size\n",
    "plt.xlabel(\"Score\")                               #Label the x-axis\n",
    "plt.ylabel(\"Frequency\")                           #Label the y-axis"
   ]
  },
  {
   "cell_type": "markdown",
   "metadata": {
    "nbpresent": {
     "id": "c6e105e3-0665-4bde-9f01-aae0f499908a"
    }
   },
   "source": [
    "##### 17. What is the typical assumption for data distribution?"
   ]
  },
  {
   "cell_type": "markdown",
   "metadata": {
    "collapsed": false
   },
   "source": [
    "Generally, data distributions follow a normal curve, with the peak of the curve around the mean."
   ]
  },
  {
   "cell_type": "markdown",
   "metadata": {
    "nbpresent": {
     "id": "0a5d4561-ac42-4444-9f84-7bef72a93115"
    }
   },
   "source": [
    "##### 18. Does that distribution hold true for our data?"
   ]
  },
  {
   "cell_type": "markdown",
   "metadata": {
    "collapsed": false
   },
   "source": [
    "However, our data does not quite follow a normal distribution. While the Math scores graph does have some semblance of a normal curve, it is skewed right. Verbal scores, on the other hand, does not follow a normal distribution in the slightest, with it's left and right tails being greater than the mean."
   ]
  },
  {
   "cell_type": "markdown",
   "metadata": {
    "nbpresent": {
     "id": "31bc9198-9644-4a27-93ce-685c573cdb55"
    }
   },
   "source": [
    "##### 19. Plot some scatterplots. **BONUS**: Use a PyPlot `figure` to present multiple plots at once."
   ]
  },
  {
   "cell_type": "code",
   "execution_count": 14,
   "metadata": {
    "collapsed": false,
    "nbpresent": {
     "id": "13e27c60-c19d-4973-bed0-104eafb4b754"
    }
   },
   "outputs": [
    {
     "data": {
      "text/plain": [
       "<matplotlib.collections.PathCollection at 0x117d6e550>"
      ]
     },
     "execution_count": 14,
     "metadata": {},
     "output_type": "execute_result"
    },
    {
     "data": {
      "image/png": "[encoded data removed]",
      "text/plain": [
       "<matplotlib.figure.Figure at 0x1179c5ed0>"
      ]
     },
     "metadata": {},
     "output_type": "display_data"
    }
   ],
   "source": [
    "#Create a scatter plot of math and verbal scores.\n",
    "\n",
    "fig, ax = plt.subplots()\n",
    "\n",
    "x = scores_overview.get('Verbal')    #Pull verbal scores data\n",
    "y = scores_overview.get('Math')      #Pull math scores data\n",
    "z = []\n",
    "\n",
    "ax.set_title('Math Scores vs. Verbal Scores', fontsize=18, y=1.01) # Title\n",
    "ax.set_xticks([i for i in range(400,600,10)]) #Set x-axis tick marks\n",
    "ax.set_yticks([i for i in range(400,620,20)]) #Set x-axis tick marks\n",
    "\n",
    "#Label our axes\n",
    "ax.set_xlabel('Verbal Scores')\n",
    "ax.set_ylabel('Math Scores')\n",
    "\n",
    "#Plot the data\n",
    "plt.scatter(x, y)"
   ]
  },
  {
   "cell_type": "code",
   "execution_count": 15,
   "metadata": {
    "collapsed": false
   },
   "outputs": [
    {
     "data": {
      "image/png": "[encoded data removed]",
      "text/plain": [
       "<matplotlib.figure.Figure at 0x117d09950>"
      ]
     },
     "metadata": {},
     "output_type": "display_data"
    }
   ],
   "source": [
    "# Create a scatter plot with two datasets: Participation Rate vs. Math scores and Participation Rate vs. Verbal scores\n",
    "\n",
    "fig, ax = plt.subplots()\n",
    "\n",
    "x = scores_overview.get('Rate')      # Pull participation rate data\n",
    "y = scores_overview.get('Math')      # Pull math scores data\n",
    "z = scores_overview.get('Verbal')    # Pull math scores data\n",
    "\n",
    "ax.set_title('Math and Verbal Scores vs. Participation Rate', fontsize=12, y=1.01) # Title\n",
    "ax.set_xticks([i for i in range(0,110,10)])                                        # Set x-axis tick marks\n",
    "ax.set_yticks([i for i in range(400,620,20)])                                      # Set y-axis tick marks\n",
    "\n",
    "#Label the axes\n",
    "ax.set_xlabel('Participation Rate')\n",
    "ax.set_ylabel('Test Scores')\n",
    "\n",
    "\n",
    "#Plot data and set the legend!\n",
    "plt.scatter(x, y, color='blue', marker='s', label = 'Math Scores')\n",
    "plt.scatter(x, z, color='red', marker='o', label = 'Verbal Scores')\n",
    "plt.legend(loc='best')\n",
    "\n",
    "plt.show()\n"
   ]
  },
  {
   "cell_type": "markdown",
   "metadata": {
    "nbpresent": {
     "id": "e1492844-0f26-4e24-9d97-1c982e6a5b09"
    }
   },
   "source": [
    "##### 20. Are there any interesting relationships to note?"
   ]
  },
  {
   "cell_type": "markdown",
   "metadata": {
    "collapsed": false
   },
   "source": [
    "In general, the relationship between Verbal and Math scores follows a linear relationship. States that perform poorly relative to other states in the Math section of the SAT's will probably also perform relatively poorly in the Verbal section. There is one significant exception to this relationship: Ohio. While the state's mean Verbal score is around the middle of the pack, it's mean Math score is much lower than that of any other state.\n",
    "\n",
    "Another observed trend is the negative relationship between participation rate and math and verbal scores. States with only 10 percent of students taking the SATs tend to perform better on math and verbal sections than states with more than fifty percent of students participating."
   ]
  },
  {
   "cell_type": "markdown",
   "metadata": {
    "nbpresent": {
     "id": "c9731674-7d7d-4689-8369-754a5b11ba92"
    }
   },
   "source": [
    "##### 21. Create box plots for each variable. "
   ]
  },
  {
   "cell_type": "code",
   "execution_count": 16,
   "metadata": {
    "collapsed": false,
    "nbpresent": {
     "id": "745ef163-f470-4263-b670-852a4a462d02"
    }
   },
   "outputs": [
    {
     "data": {
      "text/plain": [
       "<matplotlib.text.Text at 0x118247bd0>"
      ]
     },
     "execution_count": 16,
     "metadata": {},
     "output_type": "execute_result"
    },
    {
     "data": {
      "image/png": "[encoded data removed]",
      "text/plain": [
       "<matplotlib.figure.Figure at 0x117f0edd0>"
      ]
     },
     "metadata": {},
     "output_type": "display_data"
    }
   ],
   "source": [
    "# Pull in our data\n",
    "rate_data = scores_overview.get('Rate')\n",
    "verbal_data = scores_overview.get('Verbal')\n",
    "math_data = scores_overview.get('Math')\n",
    "\n",
    "# Create our figure and axes, adjust spacing.\n",
    "fig, axes = plt.subplots(1,3, figsize = (10,5))\n",
    "fig.subplots_adjust(wspace = 0.5, hspace = 0.25)\n",
    "\n",
    "# Create boxplots for each of our datasets - Rate, Verbal, and Math\n",
    "axes[0].boxplot(rate_data)\n",
    "axes[0].set_title('Participation Rate')\n",
    "axes[1].boxplot(verbal_data)\n",
    "axes[1].set_title('Verbal Scores')\n",
    "axes[2].boxplot(math_data)\n",
    "axes[2].set_title('Math Scores')"
   ]
  },
  {
   "cell_type": "markdown",
   "metadata": {
    "nbpresent": {
     "id": "83ce49ef-a234-43b7-8dc6-83448e6c7ba3"
    }
   },
   "source": [
    "##### BONUS: Using Tableau, create a heat map for each variable using a map of the US. "
   ]
  },
  {
   "cell_type": "markdown",
   "metadata": {
    "collapsed": true
   },
   "source": [
    "Images created using Tableau are located here: http://imgur.com/a/RGYkr."
   ]
  }
 ],
 "metadata": {
  "anaconda-cloud": {},
  "kernelspec": {
   "display_name": "Python [default]",
   "language": "python",
   "name": "python2"
  },
  "language_info": {
   "codemirror_mode": {
    "name": "ipython",
    "version": 2
   },
   "file_extension": ".py",
   "mimetype": "text/x-python",
   "name": "python",
   "nbconvert_exporter": "python",
   "pygments_lexer": "ipython2",
   "version": "2.7.12"
  }
 },
 "nbformat": 4,
 "nbformat_minor": 0
}
