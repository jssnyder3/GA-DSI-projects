{
 "cells": [
  {
   "cell_type": "markdown",
   "metadata": {},
   "source": [
    "# Welcome, welcome\n",
    "\n",
    "Welcome to my \"Online Store Manager\" - OSM, for short - essentially a minimum viable product that allows users to create and manage a store (in this case, an online drum shop). Under the hood, OSM's code showcases the use of Classes in python and how Object Oriented Programming can be valuable in creating flexible and powerful products. This entry will walk through an example of the code below.\n",
    "\n",
    "The overall framework of my OSM begins with the OSM class, in which I call the instantiation of the OnlineStore class with the CreateOnlineStore method. The method takes a name for the store, provides a template inventory, and then brings those attributes into the OnlineStore class. Within the OnlineStore class, we can purchase (i.e. remove) inventory as well as add inventory to our store. When purchasing items, we create instances of customers buying items. The Customer class holds data for each customer on their past purchases."
   ]
  },
  {
   "cell_type": "code",
   "execution_count": 1,
   "metadata": {
    "collapsed": true
   },
   "outputs": [],
   "source": [
    "class OSM(object):\n",
    "    \"\"\"Method CreateOnlineStore creates the store name and the inventory.\n",
    "    By creating the store, we instantiate the OnlineStore class (running through the store name, inventory, and\n",
    "    customers).\"\"\"\n",
    "    \n",
    "    def __init__(self):\n",
    "        self.stores = []\n",
    "    \n",
    "    def CreateOnlineStore(self, store_name):\n",
    "        \"\"\"Creates an online store by instantiating the OnlineStore class, giving that class a store name,\n",
    "        a fixed inventory with no items, and an empty dictionary of customers.\"\"\" \n",
    "        \n",
    "        online_store = OnlineStore(store_name,\n",
    "                                   inventory={'cymbal':0, 'drumsticks':0, 'snare drum':0,\n",
    "                                              'bass drum':0, 'floor tom':0, 'rack tom':0})\n",
    "        self.stores.append(online_store)\n",
    "        return online_store\n",
    "    \n",
    "    def store_count(self):\n",
    "        return len(self.stores)\n",
    "        \n",
    "class OnlineStore(object):\n",
    "    \"\"\"OnlineStore Class: Initializes a store name, inventory, and customers\"\"\"\n",
    "    \n",
    "    def __init__(self, name, inventory, customers=[]):\n",
    "        #Initialize Online Store attributes\n",
    "        self.name = name\n",
    "        self.inventory = inventory\n",
    "        self.customers = customers\n",
    "\n",
    "    \"\"\"OnlineStore.purchase accepts 3 variables: a product, and amount, and a customer\"\"\"\n",
    "    def purchase(self, product, amount, customer):\n",
    "        \n",
    "        if Customer(customer) not in self.customers:\n",
    "            self.customers.append(Customer(customer))         # Add customer to list of customers\n",
    "        \n",
    "        current_customer = self.customers[self.customers.index(Customer(customer))] # Find existing customer\n",
    "        current_customer.purchase(product, amount)            # Call the Purchase method under Customer class\n",
    " \n",
    "        # If statement to check if enough items in stock to sell. If there is, sell it!\n",
    "        if self.inventory[product] - amount < 0:\n",
    "            raise RuntimeError('Too few items in stock.')\n",
    "        elif self.inventory[product] - amount == 0:\n",
    "            self.inventory[product] = self.inventory[product] - amount\n",
    "            return 'Last {} sold. Consider adding more to inventory.'.format(product)\n",
    "        else:\n",
    "            self.inventory[product] = self.inventory[product] - amount\n",
    "    \n",
    "    \"\"\"add_inventory puts a product and a defined amount of it back into the inventory.\n",
    "    The function also checks if the product entered by the user is in the inventory dictionary. If not, the \n",
    "    item is not added.\"\"\"\n",
    "    def add_inventory(self, product, amount):\n",
    "        if product not in self.inventory.keys():\n",
    "            raise RuntimeError('Product is not in inventory.')\n",
    "        else:\n",
    "            self.inventory[product] = self.inventory[product] + amount\n",
    "    \n",
    "class Customer(object):\n",
    "    \"\"\"The Customer class creates and manages each customer's purchasing history\"\"\"\n",
    "    \n",
    "    def __init__(self, name, history=None):\n",
    "        self.name = name\n",
    "        self.history= {'cymbal': 0, 'drumsticks': 0, 'snare drum': 0,\n",
    "                       'bass drum': 0, 'floor tom': 0, 'rack tom': 0}\n",
    "\n",
    "    # Add item to purchase history\n",
    "    def purchase(self, product, amount):\n",
    "        self.history[product] = self.history[product] + amount\n",
    "        \n",
    "    def __eq__(self, other):\n",
    "        return self.name == other.name\n",
    "        \n",
    "    def __repr__(self):\n",
    "        return self.name\n"
   ]
  },
  {
   "cell_type": "markdown",
   "metadata": {},
   "source": [
    "### Getting started\n",
    "First, we'll set up our first store by creating a variable for the OSM class and then creating a variable that instantiates the OSM (and subsequently OnlineStore) class."
   ]
  },
  {
   "cell_type": "code",
   "execution_count": 2,
   "metadata": {
    "collapsed": false
   },
   "outputs": [
    {
     "name": "stdout",
     "output_type": "stream",
     "text": [
      "The drum store name is Dale's Drum Shop.\n",
      "Our inventory looks like this: {'drumsticks': 0, 'cymbal': 0, 'floor tom': 0, 'rack tom': 0, 'bass drum': 0, 'snare drum': 0}\n"
     ]
    }
   ],
   "source": [
    "osm = OSM()\n",
    "osm\n",
    "drum_store = osm.CreateOnlineStore(\"Dale's Drum Shop\")\n",
    "\n",
    "# Test to see that our store is set up:\n",
    "print \"The drum store name is {}.\".format(drum_store.name)\n",
    "print \"Our inventory looks like this: {}\".format(drum_store.inventory)"
   ]
  },
  {
   "cell_type": "markdown",
   "metadata": {},
   "source": [
    "Groovy. Let's try buying something. I've got a show coming up and am in dire need for a few pairs of drumsticks. We can call the \"purchase\" method under the OnlineStore class (named by us as \"drum_store,\" above) by including the product name we want, the amount of that product, and the customer buying the product."
   ]
  },
  {
   "cell_type": "code",
   "execution_count": 3,
   "metadata": {
    "collapsed": false,
    "scrolled": true
   },
   "outputs": [
    {
     "ename": "RuntimeError",
     "evalue": "Too few items in stock.",
     "output_type": "error",
     "traceback": [
      "\u001b[0;31m---------------------------------------------------------------------------\u001b[0m",
      "\u001b[0;31mRuntimeError\u001b[0m                              Traceback (most recent call last)",
      "\u001b[0;32m<ipython-input-3-bfb0c8921a4c>\u001b[0m in \u001b[0;36m<module>\u001b[0;34m()\u001b[0m\n\u001b[0;32m----> 1\u001b[0;31m \u001b[0mdrum_store\u001b[0m\u001b[0;34m.\u001b[0m\u001b[0mpurchase\u001b[0m\u001b[0;34m(\u001b[0m\u001b[0;34m'drumsticks'\u001b[0m\u001b[0;34m,\u001b[0m \u001b[0;36m3\u001b[0m\u001b[0;34m,\u001b[0m \u001b[0;34m'John'\u001b[0m\u001b[0;34m)\u001b[0m\u001b[0;34m\u001b[0m\u001b[0m\n\u001b[0m",
      "\u001b[0;32m<ipython-input-1-ef443f17bec1>\u001b[0m in \u001b[0;36mpurchase\u001b[0;34m(self, product, amount, customer)\u001b[0m\n\u001b[1;32m     40\u001b[0m         \u001b[0;31m# If statement to check if enough items in stock to sell. If there is, sell it!\u001b[0m\u001b[0;34m\u001b[0m\u001b[0;34m\u001b[0m\u001b[0m\n\u001b[1;32m     41\u001b[0m         \u001b[0;32mif\u001b[0m \u001b[0mself\u001b[0m\u001b[0;34m.\u001b[0m\u001b[0minventory\u001b[0m\u001b[0;34m[\u001b[0m\u001b[0mproduct\u001b[0m\u001b[0;34m]\u001b[0m \u001b[0;34m-\u001b[0m \u001b[0mamount\u001b[0m \u001b[0;34m<\u001b[0m \u001b[0;36m0\u001b[0m\u001b[0;34m:\u001b[0m\u001b[0;34m\u001b[0m\u001b[0m\n\u001b[0;32m---> 42\u001b[0;31m             \u001b[0;32mraise\u001b[0m \u001b[0mRuntimeError\u001b[0m\u001b[0;34m(\u001b[0m\u001b[0;34m'Too few items in stock.'\u001b[0m\u001b[0;34m)\u001b[0m\u001b[0;34m\u001b[0m\u001b[0m\n\u001b[0m\u001b[1;32m     43\u001b[0m         \u001b[0;32melif\u001b[0m \u001b[0mself\u001b[0m\u001b[0;34m.\u001b[0m\u001b[0minventory\u001b[0m\u001b[0;34m[\u001b[0m\u001b[0mproduct\u001b[0m\u001b[0;34m]\u001b[0m \u001b[0;34m-\u001b[0m \u001b[0mamount\u001b[0m \u001b[0;34m==\u001b[0m \u001b[0;36m0\u001b[0m\u001b[0;34m:\u001b[0m\u001b[0;34m\u001b[0m\u001b[0m\n\u001b[1;32m     44\u001b[0m             \u001b[0mself\u001b[0m\u001b[0;34m.\u001b[0m\u001b[0minventory\u001b[0m\u001b[0;34m[\u001b[0m\u001b[0mproduct\u001b[0m\u001b[0;34m]\u001b[0m \u001b[0;34m=\u001b[0m \u001b[0mself\u001b[0m\u001b[0;34m.\u001b[0m\u001b[0minventory\u001b[0m\u001b[0;34m[\u001b[0m\u001b[0mproduct\u001b[0m\u001b[0;34m]\u001b[0m \u001b[0;34m-\u001b[0m \u001b[0mamount\u001b[0m\u001b[0;34m\u001b[0m\u001b[0m\n",
      "\u001b[0;31mRuntimeError\u001b[0m: Too few items in stock."
     ]
    }
   ],
   "source": [
    "drum_store.purchase('drumsticks', 3, 'John')"
   ]
  },
  {
   "cell_type": "markdown",
   "metadata": {},
   "source": [
    "Ack! The store doesn't have any items in its inventory yet, and my show is tomorrow! Fortunately for me, this is a hypothetical exercise, though it also only takes a quick line of code to rectify our drumstick shortage:"
   ]
  },
  {
   "cell_type": "code",
   "execution_count": 4,
   "metadata": {
    "collapsed": false
   },
   "outputs": [
    {
     "name": "stdout",
     "output_type": "stream",
     "text": [
      "{'drumsticks': 25, 'cymbal': 0, 'floor tom': 0, 'rack tom': 0, 'bass drum': 0, 'snare drum': 0}\n"
     ]
    }
   ],
   "source": [
    "drum_store.add_inventory('drumsticks', 25)\n",
    "print drum_store.inventory"
   ]
  },
  {
   "cell_type": "markdown",
   "metadata": {},
   "source": [
    "We can now see that our inventory has 25 drumsticks added. Let's go ahead and add more items to the inventory."
   ]
  },
  {
   "cell_type": "code",
   "execution_count": 5,
   "metadata": {
    "collapsed": false
   },
   "outputs": [
    {
     "name": "stdout",
     "output_type": "stream",
     "text": [
      "{'drumsticks': 50, 'cymbal': 25, 'floor tom': 25, 'rack tom': 25, 'bass drum': 25, 'snare drum': 25}\n"
     ]
    }
   ],
   "source": [
    "for items in drum_store.inventory.keys():\n",
    "    drum_store.add_inventory(items, 25)\n",
    "print drum_store.inventory"
   ]
  },
  {
   "cell_type": "markdown",
   "metadata": {},
   "source": [
    "Now that we have more items in our inventory, I'll purchase a few more items and bring in some friends to grab a few items as well."
   ]
  },
  {
   "cell_type": "code",
   "execution_count": 6,
   "metadata": {
    "collapsed": false
   },
   "outputs": [],
   "source": [
    "drum_store.purchase('cymbal', 3, 'John')\n",
    "drum_store.purchase('snare drum', 1, 'Ringo')\n",
    "drum_store.purchase('bass drum', 2, 'Neil')\n",
    "drum_store.purchase('floor tom', 2, 'Neil')\n",
    "drum_store.purchase('rack tom', 3, 'Neil')   # (Neil has a big drum set.)"
   ]
  },
  {
   "cell_type": "markdown",
   "metadata": {},
   "source": [
    "The above code removes items from the store's inventory while also adding purchased items to the purchase history of each customer.\n",
    "\n",
    "#### Summarizing store results\n",
    "Now that the store has seen a few more customers come in, we can quickly summarize what products have been purchased by each customer by grouping together their purchase histories.\n",
    "\n",
    "Note that in the OSM class in our code, we can view a list of the stores created within OSM as well as keep a count of the number we have created."
   ]
  },
  {
   "cell_type": "code",
   "execution_count": 7,
   "metadata": {
    "collapsed": false
   },
   "outputs": [
    {
     "data": {
      "text/plain": [
       "[John, Ringo, Neil]"
      ]
     },
     "execution_count": 7,
     "metadata": {},
     "output_type": "execute_result"
    }
   ],
   "source": [
    "drum_store.customers"
   ]
  },
  {
   "cell_type": "code",
   "execution_count": 8,
   "metadata": {
    "collapsed": false
   },
   "outputs": [
    {
     "name": "stdout",
     "output_type": "stream",
     "text": [
      "John {'drumsticks': 3, 'cymbal': 3, 'floor tom': 0, 'rack tom': 0, 'bass drum': 0, 'snare drum': 0}\n",
      "Ringo {'drumsticks': 0, 'cymbal': 0, 'floor tom': 0, 'rack tom': 0, 'bass drum': 0, 'snare drum': 1}\n",
      "Neil {'drumsticks': 0, 'cymbal': 0, 'floor tom': 2, 'rack tom': 3, 'bass drum': 2, 'snare drum': 0}\n"
     ]
    }
   ],
   "source": [
    "for customer in drum_store.customers:\n",
    "    print customer, customer.history\n"
   ]
  },
  {
   "cell_type": "markdown",
   "metadata": {},
   "source": [
    "### Overriding\n",
    "We override functions when determining whether customers at our store have purchased items there in the past. For example, Neil Peart made numerous transations at the store. By writing\n",
    "\n",
    "```def __eq__(self, other):\n",
    "    return self.name == other.name```\n",
    "\n",
    "we ensure that \"Neil\" is equal to \"Neil\" in our list of past customers."
   ]
  },
  {
   "cell_type": "markdown",
   "metadata": {},
   "source": [
    "### Cool, but what's next?\n",
    "\n",
    "As with any project, there are a _slew_ of directions we can take with this. As someone who likes making complex things easy to use, I see some obvious steps to take in making the OSM more user-friendly. Creating additional user prompts and incorporating them into variables, for example, could improve the user experience. And, once a higher volume of customers use the store, we could add some neat ways to summarize consumption.\n",
    "\n",
    "Obviously, not everyone wants to create and manage drum stores (I don't see why...), and so there are certainly opportunities to create much more flexibility in the OSM by allowing users to dictate their own _type_ of store as well as determine the items to be sold in their inventory. Additional perks like item prices could also be thrown into the mix - a 'zero-cent store' probably won't be in business for too long."
   ]
  },
  {
   "cell_type": "code",
   "execution_count": null,
   "metadata": {
    "collapsed": true
   },
   "outputs": [],
   "source": []
  }
 ],
 "metadata": {
  "anaconda-cloud": {},
  "kernelspec": {
   "display_name": "Python [conda root]",
   "language": "python",
   "name": "conda-root-py"
  },
  "language_info": {
   "codemirror_mode": {
    "name": "ipython",
    "version": 2
   },
   "file_extension": ".py",
   "mimetype": "text/x-python",
   "name": "python",
   "nbconvert_exporter": "python",
   "pygments_lexer": "ipython2",
   "version": "2.7.12"
  }
 },
 "nbformat": 4,
 "nbformat_minor": 1
}
