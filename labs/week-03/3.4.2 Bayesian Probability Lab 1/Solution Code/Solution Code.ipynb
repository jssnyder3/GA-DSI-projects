{
 "cells": [
  {
   "cell_type": "markdown",
   "metadata": {},
   "source": [
    "Let's consider two continous non-independet random variables $X,Y$ with the joint probability density.\n",
    "\n",
    "$$\\frac{dP_{(X,Y)}}{d\\lambda_L^2}(x,y) = \\frac{\\sqrt{15/16}}{2 \\pi}e^{-0.5((x-5)^2 + (y-3)^2 + 0.5*(x-5)(y-3))}$$ \n",
    "\n",
    "The density above could represent two stocks $X,Y$ which are correlated with each other.\n",
    "\n",
    "**Exercise 1:**\n",
    "Calculate the following expressions:\n",
    "1. The expectation value of $X$. $(E[X] = \\int dP_{(X,Y)}(x,y) x)$\n",
    "2. The expectation value of $Y$. $(E[Y] = \\int dP_{(X,Y)}(x,y) y)$\n",
    "3. Calculate $Var[X] = E[X^2] - (E[X])^2$\n",
    "4. Calculate $Var[Y] = E[Y^2] - (E[Y])^2$\n",
    "3. The Covariance which is defined by $Cov[X,Y] = \\frac{E[(X-E[X])(Y-E[Y])]}{\\sqrt{Var[X]Var[Y]}}$"
   ]
  },
  {
   "cell_type": "code",
   "execution_count": 1,
   "metadata": {
    "collapsed": false
   },
   "outputs": [
    {
     "name": "stdout",
     "output_type": "stream",
     "text": [
      "4.9999999995\n",
      "3.00000000044\n",
      "1.06666667102\n",
      "1.06666666358\n",
      "-0.24999999941\n"
     ]
    }
   ],
   "source": [
    "import numpy as np\n",
    "from numpy import linalg\n",
    "from scipy.integrate import nquad, quad\n",
    "from matplotlib import pyplot as plt\n",
    "%matplotlib inline\n",
    "\n",
    "# prob of X,Y\n",
    "p = lambda x,y: np.sqrt(15./16)/(2*np.pi)*np.exp(-0.5*((x-5)**2 + (y-3)**2 + 0.5*(x-5)*(y-3)))\n",
    "\n",
    "E = lambda f: nquad(lambda x,y: f(x,y)*p(x,y), [[-np.infty, np.infty],[-np.infty, np.infty]])[0]\n",
    "fx = lambda x,y : x\n",
    "fy = lambda x,y : y\n",
    "fx2 = lambda x,y:x**2\n",
    "fy2 = lambda x,y:y**2\n",
    "Efx = E(fx)\n",
    "print Efx\n",
    "Efy = E(fy)\n",
    "print E(fy)\n",
    "\n",
    "\n",
    "fxy = lambda x,y: (x-Efx)*(y-Efy)\n",
    "varx = E(fx2) - Efx**2\n",
    "print varx\n",
    "vary = E(fy2) - Efy**2\n",
    "print vary\n",
    "cov = E(fxy)/np.sqrt(varx*vary)\n",
    "print cov\n"
   ]
  },
  {
   "cell_type": "markdown",
   "metadata": {},
   "source": [
    "**Exercise 2:**\n",
    "    \n",
    "Calculate and plot the marginal probability denisty defined by \n",
    "$$\\frac{dP_X}{d\\lambda_L}(x) = \\int_{y = - \\infty}^{y = \\infty} d\\lambda_L(y) \\frac{dP_{(X,Y)}}{d\\lambda_L^2}(x,y)$$"
   ]
  },
  {
   "cell_type": "code",
   "execution_count": 48,
   "metadata": {
    "collapsed": false
   },
   "outputs": [
    {
     "data": {
      "text/plain": [
       "[<matplotlib.lines.Line2D at 0x109dd8190>]"
      ]
     },
     "execution_count": 48,
     "metadata": {},
     "output_type": "execute_result"
    },
    {
     "data": {
      "image/png": "[encoded data removed]",
      "text/plain": [
       "<matplotlib.figure.Figure at 0x1099d4f90>"
      ]
     },
     "metadata": {},
     "output_type": "display_data"
    }
   ],
   "source": [
    "px = lambda x: quad(lambda y: p(x,y), -np.infty, np.infty)[0]\n",
    "px = np.vectorize(px)\n",
    "X = np.arange(-10,10,0.01)\n",
    "plt.plot(X,px(X))"
   ]
  },
  {
   "cell_type": "code",
   "execution_count": 49,
   "metadata": {
    "collapsed": true
   },
   "outputs": [],
   "source": [
    "px2 = lambda x: quad(lambda y: p(x,y), -np.infty, np.infty)[0]\n",
    "X = np.arange(-10,10,0.01)\n",
    "my_list = []\n",
    "for x in X:\n",
    "    my_list.append(px2(x))"
   ]
  },
  {
   "cell_type": "code",
   "execution_count": 50,
   "metadata": {
    "collapsed": false
   },
   "outputs": [
    {
     "data": {
      "text/plain": [
       "[<matplotlib.lines.Line2D at 0x109e8a250>]"
      ]
     },
     "execution_count": 50,
     "metadata": {},
     "output_type": "execute_result"
    },
    {
     "data": {
      "image/png": "[encoded data removed]",
      "text/plain": [
       "<matplotlib.figure.Figure at 0x109df8dd0>"
      ]
     },
     "metadata": {},
     "output_type": "display_data"
    }
   ],
   "source": [
    "plt.plot(X,my_list)"
   ]
  },
  {
   "cell_type": "markdown",
   "metadata": {},
   "source": [
    "**Excersie 3:**\n",
    "\n",
    "* Calculate the conditional probability $P(Y<3 | X>5) = \\frac{P(Y<3 \\cap X>5)}{P(X>5)}$. \n",
    "* If you use this model to model two stocks and use the result from exercise 1 how could you interpret the conditional expectation value?"
   ]
  },
  {
   "cell_type": "code",
   "execution_count": 93,
   "metadata": {
    "collapsed": false
   },
   "outputs": [
    {
     "name": "stdout",
     "output_type": "stream",
     "text": [
      " 58.04%\n"
     ]
    }
   ],
   "source": [
    "condP = nquad(p, [[5, np.infty],[-np.infty,3]])[0]/quad(px, 5,np.infty)[0]\n",
    "print('{0: .2%}'.format(condP))"
   ]
  }
 ],
 "metadata": {
  "anaconda-cloud": {},
  "kernelspec": {
   "display_name": "Python [default]",
   "language": "python",
   "name": "python2"
  },
  "language_info": {
   "codemirror_mode": {
    "name": "ipython",
    "version": 2
   },
   "file_extension": ".py",
   "mimetype": "text/x-python",
   "name": "python",
   "nbconvert_exporter": "python",
   "pygments_lexer": "ipython2",
   "version": "2.7.12"
  }
 },
 "nbformat": 4,
 "nbformat_minor": 1
}
