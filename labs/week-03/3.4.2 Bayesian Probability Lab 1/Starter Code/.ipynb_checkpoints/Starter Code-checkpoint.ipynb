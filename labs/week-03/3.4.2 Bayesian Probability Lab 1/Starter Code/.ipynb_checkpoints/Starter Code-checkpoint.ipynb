{
 "cells": [
  {
   "cell_type": "markdown",
   "metadata": {},
   "source": [
    "Let's consider two continous non-independet random variables $X,Y$ with the joint probability density.\n",
    "\n",
    "$$\\frac{dP_{(X,Y)}}{d\\lambda_L^2}(x,y) = \\frac{\\sqrt{15/16}}{2 \\pi}e^{-0.5((x-5)^2 + (y-3)^2 + 0.5*(x-5)(y-3))}$$ \n",
    "\n",
    "The density above could represent two stocks $X,Y$ which are correlated with each other.\n",
    "\n",
    "**Exercise 1:**\n",
    "Calculate the following expressions:\n",
    "1. The expectation value of $X$. $(E[X] = \\int dP_{(X,Y)}(x,y) x)$\n",
    "2. The expectation value of $Y$. $(E[Y] = \\int dP_{(X,Y)}(x,y) y)$\n",
    "3. Calculate $Var[X] = E[X^2] - (E[X])^2$\n",
    "4. Calculate $Var[Y] = E[Y^2] - (E[Y])^2$\n",
    "3. The Covariance which is defined by $Cov[X,Y] = \\frac{E[(X-E[X])(Y-E[Y])]}{\\sqrt{Var[X]Var[Y]}}$"
   ]
  },
  {
   "cell_type": "code",
   "execution_count": 46,
   "metadata": {
    "collapsed": false
   },
   "outputs": [],
   "source": [
    "import numpy as np\n",
    "from matplotlib import pyplot as plt\n",
    "from scipy.special import binom as binomial\n",
    "from scipy.special import gamma\n",
    "from scipy import integrate\n",
    "%matplotlib inline\n"
   ]
  },
  {
   "cell_type": "code",
   "execution_count": 68,
   "metadata": {
    "collapsed": false
   },
   "outputs": [
    {
     "name": "stdout",
     "output_type": "stream",
     "text": [
      "4.9999999995\n"
     ]
    }
   ],
   "source": [
    "# 1. Calculate the expectation value of X.\n",
    "func = lambda x,y: (np.sqrt(15./16)/(2*np.pi))*np.exp(-0.5*((x-5)**2+(y-3)**2+(0.5*(x-5)*(y-3))))\n",
    "\n",
    "EX = integrate.nquad(lambda x,y: func(x,y) * x, [[-np.infty, np.infty],[-np.infty, np.infty]])\n",
    "print EX[0]\n"
   ]
  },
  {
   "cell_type": "code",
   "execution_count": 67,
   "metadata": {
    "collapsed": false
   },
   "outputs": [
    {
     "name": "stdout",
     "output_type": "stream",
     "text": [
      "3.00000000044\n"
     ]
    }
   ],
   "source": [
    "# 2. Calculate the expectation value of Y.\n",
    "EY = integrate.nquad(lambda x,y: func(x,y) * y, [[-np.infty, np.infty],[-np.infty, np.infty]])\n",
    "print EY[0]\n"
   ]
  },
  {
   "cell_type": "code",
   "execution_count": 62,
   "metadata": {
    "collapsed": false
   },
   "outputs": [
    {
     "name": "stdout",
     "output_type": "stream",
     "text": [
      "1.06666667102\n"
     ]
    }
   ],
   "source": [
    "# 3. Calculate Var[X]\n",
    "EX2 = integrate.nquad(lambda x,y: func(x,y) * x**2, [[-np.infty, np.infty],[-np.infty, np.infty]])\n",
    "\n",
    "VarX = EX2[0] - EX[0]**2\n",
    "print VarX"
   ]
  },
  {
   "cell_type": "code",
   "execution_count": 63,
   "metadata": {
    "collapsed": false
   },
   "outputs": [
    {
     "name": "stdout",
     "output_type": "stream",
     "text": [
      "1.06666666358\n"
     ]
    }
   ],
   "source": [
    "# 4. Calculate Var[Y]\n",
    "EY2 = integrate.nquad(lambda x,y: func(x,y) * y**2, [[-np.infty, np.infty],[-np.infty, np.infty]])\n",
    "\n",
    "VarY = EY2[0] - EY[0]**2\n",
    "print VarY"
   ]
  },
  {
   "cell_type": "code",
   "execution_count": 69,
   "metadata": {
    "collapsed": false
   },
   "outputs": [
    {
     "data": {
      "text/plain": [
       "-0.24999999940988013"
      ]
     },
     "execution_count": 69,
     "metadata": {},
     "output_type": "execute_result"
    }
   ],
   "source": [
    "# 5. Calculate covariance\n",
    "\n",
    "covnum = integrate.nquad(lambda x,y: func(x,y) * (x - EX[0])*(y - EY[0]), [[-np.infty, np.infty],[-np.infty, np.infty]])\n",
    "covXY = covnum / np.sqrt(VarX*VarY)\n",
    "covXY[0]\n",
    "\n"
   ]
  },
  {
   "cell_type": "markdown",
   "metadata": {},
   "source": [
    "**Exercise 2:**\n",
    "    \n",
    "Calculate and plot the marginal probability denisty defined by \n",
    "$$\\frac{dP_X}{d\\lambda_L}(x) = \\int_{y = - \\infty}^{y = \\infty} d\\lambda_L(y) \\frac{dP_{(X,Y)}}{d\\lambda_L^2}(x,y)$$"
   ]
  },
  {
   "cell_type": "code",
   "execution_count": null,
   "metadata": {
    "collapsed": true
   },
   "outputs": [],
   "source": []
  },
  {
   "cell_type": "markdown",
   "metadata": {},
   "source": [
    "**Exercise 3:**\n",
    "\n",
    "* Calculate the conditional probability $P(Y<3 | X>5) = \\frac{P(Y<3 \\cap X>5)}{P(X>5)}$. \n",
    "* If you use this model to model two stocks and use the result from exercise 1 how could you interpret the conditional expectation value?"
   ]
  },
  {
   "cell_type": "code",
   "execution_count": null,
   "metadata": {
    "collapsed": true
   },
   "outputs": [],
   "source": []
  }
 ],
 "metadata": {
  "anaconda-cloud": {},
  "kernelspec": {
   "display_name": "Python [conda root]",
   "language": "python",
   "name": "conda-root-py"
  },
  "language_info": {
   "codemirror_mode": {
    "name": "ipython",
    "version": 2
   },
   "file_extension": ".py",
   "mimetype": "text/x-python",
   "name": "python",
   "nbconvert_exporter": "python",
   "pygments_lexer": "ipython2",
   "version": "2.7.12"
  }
 },
 "nbformat": 4,
 "nbformat_minor": 1
}
