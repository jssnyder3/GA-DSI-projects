{
 "cells": [
  {
   "cell_type": "code",
   "execution_count": 1,
   "metadata": {
    "collapsed": false,
    "nbpresent": {
     "id": "849dee2c-a606-4edb-b037-68e445854129"
    },
    "slideshow": {
     "slide_type": "skip"
    }
   },
   "outputs": [
    {
     "name": "stderr",
     "output_type": "stream",
     "text": [
      "/Users/johnsnyder/anaconda/lib/python2.7/site-packages/matplotlib/font_manager.py:273: UserWarning: Matplotlib is building the font cache using fc-list. This may take a moment.\n",
      "  warnings.warn('Matplotlib is building the font cache using fc-list. This may take a moment.')\n"
     ]
    }
   ],
   "source": [
    "import emcee\n",
    "import numpy as np\n",
    "from matplotlib import pyplot as plt\n",
    "from scipy.special import binom, beta, gamma\n",
    "from scipy.optimize import minimize\n",
    "import seaborn as sns\n",
    "%matplotlib inline"
   ]
  },
  {
   "cell_type": "markdown",
   "metadata": {
    "nbpresent": {
     "id": "2e644e99-5fc0-4974-863e-808d4ca1f8f0"
    },
    "slideshow": {
     "slide_type": "slide"
    }
   },
   "source": [
    "# ![](https://ga-dash.s3.amazonaws.com/production/assets/logo-9f88ae6c9c3871690e33280fcf557f33.png) Binary Tree\n",
    "\n",
    "Week 8 | Day 1.2"
   ]
  },
  {
   "cell_type": "markdown",
   "metadata": {
    "slideshow": {
     "slide_type": "slide"
    }
   },
   "source": [
    "**Binary Tree**\n",
    "\n",
    "Binary trees are one of the standard data structures used in computer science and a usefull tool.\n",
    "![](tree.png) \n"
   ]
  },
  {
   "cell_type": "markdown",
   "metadata": {
    "slideshow": {
     "slide_type": "slide"
    }
   },
   "source": [
    "Basic defintion of a binary tree. \n",
    "\n",
    "1. Each Tree has a root.\n",
    "2. The root is a node.\n",
    "3. Each node has a value.\n",
    "4. Each node has at most 2 children.\n",
    "5. A node without children is called a leaf.\n",
    "\n",
    "Binary Tree algorithms rely heavily on recursion. "
   ]
  },
  {
   "cell_type": "code",
   "execution_count": 2,
   "metadata": {
    "collapsed": true,
    "slideshow": {
     "slide_type": "slide"
    }
   },
   "outputs": [],
   "source": [
    "# Basic class structure\n",
    "class btree:\n",
    "    def __init__(self):\n",
    "        self.root = node(None, None, None)\n",
    "\n",
    "class node:\n",
    "    def __init__(self, value, lchild, rchild):\n",
    "        self.value = value\n",
    "        self.lchild = lchild\n",
    "        self.rchild = rchild\n",
    "    \n",
    "    def __repr__(self):\n",
    "        return str(self.value)"
   ]
  },
  {
   "cell_type": "markdown",
   "metadata": {
    "slideshow": {
     "slide_type": "slide"
    }
   },
   "source": [
    "As an example of a recursive tree algorithm I can define the function find, which finds a node with a particular value."
   ]
  },
  {
   "cell_type": "code",
   "execution_count": 14,
   "metadata": {
    "collapsed": false,
    "slideshow": {
     "slide_type": "slide"
    }
   },
   "outputs": [],
   "source": [
    "class btree:\n",
    "    def __init__(self):\n",
    "        self.root = node(None, None, None)\n",
    "\n",
    "    def find(self, value):\n",
    "        return self.__find__(value, self.root)\n",
    "\n",
    "    def __find__(self, value, child):\n",
    "        if child == None:\n",
    "            pass\n",
    "        else:\n",
    "            if value == child.value:\n",
    "                return child\n",
    "            else:\n",
    "                r = self.__find__(value, child.rchild)\n",
    "                l = self.__find__(value, child.lchild)\n",
    "                if r != None:\n",
    "                    return r\n",
    "                else:\n",
    "                    return l\n",
    "           "
   ]
  },
  {
   "cell_type": "code",
   "execution_count": 15,
   "metadata": {
    "collapsed": false,
    "slideshow": {
     "slide_type": "slide"
    }
   },
   "outputs": [
    {
     "name": "stdout",
     "output_type": "stream",
     "text": [
      "1\n"
     ]
    }
   ],
   "source": [
    "root = node(0,node(1,None,None), node(2,None,None))\n",
    "newTree = btree()\n",
    "newTree.root = root\n",
    "print(newTree.find(1))"
   ]
  },
  {
   "cell_type": "markdown",
   "metadata": {
    "slideshow": {
     "slide_type": "slide"
    }
   },
   "source": [
    "**Binary Search Tree**\n",
    "\n",
    "A binary search tree is a binary tree in which the nodes are ordered. All values on the right are larger than the parent node value and all nodes on the left are equal or smaller than the parent node value. \n",
    "\n",
    "**NOTE:** A binary search tree is not confined to tests for smaller or greater. Any bool expression which will work. Go left if condition is true otherwise right. \n",
    "\n",
    "![](stree.png)"
   ]
  },
  {
   "cell_type": "code",
   "execution_count": 16,
   "metadata": {
    "collapsed": true,
    "slideshow": {
     "slide_type": "slide"
    }
   },
   "outputs": [],
   "source": [
    "class sbtree:\n",
    "    def __init__(self):\n",
    "        self.root = node(None, None, None)\n",
    "        \n",
    "    def __insert__(self, value, node):\n",
    "        if node == None:\n",
    "            node = node(value,None,None)\n",
    "        else:\n",
    "            if value <= node.value:\n",
    "                self.__insert__(value,node.lchild)\n",
    "            else:\n",
    "                self.__insert__(value,node.rchild)\n",
    "        "
   ]
  },
  {
   "cell_type": "code",
   "execution_count": null,
   "metadata": {
    "collapsed": true
   },
   "outputs": [],
   "source": []
  },
  {
   "cell_type": "markdown",
   "metadata": {
    "slideshow": {
     "slide_type": "slide"
    }
   },
   "source": [
    "**Independent Practice:**\n",
    "\n",
    "We want to use binary trees to encode and decode a message that consists of the alphabet and the encoding schema from the Entropy lecture. \n",
    "\n",
    "Encoding:\n",
    "1. We will use a binary search tree to encode a message. What bool condition will you need to build up the tree? \n",
    "2. How can you build the tree such that the search time is minimal (*bonus*)\n",
    "3. Build the tree.\n",
    "4. Given a string. Write an encoding method.\n",
    "\n",
    "Decoding:\n",
    "1. Develop a tree algorithm which decodes a sequences of 0 and 1s into a message. \n",
    "2. Build the tree. You can do it manually or write a function\n",
    "2. Write a method that decodes a message.\n",
    "\n",
    "Pick a partner and play the decoding encoding game. \n",
    "\n",
    "Bonus:\n",
    "\n",
    "Can you think of a way how to achieve the above using only one tree?"
   ]
  },
  {
   "cell_type": "code",
   "execution_count": 35,
   "metadata": {
    "collapsed": false
   },
   "outputs": [
    {
     "data": {
      "text/plain": [
       "12"
      ]
     },
     "execution_count": 35,
     "metadata": {},
     "output_type": "execute_result"
    }
   ],
   "source": [
    "# find middle of list and then children should be median of value above and median below\n",
    "\n",
    "letters = ['a','b','c','d','e','f','g','h','i','j','k','l','m','n','o','p','q','r','s','t','u','v','w','x','y','z']\n",
    "\n",
    "def mid(input_list):\n",
    "    middle = float(len(input_list))/2\n",
    "    if middle % 2 != 0:\n",
    "        return input_list[int(middle - .5)]\n",
    "    else:\n",
    "        return (input_list[int(middle)], input_list[int(middle-1)])\n",
    "    \n",
    "num = range(0,len(letters))\n",
    "mid(num)"
   ]
  },
  {
   "cell_type": "code",
   "execution_count": 28,
   "metadata": {
    "collapsed": false
   },
   "outputs": [
    {
     "name": "stdout",
     "output_type": "stream",
     "text": [
      "yellow\n",
      "at\n"
     ]
    }
   ],
   "source": [
    "# from https://interactivepython.org/courselib/static/pythonds/Trees/SearchTreeImplementation.html\n",
    "class TreeNode:\n",
    "    #\n",
    "    def __init__(self,key,val,left=None,right=None,parent=None):\n",
    "        self.key = key\n",
    "        self.payload = val\n",
    "        self.leftChild = left\n",
    "        self.rightChild = right\n",
    "        self.parent = parent\n",
    "\n",
    "    def hasLeftChild(self):\n",
    "        return self.leftChild\n",
    "\n",
    "    def hasRightChild(self):\n",
    "        return self.rightChild\n",
    "\n",
    "    def isLeftChild(self):\n",
    "        return self.parent and self.parent.leftChild == self\n",
    "\n",
    "    def isRightChild(self):\n",
    "        return self.parent and self.parent.rightChild == self\n",
    "\n",
    "    def isRoot(self):\n",
    "        return not self.parent\n",
    "\n",
    "    def isLeaf(self):\n",
    "        return not (self.rightChild or self.leftChild)\n",
    "\n",
    "    def hasAnyChildren(self):\n",
    "        return self.rightChild or self.leftChild\n",
    "\n",
    "    def hasBothChildren(self):\n",
    "        return self.rightChild and self.leftChild\n",
    "\n",
    "    def replaceNodeData(self,key,value,lc,rc):\n",
    "        self.key = key\n",
    "        self.payload = value\n",
    "        self.leftChild = lc\n",
    "        self.rightChild = rc\n",
    "        if self.hasLeftChild():\n",
    "            self.leftChild.parent = self\n",
    "        if self.hasRightChild():\n",
    "            self.rightChild.parent = self\n",
    "\n",
    "\n",
    "class BinarySearchTree:\n",
    "    \n",
    "    def __init__(self):\n",
    "        self.root = None\n",
    "        self.size = 0\n",
    "\n",
    "    def length(self):\n",
    "        return self.size\n",
    "\n",
    "    def __len__(self):\n",
    "        return self.size\n",
    "\n",
    "    def put(self,key,val):\n",
    "        if self.root:\n",
    "            self._put(key,val,self.root)\n",
    "        else:\n",
    "            self.root = TreeNode(key,val)\n",
    "        self.size = self.size + 1\n",
    "\n",
    "    def _put(self,key,val,currentNode):\n",
    "        if key < currentNode.key:\n",
    "            if currentNode.hasLeftChild():\n",
    "                   self._put(key,val,currentNode.leftChild)\n",
    "            else:\n",
    "                   currentNode.leftChild = TreeNode(key,val,parent=currentNode)\n",
    "        else:\n",
    "            if currentNode.hasRightChild():\n",
    "                   self._put(key,val,currentNode.rightChild)\n",
    "            else:\n",
    "                   currentNode.rightChild = TreeNode(key,val,parent=currentNode)\n",
    "\n",
    "    def __setitem__(self,k,v):\n",
    "        self.put(k,v)\n",
    "\n",
    "    def get(self,key):\n",
    "        if self.root:\n",
    "            res = self._get(key,self.root)\n",
    "            if res:\n",
    "                return res.payload\n",
    "            else:\n",
    "                return None\n",
    "        else:\n",
    "            return None\n",
    "\n",
    "    def _get(self,key,currentNode):\n",
    "        if not currentNode:\n",
    "            return None\n",
    "        elif currentNode.key == key:\n",
    "            return currentNode\n",
    "        elif key < currentNode.key:\n",
    "            return self._get(key,currentNode.leftChild)\n",
    "        else:\n",
    "            return self._get(key,currentNode.rightChild)\n",
    "\n",
    "    def __getitem__(self,key):\n",
    "        return self.get(key)\n",
    "\n",
    "    def __contains__(self,key):\n",
    "        if self._get(key,self.root):\n",
    "            return True\n",
    "        else:\n",
    "            return False\n",
    "\n",
    "    def delete(self,key):\n",
    "        if self.size > 1:\n",
    "            nodeToRemove = self._get(key,self.root)\n",
    "            if nodeToRemove:\n",
    "                self.remove(nodeToRemove)\n",
    "                self.size = self.size-1\n",
    "            else:\n",
    "                raise KeyError('Error, key not in tree')\n",
    "        elif self.size == 1 and self.root.key == key:\n",
    "            self.root = None\n",
    "            self.size = self.size - 1\n",
    "        else:\n",
    "            raise KeyError('Error, key not in tree')\n",
    "\n",
    "    def __delitem__(self,key):\n",
    "        self.delete(key)\n",
    "\n",
    "    def spliceOut(self):\n",
    "        if self.isLeaf():\n",
    "            if self.isLeftChild():\n",
    "                self.parent.leftChild = None\n",
    "            else:\n",
    "                self.parent.rightChild = None\n",
    "        elif self.hasAnyChildren():\n",
    "            if self.hasLeftChild():\n",
    "                if self.isLeftChild():\n",
    "                    self.parent.leftChild = self.leftChild\n",
    "                else:\n",
    "                    self.parent.rightChild = self.leftChild\n",
    "                    self.leftChild.parent = self.parent\n",
    "            else:\n",
    "                if self.isLeftChild():\n",
    "                    self.parent.leftChild = self.rightChild\n",
    "                else:\n",
    "                    self.parent.rightChild = self.rightChild\n",
    "                    self.rightChild.parent = self.parent\n",
    "\n",
    "    def findSuccessor(self):\n",
    "        succ = None\n",
    "        if self.hasRightChild():\n",
    "            succ = self.rightChild.findMin()\n",
    "        else:\n",
    "            if self.parent:\n",
    "                if self.isLeftChild():\n",
    "                    succ = self.parent\n",
    "                else:\n",
    "                    self.parent.rightChild = None\n",
    "                    succ = self.parent.findSuccessor()\n",
    "                    self.parent.rightChild = self\n",
    "        return succ\n",
    "\n",
    "    def findMin(self):\n",
    "        current = self\n",
    "        while current.hasLeftChild():\n",
    "            current = current.leftChild\n",
    "        return current\n",
    "\n",
    "    def remove(self,currentNode):\n",
    "        if currentNode.isLeaf(): #leaf\n",
    "            if currentNode == currentNode.parent.leftChild:\n",
    "                currentNode.parent.leftChild = None\n",
    "            else:\n",
    "                currentNode.parent.rightChild = None\n",
    "        elif currentNode.hasBothChildren(): #interior\n",
    "            succ = currentNode.findSuccessor()\n",
    "            succ.spliceOut()\n",
    "            currentNode.key = succ.key\n",
    "            currentNode.payload = succ.payload\n",
    "\n",
    "        else: # this node has one child\n",
    "            if currentNode.hasLeftChild():\n",
    "                if currentNode.isLeftChild():\n",
    "                    currentNode.leftChild.parent = currentNode.parent\n",
    "                    currentNode.parent.leftChild = currentNode.leftChild\n",
    "                elif currentNode.isRightChild():\n",
    "                    currentNode.leftChild.parent = currentNode.parent\n",
    "                    currentNode.parent.rightChild = currentNode.leftChild\n",
    "                else:\n",
    "                    currentNode.replaceNodeData(currentNode.leftChild.key,\n",
    "                                    currentNode.leftChild.payload,\n",
    "                                    currentNode.leftChild.leftChild,\n",
    "                                    currentNode.leftChild.rightChild)\n",
    "            else:\n",
    "                if currentNode.isLeftChild():\n",
    "                    currentNode.rightChild.parent = currentNode.parent\n",
    "                    currentNode.parent.leftChild = currentNode.rightChild\n",
    "                elif currentNode.isRightChild():\n",
    "                    currentNode.rightChild.parent = currentNode.parent\n",
    "                    currentNode.parent.rightChild = currentNode.rightChild\n",
    "                else:\n",
    "                    currentNode.replaceNodeData(currentNode.rightChild.key,\n",
    "                                    currentNode.rightChild.payload,\n",
    "                                    currentNode.rightChild.leftChild,\n",
    "                                    currentNode.rightChild.rightChild)\n",
    "\n",
    "mytree = BinarySearchTree()\n",
    "mytree[3]=\"red\"\n",
    "mytree[4]=\"blue\"\n",
    "mytree[6]=\"yellow\"\n",
    "mytree[2]=\"at\"\n",
    "\n",
    "print(mytree[6])\n",
    "print(mytree[2])\n"
   ]
  },
  {
   "cell_type": "code",
   "execution_count": 38,
   "metadata": {
    "collapsed": false
   },
   "outputs": [
    {
     "name": "stdout",
     "output_type": "stream",
     "text": [
      "[12]\n",
      "[12, (6, 5)]\n",
      "[12, (6, 5), 19]\n"
     ]
    },
    {
     "ename": "IndexError",
     "evalue": "failed to coerce slice entry of type tuple to integer",
     "output_type": "error",
     "traceback": [
      "\u001b[0;31m---------------------------------------------------------------------------\u001b[0m",
      "\u001b[0;31mIndexError\u001b[0m                                Traceback (most recent call last)",
      "\u001b[0;32m<ipython-input-38-bcfa2908f64b>\u001b[0m in \u001b[0;36m<module>\u001b[0;34m()\u001b[0m\n\u001b[1;32m     16\u001b[0m         \u001b[0morder\u001b[0m\u001b[0;34m.\u001b[0m\u001b[0mappend\u001b[0m\u001b[0;34m(\u001b[0m\u001b[0mNone\u001b[0m\u001b[0;34m)\u001b[0m\u001b[0;34m\u001b[0m\u001b[0m\n\u001b[1;32m     17\u001b[0m     \u001b[0;32melse\u001b[0m\u001b[0;34m:\u001b[0m\u001b[0;34m\u001b[0m\u001b[0m\n\u001b[0;32m---> 18\u001b[0;31m         \u001b[0morder\u001b[0m\u001b[0;34m.\u001b[0m\u001b[0mappend\u001b[0m\u001b[0;34m(\u001b[0m\u001b[0mmid\u001b[0m\u001b[0;34m(\u001b[0m\u001b[0mnum\u001b[0m\u001b[0;34m[\u001b[0m\u001b[0mmn\u001b[0m\u001b[0;34m:\u001b[0m\u001b[0mmx\u001b[0m\u001b[0;34m]\u001b[0m\u001b[0;34m)\u001b[0m\u001b[0;34m)\u001b[0m\u001b[0;34m\u001b[0m\u001b[0m\n\u001b[0m\u001b[1;32m     19\u001b[0m     \u001b[0mmm\u001b[0m\u001b[0;34m.\u001b[0m\u001b[0mappend\u001b[0m\u001b[0;34m(\u001b[0m\u001b[0;34m(\u001b[0m\u001b[0mmn\u001b[0m\u001b[0;34m,\u001b[0m\u001b[0mmx\u001b[0m\u001b[0;34m)\u001b[0m\u001b[0;34m)\u001b[0m\u001b[0;34m\u001b[0m\u001b[0m\n\u001b[1;32m     20\u001b[0m     \u001b[0;32mprint\u001b[0m\u001b[0;34m(\u001b[0m\u001b[0morder\u001b[0m\u001b[0;34m)\u001b[0m\u001b[0;34m\u001b[0m\u001b[0m\n",
      "\u001b[0;31mIndexError\u001b[0m: failed to coerce slice entry of type tuple to integer"
     ]
    }
   ],
   "source": [
    "# Phillippa - Began working on this with Alex. His code reflects the progress we made.\n",
    "order = [] # order of letters\n",
    "mm = [] # min max\n",
    "num = np.arange(0,len(letters))\n",
    "\n",
    "for i in range(len(letters)):\n",
    "    if i == 0:\n",
    "        mn = 0\n",
    "        mx = len(letters)\n",
    "    elif i % 2 == 0:\n",
    "        mn = order[i/2 - 1]+1\n",
    "        mx = mm[i/2-1][1]\n",
    "    else:\n",
    "        mn = mm[(i+1)/2-1][0]\n",
    "        mx = order[(i+1)/2-1]\n",
    "    if mx == 0:\n",
    "        order.append(None)\n",
    "    else:\n",
    "        order.append(mid(num[mn:mx]))\n",
    "    mm.append((mn,mx))\n",
    "    print(order)"
   ]
  },
  {
   "cell_type": "code",
   "execution_count": 32,
   "metadata": {
    "collapsed": false
   },
   "outputs": [],
   "source": [
    "order = [13, 6, 20, 2, 9, 16, 23, 0, 4, 7, 11, 14, 18, 21, 25, ' ',\\\n",
    "        1, 3, 5,6,8,10,12,13,15,17,19,20,22,24,26]"
   ]
  },
  {
   "cell_type": "code",
   "execution_count": 33,
   "metadata": {
    "collapsed": false
   },
   "outputs": [
    {
     "name": "stdout",
     "output_type": "stream",
     "text": [
      "[13, 6, 20, 2, 9, 16, 23, 0, 4, 7, 11, 14, 18, 21, 25, ' ', 1, 3, 5, 6, 8, 10, 12, 13, 15, 17, 19, 20, 22, 24, 26]\n"
     ]
    }
   ],
   "source": []
  },
  {
   "cell_type": "code",
   "execution_count": null,
   "metadata": {
    "collapsed": true
   },
   "outputs": [],
   "source": []
  }
 ],
 "metadata": {
  "anaconda-cloud": {},
  "celltoolbar": "Slideshow",
  "kernelspec": {
   "display_name": "Python [default]",
   "language": "python",
   "name": "python2"
  },
  "language_info": {
   "codemirror_mode": {
    "name": "ipython",
    "version": 2
   },
   "file_extension": ".py",
   "mimetype": "text/x-python",
   "name": "python",
   "nbconvert_exporter": "python",
   "pygments_lexer": "ipython2",
   "version": "2.7.12"
  },
  "nbpresent": {
   "slides": {
    "01ac97b4-94bf-49d6-9e85-52e507e41ae3": {
     "id": "01ac97b4-94bf-49d6-9e85-52e507e41ae3",
     "prev": "f8b3a21b-dcce-4d41-834b-4d18a87be0a8",
     "regions": {
      "8330a69c-376f-41c3-9094-982bf3ac7313": {
       "attrs": {
        "height": 0.8,
        "width": 0.8,
        "x": 0.1,
        "y": 0.1
       },
       "content": {
        "cell": "f0f80c6c-74d6-4fe4-8a5d-350ea93a221b",
        "part": "outputs"
       },
       "id": "8330a69c-376f-41c3-9094-982bf3ac7313"
      }
     }
    },
    "32802717-b61a-4305-8f3c-ced0b2d62d53": {
     "id": "32802717-b61a-4305-8f3c-ced0b2d62d53",
     "prev": "55b5777d-56e8-4ec1-b66f-fea15b25e620",
     "regions": {
      "b527424a-c836-4408-b078-5f1539726d3c": {
       "attrs": {
        "height": 0.8,
        "width": 0.8,
        "x": 0.1,
        "y": 0.1
       },
       "content": {
        "cell": "305b8a70-a90c-4e6f-bc95-b661470d6ba6",
        "part": "whole"
       },
       "id": "b527424a-c836-4408-b078-5f1539726d3c"
      }
     }
    },
    "3e05e1a8-5fad-4a6f-893f-439b33935cd1": {
     "id": "3e05e1a8-5fad-4a6f-893f-439b33935cd1",
     "prev": null,
     "regions": {
      "5327425f-cd25-407d-b2e7-9f4fcb054ba4": {
       "attrs": {
        "height": 0.8,
        "width": 0.8,
        "x": 0.1,
        "y": 0.1
       },
       "content": {
        "cell": "2e644e99-5fc0-4974-863e-808d4ca1f8f0",
        "part": "whole"
       },
       "id": "5327425f-cd25-407d-b2e7-9f4fcb054ba4"
      }
     }
    },
    "4d0641f3-e411-4e58-a7fd-bff7f3fdd8c7": {
     "id": "4d0641f3-e411-4e58-a7fd-bff7f3fdd8c7",
     "prev": "32802717-b61a-4305-8f3c-ced0b2d62d53",
     "regions": {
      "f747b82a-9ca0-4ad5-a8fb-0888c3808e96": {
       "attrs": {
        "height": 0.8,
        "width": 0.8,
        "x": 0.1,
        "y": 0.1
       },
       "content": {
        "cell": "a421f550-acbb-4738-9c76-62c42ddbf10a",
        "part": "whole"
       },
       "id": "f747b82a-9ca0-4ad5-a8fb-0888c3808e96"
      }
     }
    },
    "55b5777d-56e8-4ec1-b66f-fea15b25e620": {
     "id": "55b5777d-56e8-4ec1-b66f-fea15b25e620",
     "prev": "6a91e943-a2f7-4d9a-a0ae-80351c60cef5",
     "regions": {
      "cd6412c7-a16f-4c05-b631-c6b44627925a": {
       "attrs": {
        "height": 0.8,
        "width": 0.8,
        "x": 0.1,
        "y": 0.1
       },
       "content": {
        "cell": "fbce5931-5dfa-4ad1-8aff-a69ce3db00ef",
        "part": "whole"
       },
       "id": "cd6412c7-a16f-4c05-b631-c6b44627925a"
      }
     }
    },
    "6a91e943-a2f7-4d9a-a0ae-80351c60cef5": {
     "id": "6a91e943-a2f7-4d9a-a0ae-80351c60cef5",
     "prev": "3e05e1a8-5fad-4a6f-893f-439b33935cd1",
     "regions": {
      "39488a8e-25f8-4131-a2ab-4a303f0797e9": {
       "attrs": {
        "height": 0.8,
        "width": 0.8,
        "x": 0.1,
        "y": 0.1
       },
       "content": {
        "cell": "48ce03b4-21b6-4ce4-a5b2-d4ab5da7eed5",
        "part": "whole"
       },
       "id": "39488a8e-25f8-4131-a2ab-4a303f0797e9"
      }
     }
    },
    "f8b3a21b-dcce-4d41-834b-4d18a87be0a8": {
     "id": "f8b3a21b-dcce-4d41-834b-4d18a87be0a8",
     "prev": "4d0641f3-e411-4e58-a7fd-bff7f3fdd8c7",
     "regions": {
      "4ddb90c9-208f-4ab0-94fe-e8b06dcc3733": {
       "attrs": {
        "height": 0.8,
        "width": 0.8,
        "x": 0.1,
        "y": 0.1
       },
       "content": {
        "cell": "ecaed0c6-6911-4a49-b8b6-56bb63eeadaa",
        "part": "whole"
       },
       "id": "4ddb90c9-208f-4ab0-94fe-e8b06dcc3733"
      }
     }
    }
   },
   "themes": {}
  }
 },
 "nbformat": 4,
 "nbformat_minor": 0
}
