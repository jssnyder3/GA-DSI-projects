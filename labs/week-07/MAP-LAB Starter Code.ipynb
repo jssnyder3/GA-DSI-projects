{
 "cells": [
  {
   "cell_type": "markdown",
   "metadata": {},
   "source": [
    "## MAP Lab\n",
    "\n",
    "**Exercise**\n",
    "\n",
    "Let's compare the Ridge regression to the full baysian model from Project 4 (tide example)\n",
    "\n",
    "1. Plot the data points, the Baysian Regression Line and the Ridge Regression Line in one plot. Can you observe any difference? Discuss your result. \n",
    "2. The Ridge Regression makes prediction by taking the decision based upon the value of the Ridge Regression Line.\n",
    "For a fixed time t that uou can choose (for example t =5) calculate the integrate error rate (loss) between the Baysian Approach and the Ridge Regression. Discuss your pick of loss function."
   ]
  },
  {
   "cell_type": "code",
   "execution_count": 59,
   "metadata": {
    "collapsed": false
   },
   "outputs": [],
   "source": [
    "from scipy.special import binom, beta, gamma\n",
    "from scipy.optimize import minimize\n",
    "import seaborn as sns\n",
    "import numpy as np\n",
    "import matplotlib.pyplot as plt\n",
    "from scipy.integrate import quad, nquad\n",
    "from scipy.special import gamma\n",
    "from math import log\n",
    "import emcee\n",
    "from mpl_toolkits.mplot3d import Axes3D\n",
    "import pandas as pd\n",
    "import corner\n",
    "import collections\n",
    "%matplotlib inline\n",
    "\n",
    "class Bayes_Watch(object):\n",
    "    \"\"\"Accepts four arguments: Atom log likelihood, prior log, input data, number of walkers (must be even), \n",
    "    number of steps, vertical offset of the MCMC and list of variables.\"\"\"\n",
    "    def __init__(self, atom, prior, data, walkers, steps, vertical_offset, variable_names):\n",
    "        atom_log = atom\n",
    "        prior_log = prior\n",
    "        likelihood_log = lambda x: np.sum([atom_log(x)(e) for e in self.data])\n",
    "        lnprob = lambda x: likelihood_log(x) + prior_log(x)\n",
    "        self.data = data\n",
    "        self.steps = steps\n",
    "        self.walkers = walkers\n",
    "        self.variable_names = variable_names\n",
    "        self.parameter_values_w_labels = []\n",
    "        self.parameter_values = []\n",
    "        self.vertical_offset = vertical_offset\n",
    "        \n",
    "        #Monte Carlo for predictive distribution\n",
    "        self.MonteCarlo = lambda f: 1/float(len(self.samples))*sum([f(e) for e in self.samples])\n",
    "\n",
    "        #Run markov chain monte carlo\n",
    "        p0 = np.random.rand(self.walkers*len(self.variable_names))\\\n",
    "             .reshape((self.walkers,len(self.variable_names)))*self.vertical_offset\n",
    "        self.sampler = emcee.EnsembleSampler(self.walkers, len(self.variable_names), lnprob)\n",
    "        pos, prob, state = self.sampler.run_mcmc(p0, 1000)\n",
    "        self.sampler.reset()\n",
    "        pos, prob, state = self.sampler.run_mcmc(pos, self.steps)\n",
    "        self.samples = self.sampler.flatchain\n",
    "        print ('init and mcmc complete.')\n",
    "    \n",
    "    def estimate_model_parameters(self):\n",
    "        '''Call using () to set values of model parameters'''\n",
    "        self.parameter_values = self.MonteCarlo(lambda x: x)\n",
    "        self.parameter_values_w_labels = zip(self.variable_names, self.parameter_values)\n",
    "        return self.parameter_values_w_labels\n",
    "    \n",
    "    def plot_scatter(self, title = 'Data scatter plot', x_label = 'x', y_label = 'y'):\n",
    "        '''Create a scatter plot of data. Title=\"Regression over data\"; x_label=\"x\"; y_label=\"y\"'''\n",
    "        X = [x[0] for x in self.data]\n",
    "        T = [x[1] for x in self.data]\n",
    "        fig, ax = plt.subplots(1,1, figsize = (5,3))\n",
    "        ax.scatter(T,X)\n",
    "        ax.set_xlabel(x_label)\n",
    "        ax.set_ylabel(y_label)\n",
    "        ax.set_title(title)\n",
    "        ax.legend(loc = 'best', fontsize='small')\n",
    "        ax.grid()\n",
    "        \n",
    "    def plot_regression(self, regression, reg_plot_range=(-20,20), \\\n",
    "                        title = 'Regression over data', x_label = 'x', y_label = 'y'):\n",
    "        '''Create a scatter plot of data and regression line. Regression formula; reg_plot_range=(-20,20); \n",
    "        Title=\"Regression over data\"; x_label=\"x\"; y_label=\"y\"'''\n",
    "        self.Xval = np.arange(reg_plot_range[0],reg_plot_range[1],0.01) \n",
    "        self.Reg = np.array([regression(x)(self.parameter_values) for x in self.Xval])\n",
    "        X = [x[0] for x in self.data]\n",
    "        T = [x[1] for x in self.data]\n",
    "        fig, ax = plt.subplots(1,1, figsize = (5,3))\n",
    "        ax.scatter(T,X)\n",
    "        ax.plot(self.Xval, self.Reg, label = title, color = 'red')\n",
    "        ax.set_xlabel(x_label)\n",
    "        ax.set_ylabel(y_label)\n",
    "        ax.set_title(title)\n",
    "        ax.legend(loc = 'best', fontsize='small')\n",
    "        ax.grid()\n",
    "\n",
    "    def plot_probability_density(self):\n",
    "        sample_data = pd.DataFrame(self.samples, columns =[self.variable_names[0], self.variable_names[1], \n",
    "                                                           self.variable_names[2], self.variable_names[3]])\n",
    "        sample_data.plot(kind = 'density')\n",
    "\n",
    "    def predict_distribution(self, time, func, title=\"Predictive Distribution\"):\n",
    "        '''Plots prediction distribution around a user-specified time. Inputs: self; time (float); function; \n",
    "           title=\"Predictive Distribution\".'''\n",
    "        self.title = title\n",
    "        self.time = time\n",
    "        self.func = func\n",
    "        predictiveDist = lambda x: np.vectorize(lambda t: self.MonteCarlo(lambda d: self.func(t,x)(d)))\n",
    "        Xval = np.arange(0,25)\n",
    "        plt.plot(Xval,predictiveDist(self.time)(Xval))\n",
    "        plt.title(self.title)\n",
    "    \n",
    "    def plot_corner(self):\n",
    "        fig = corner.corner(self.samples, labels=self.variable_names)\n"
   ]
  },
  {
   "cell_type": "code",
   "execution_count": 60,
   "metadata": {
    "collapsed": true
   },
   "outputs": [],
   "source": [
    "data = [(12.676817787115283, 4.840968499185621),\n",
    " (3.0635215093963133, 3.14922059397124),\n",
    " (8.9357879700357667, 5.431164887988198),\n",
    " (13.150389074317657, 0.2734372074578954),\n",
    " (12.925121692101902, 5.02106046462978),\n",
    " (10.269853674176913, 3.7776881451798454),\n",
    " (8.5618490817719284, 1.7531496843623315),\n",
    " (11.652310665546354, 0.13740741237008774),\n",
    " (15.785676964359141, 0.1589401373556326),\n",
    " (10.709910995988764, 1.405806821770987),\n",
    " (7.1341191045745171, 5.791539306670335),\n",
    " (21.883583042704814, 5.375575646320319),\n",
    " (9.3509495831601566, 1.5283167578387404),\n",
    " (8.9421204746670746, 1.2943521169392636),\n",
    " (7.9107785943448947, 2.41326855106268),\n",
    " (6.6761875778137583, 5.605375440538395),\n",
    " (11.650996974527924, 4.935997586415922),\n",
    " (17.290020321649969, 5.274010438371379),\n",
    " (13.06634684581484, 0.2347909715055829),\n",
    " (9.2602800850011402, 1.9716673533870746),\n",
    " (13.919837953941261, 5.528598466510076),\n",
    " (7.9171739378319606, 5.84750784658713),\n",
    " (12.864499776009934, 0.8278490177929644),\n",
    " (10.571617689971236, 2.36723797633488),\n",
    " (15.697626403745566, 6.217581078023053),\n",
    " (6.9542139194365262, 3.1860455750181425),\n",
    " (13.120156492593505, 4.864593354788696),\n",
    " (11.454973850882114, 1.8798442605946453),\n",
    " (10.614021877252608, 0.8044135861997307),\n",
    " (7.568300166951679, 2.673290291826998),\n",
    " (10.183500038106194, 1.309623551484031),\n",
    " (13.503996786942462, 0.04020573153381622),\n",
    " (14.908454853041013, 5.049774593191907),\n",
    " (16.502324161297746, 5.406433813862234),\n",
    " (7.7831240000772652, 5.45198929005635),\n",
    " (2.7144705188261025, 4.10012261788714),\n",
    " (6.3268913726889187, 5.6611505113173575),\n",
    " (9.343465517423013, 3.2971190116581632),\n",
    " (10.029091959312348, 0.5986208146884879),\n",
    " (12.078957723820951, 0.3853462849024228),\n",
    " (12.542705834818268, 1.5820979005652125),\n",
    " (9.8489274946698337, 2.6735253975153426),\n",
    " (11.349497927312719, 1.1055955472925354),\n",
    " (11.06556939865615, 2.5611692213120962),\n",
    " (11.242786106546351, 0.6500902431293415),\n",
    " (7.5720317139333542, 3.4428084142928075),\n",
    " (10.19301456907124, 2.427329872753534),\n",
    " (11.688185995125892, 0.14941531339444405),\n",
    " (13.321217017544326, 4.226862591173392),\n",
    " (9.2226853401109601, 2.3990630763955374),\n",
    " (7.0737562512314449, 0.8821159241146929),\n",
    " (5.5158907409668556, 2.287657630597947),\n",
    " (5.2424711689478309, 3.4418528431658317),\n",
    " (11.826235109408199, 3.3038133315910185),\n",
    " (6.2478202112864949, 3.7493402648869223),\n",
    " (7.2776616254733053, 2.666108760536187),\n",
    " (14.728663233221567, 5.923646379789856),\n",
    " (11.088563226667782, 2.974838497958867),\n",
    " (11.458847468046265, 1.2931851555147837),\n",
    " (4.0709653063610656, 2.4390760560779694),\n",
    " (15.530850378396899, 0.7685325485891545),\n",
    " (11.615168564683962, 2.7271570577326223),\n",
    " (10.632288760396049, 5.37570954124343),\n",
    " (6.9102179020649883, 1.9530381191410195),\n",
    " (7.1344237045084675, 1.6373486764522571),\n",
    " (2.4211573415830188, 2.810112760589519),\n",
    " (7.6108111175276107, 4.181915055702122),\n",
    " (9.6538205198090434, 4.444382820070389),\n",
    " (8.1905132263562983, 3.0534156042900285),\n",
    " (7.4546566492388493, 5.388475797989607),\n",
    " (14.087818085722649, 4.961727257154151),\n",
    " (7.2780971375915371, 2.54178907740794),\n",
    " (13.49355600611988, 2.493864649506947),\n",
    " (7.1166182479555999, 3.0195450895358524),\n",
    " (13.861336288014931, 6.246482002469356),\n",
    " (9.9498449141955589, 1.5817110088866608),\n",
    " (12.090250168282912, 3.990269038499848),\n",
    " (14.0111497595614, 0.9108297343631235),\n",
    " (9.3928518482934216, 3.3950553805254793),\n",
    " (8.2709147406350212, 3.214121983305056),\n",
    " (8.386404092046515, 2.1119573572471135),\n",
    " (6.9673744914092852, 2.2083135342567983),\n",
    " (9.5162641851488523, 3.2184133097802943),\n",
    " (17.967580316152478, 3.965622119805391),\n",
    " (15.832368008468372, 0.828357131652206),\n",
    " (5.3317615928107358, 2.6644501925548774),\n",
    " (5.8971983697046877, 3.0341229253117494),\n",
    " (17.963906775041007, 6.0469989006758444),\n",
    " (5.6300726881847361, 2.4077579346402826),\n",
    " (11.348534324413565, 3.8699231013565725),\n",
    " (10.028167958705753, 1.9397974132848168),\n",
    " (14.062219131934697, 4.41603067403343),\n",
    " (9.10707255345568, 0.8011371320017451),\n",
    " (10.567716164156263, 4.450436137829604),\n",
    " (10.928830310193101, 4.839816330906595),\n",
    " (11.681478622619728, 0.8572196990559613),\n",
    " (11.538949263967641, 5.760338188965996),\n",
    " (10.978084516398958, 4.49756314191279),\n",
    " (12.818751132975834, 4.411544813273495),\n",
    " (6.7181748281785731, 5.484421751460473)]"
   ]
  },
  {
   "cell_type": "code",
   "execution_count": 61,
   "metadata": {
    "collapsed": false
   },
   "outputs": [
    {
     "name": "stdout",
     "output_type": "stream",
     "text": [
      "init and mcmc complete.\n"
     ]
    }
   ],
   "source": [
    "#model - takes prior log, likelihood log, - data and model parameters\n",
    "prior_log = lambda x: -0.5 * (x[0]**2 + x[1]**2 + x[2]**2 ) - x[3] \n",
    "\n",
    "variables = ['Omega0', 'Omega1', 'Omega2', 'Lambda']\n",
    "\n",
    "regression = lambda t: lambda m: m[0] + m[1]*np.sin(t) + m[2]*np.cos(t)\n",
    "\n",
    "atom_log = lambda x: lambda e: -np.infty if x[3] < 0 else 0.5 * np.log(x[3])-(x[3]/2)*\\\n",
    "                                (e[0]-(x[0]+x[1]*np.sin(e[1]) + x[2] * np.cos(e[1])))**2\n",
    "\n",
    "tides_run1 = Bayes_Watch(atom_log, prior_log, data, 20, 1000, 10, variables)\n"
   ]
  },
  {
   "cell_type": "code",
   "execution_count": 62,
   "metadata": {
    "collapsed": false
   },
   "outputs": [
    {
     "data": {
      "text/plain": [
       "[('Omega0', 9.44833504362159),\n",
       " ('Omega1', -0.58343294841915805),\n",
       " ('Omega2', 1.8053363189692384),\n",
       " ('Lambda', 0.096382268367299864)]"
      ]
     },
     "execution_count": 62,
     "metadata": {},
     "output_type": "execute_result"
    }
   ],
   "source": [
    "tides_run1.estimate_model_parameters()"
   ]
  },
  {
   "cell_type": "code",
   "execution_count": 63,
   "metadata": {
    "collapsed": false
   },
   "outputs": [
    {
     "data": {
      "image/png": "[encoded data removed]",
      "text/plain": [
       "<matplotlib.figure.Figure at 0x119eabf90>"
      ]
     },
     "metadata": {},
     "output_type": "display_data"
    }
   ],
   "source": [
    "tides_run1.plot_regression(regression,(0,6.5),'Tide height over time',\"Time\",\"Height\")"
   ]
  },
  {
   "cell_type": "code",
   "execution_count": 91,
   "metadata": {
    "collapsed": false
   },
   "outputs": [
    {
     "name": "stdout",
     "output_type": "stream",
     "text": [
      "[ 10.40028096  -0.7975271    2.15536657]\n"
     ]
    },
    {
     "data": {
      "text/plain": [
       "<matplotlib.legend.Legend at 0x11ac09210>"
      ]
     },
     "execution_count": 91,
     "metadata": {},
     "output_type": "execute_result"
    },
    {
     "data": {
      "image/png": "[encoded data removed]",
      "text/plain": [
       "<matplotlib.figure.Figure at 0x11a9aca50>"
      ]
     },
     "metadata": {},
     "output_type": "display_data"
    }
   ],
   "source": [
    "RLS = lambda w, b: 0.5*np.sum([(d[0] -(w[0]+w[1]*np.sin(d[1]) + w[2]*np.cos(d[1])))**2 for d in data])\\\n",
    "                              + 0.5*b*np.sum([e**2 for e in w])\n",
    "b = 1\n",
    "minRLS = minimize(lambda w: RLS(w,b),[0,0,0])\n",
    "print minRLS.x\n",
    "X = [x[0] for x in data]\n",
    "T = [x[1] for x in data]\n",
    "T1 = np.arange(0,6.5,0.01)\n",
    "RichRegLine = np.vectorize(lambda t: minRLS.x[0] + minRLS.x[1]*np.sin(t) + minRLS.x[2]*np.cos(t))\n",
    "Bayes_regression = lambda t: lambda m: m[0] + m[1]*np.sin(t) + m[2]*np.cos(t)\n",
    "plt.scatter(T,X)\n",
    "plt.plot(T1,RichRegLine(T1),label = 'RLS regression line')\n",
    "plt.plot(T1, Bayes_regression(T1)(tides_run1.parameter_values),label='Bayes regression line')\n",
    "plt.legend()"
   ]
  },
  {
   "cell_type": "code",
   "execution_count": 74,
   "metadata": {
    "collapsed": false
   },
   "outputs": [
    {
     "data": {
      "text/plain": [
       "11.776445050031258"
      ]
     },
     "execution_count": 74,
     "metadata": {},
     "output_type": "execute_result"
    }
   ],
   "source": [
    "max_post = lambda t: minRLS.x[0] + minRLS.x[1]*np.sin(t) + minRLS.x[2]*np.cos(t)\n",
    "max_post_value = max_post(5)\n",
    "max_post_value"
   ]
  },
  {
   "cell_type": "markdown",
   "metadata": {},
   "source": [
    "Defining our loss as the squared difference of our ridge prediction and our prediction using Bayes. \n",
    "For the estimate using Bayes, we need to take into account our prediction of Bayes. \n",
    "Use MCMC to find mu and lambda estimates."
   ]
  },
  {
   "cell_type": "code",
   "execution_count": 92,
   "metadata": {
    "collapsed": false
   },
   "outputs": [],
   "source": [
    "x_list = []\n",
    "for s in tides_run1.samples:\n",
    "    x_list.append(np.random.normal(s[0] + s[1]*np.sin(5)+s[2]*np.cos(5), 1./np.sqrt(s[3])))\n"
   ]
  },
  {
   "cell_type": "code",
   "execution_count": 94,
   "metadata": {
    "collapsed": false
   },
   "outputs": [
    {
     "data": {
      "text/plain": [
       "<matplotlib.axes._subplots.AxesSubplot at 0x11a01c310>"
      ]
     },
     "execution_count": 94,
     "metadata": {},
     "output_type": "execute_result"
    },
    {
     "data": {
      "image/png": "[encoded data removed]",
      "text/plain": [
       "<matplotlib.figure.Figure at 0x11a016890>"
      ]
     },
     "metadata": {},
     "output_type": "display_data"
    }
   ],
   "source": [
    "sns.distplot(x_list)"
   ]
  },
  {
   "cell_type": "code",
   "execution_count": 96,
   "metadata": {
    "collapsed": false
   },
   "outputs": [
    {
     "data": {
      "text/plain": [
       "12.366177582048584"
      ]
     },
     "execution_count": 96,
     "metadata": {},
     "output_type": "execute_result"
    }
   ],
   "source": [
    "def exp_val(f, samples):\n",
    "    N = len(samples)\n",
    "    return 1/float(N)*sum([f(e) for e in samples])\n",
    "quad_loss = lambda x : (max_post_value - x )**2\n",
    "exp_val(quad_loss, x_list)"
   ]
  },
  {
   "cell_type": "code",
   "execution_count": 97,
   "metadata": {
    "collapsed": false
   },
   "outputs": [
    {
     "data": {
      "text/plain": [
       "12.366177582048582"
      ]
     },
     "execution_count": 97,
     "metadata": {},
     "output_type": "execute_result"
    }
   ],
   "source": [
    "np.average([(max_post_value - x )**2 for x in x_list])"
   ]
  },
  {
   "cell_type": "code",
   "execution_count": 100,
   "metadata": {
    "collapsed": false
   },
   "outputs": [
    {
     "data": {
      "text/plain": [
       "array([ 9.44833504, -0.58343295,  1.80533632,  0.09638227])"
      ]
     },
     "execution_count": 100,
     "metadata": {},
     "output_type": "execute_result"
    }
   ],
   "source": [
    "np.average(tides_run1.samples, axis = 0)"
   ]
  },
  {
   "cell_type": "code",
   "execution_count": null,
   "metadata": {
    "collapsed": true
   },
   "outputs": [],
   "source": []
  }
 ],
 "metadata": {
  "anaconda-cloud": {},
  "kernelspec": {
   "display_name": "Python [conda root]",
   "language": "python",
   "name": "conda-root-py"
  },
  "language_info": {
   "codemirror_mode": {
    "name": "ipython",
    "version": 2
   },
   "file_extension": ".py",
   "mimetype": "text/x-python",
   "name": "python",
   "nbconvert_exporter": "python",
   "pygments_lexer": "ipython2",
   "version": "2.7.12"
  }
 },
 "nbformat": 4,
 "nbformat_minor": 1
}
