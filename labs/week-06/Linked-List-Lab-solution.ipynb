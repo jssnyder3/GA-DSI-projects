{
 "cells": [
  {
   "cell_type": "markdown",
   "metadata": {},
   "source": [
    "## Linked List Lab\n",
    "\n",
    "A linked list is a data structre frequently used in computer science and is part of a standard set of interview questions. Other common data structred are hash tables and trees which we will cover later in the course.\n",
    "\n",
    "![](assets/linked_list.png)\n",
    "\n",
    "A linked list starts with an entry point which is called a node. Each node has two attributes namely a value and a pointer to another node. In this lab we will create two classes. A class Node and a class Linked List to wrap the linked nodes.\n",
    "\n",
    "1. Create a class for Linked List that initializes a linked list and returns a pointer to the head of the linked list. \n",
    "2. Create a function (inside Linked List) that appends an element to the end of the linked list\n",
    "3. Create a function that pops an element from the end of the list\n",
    "4. Use \\__repr\\__ to print out the elements of the linked list\n",
    "5. Create a function that adds an element to the beginning of the list\n",
    "6. Create a function that delets the first element from the linked list\n",
    "\n",
    "\n",
    "**Bonus:**\n",
    "\n",
    "Create a circular linked list allowing you to access the linked list from the beginning and the end. Implement the functions above for the circular list. How can you increase the efficiency of the algorithm for inserting and deleting?"
   ]
  },
  {
   "cell_type": "code",
   "execution_count": 1,
   "metadata": {
    "collapsed": true
   },
   "outputs": [],
   "source": [
    "class Node:\n",
    "    def __init__( self, data ):\n",
    "        self.data = data\n",
    "        self.next = None"
   ]
  },
  {
   "cell_type": "code",
   "execution_count": 122,
   "metadata": {
    "collapsed": false
   },
   "outputs": [],
   "source": [
    "class LinkedList:\n",
    "    def __init__( self ):\n",
    "        self.head = None\n",
    "        self.tail = None\n",
    "\n",
    "    def AddNode(self, data):\n",
    "        new_node = Node(data)\n",
    "        if self.head == None:\n",
    "            self.head = new_node\n",
    "        if self.tail != None:\n",
    "            self.tail.next = new_node\n",
    "        self.tail = new_node\n",
    "    \n",
    "    def RemoveNode(self, index):\n",
    "        prev = None\n",
    "        node = self.head\n",
    "        i = 0\n",
    "        while (node != None ) and (i < index):\n",
    "            prev = node\n",
    "            node = node.next\n",
    "            i += 1\n",
    "        if prev == None:\n",
    "            out_node = self.head\n",
    "            self.head = node.next\n",
    "            return out_node\n",
    "        else:\n",
    "            out_node = node\n",
    "            prev.next = node.next\n",
    "            return out_node\n",
    "        \n",
    "    \n",
    "    def PrintList( self ):\n",
    "        node = self.head\n",
    "        while node != None:\n",
    "            print node.data\n",
    "            node = node.next\n",
    "            \n",
    "                     \n",
    "    def __repr__( self ):\n",
    "        starter = \"\"\n",
    "        node = self.head\n",
    "        while node != None:\n",
    "            starter = starter+str(node.data)+\", \"\n",
    "            node = node.next\n",
    "        return starter"
   ]
  },
  {
   "cell_type": "code",
   "execution_count": 123,
   "metadata": {
    "collapsed": true
   },
   "outputs": [],
   "source": [
    "ll =LinkedList()"
   ]
  },
  {
   "cell_type": "code",
   "execution_count": 124,
   "metadata": {
    "collapsed": true
   },
   "outputs": [],
   "source": [
    "import random"
   ]
  },
  {
   "cell_type": "code",
   "execution_count": 125,
   "metadata": {
    "collapsed": false
   },
   "outputs": [],
   "source": [
    "for i in range(10):\n",
    "    ll.AddNode(random.randint(0,10))\n"
   ]
  },
  {
   "cell_type": "code",
   "execution_count": 126,
   "metadata": {
    "collapsed": false
   },
   "outputs": [
    {
     "name": "stdout",
     "output_type": "stream",
     "text": [
      "10\n",
      "5\n",
      "7\n",
      "2\n",
      "1\n",
      "1\n",
      "4\n",
      "1\n",
      "8\n",
      "10\n"
     ]
    }
   ],
   "source": [
    "ll.PrintList()"
   ]
  },
  {
   "cell_type": "code",
   "execution_count": 120,
   "metadata": {
    "collapsed": false
   },
   "outputs": [
    {
     "data": {
      "text/plain": [
       "4"
      ]
     },
     "execution_count": 120,
     "metadata": {},
     "output_type": "execute_result"
    }
   ],
   "source": [
    "ll.RemoveNode(6).data"
   ]
  },
  {
   "cell_type": "code",
   "execution_count": 121,
   "metadata": {
    "collapsed": false
   },
   "outputs": [
    {
     "name": "stdout",
     "output_type": "stream",
     "text": [
      "1, 2, 4, 10, 4, 8, 2, 9, \n"
     ]
    }
   ],
   "source": [
    "print (ll)"
   ]
  },
  {
   "cell_type": "code",
   "execution_count": null,
   "metadata": {
    "collapsed": true
   },
   "outputs": [],
   "source": []
  },
  {
   "cell_type": "code",
   "execution_count": null,
   "metadata": {
    "collapsed": true
   },
   "outputs": [],
   "source": []
  }
 ],
 "metadata": {
  "anaconda-cloud": {},
  "kernelspec": {
   "display_name": "Python [default]",
   "language": "python",
   "name": "python2"
  },
  "language_info": {
   "codemirror_mode": {
    "name": "ipython",
    "version": 2
   },
   "file_extension": ".py",
   "mimetype": "text/x-python",
   "name": "python",
   "nbconvert_exporter": "python",
   "pygments_lexer": "ipython2",
   "version": "2.7.12"
  }
 },
 "nbformat": 4,
 "nbformat_minor": 1
}
